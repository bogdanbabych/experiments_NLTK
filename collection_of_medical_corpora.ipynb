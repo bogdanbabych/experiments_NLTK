{
  "nbformat": 4,
  "nbformat_minor": 0,
  "metadata": {
    "colab": {
      "provenance": [],
      "authorship_tag": "ABX9TyPHMYvatvaAd389k5KXcIS6",
      "include_colab_link": true
    },
    "kernelspec": {
      "name": "python3",
      "display_name": "Python 3"
    },
    "language_info": {
      "name": "python"
    }
  },
  "cells": [
    {
      "cell_type": "markdown",
      "metadata": {
        "id": "view-in-github",
        "colab_type": "text"
      },
      "source": [
        "<a href=\"https://colab.research.google.com/github/bogdanbabych/experiments_NLTK/blob/main/collection_of_medical_corpora.ipynb\" target=\"_parent\"><img src=\"https://colab.research.google.com/assets/colab-badge.svg\" alt=\"Open In Colab\"/></a>"
      ]
    },
    {
      "cell_type": "code",
      "execution_count": null,
      "metadata": {
        "id": "t8fznVgvzf6H"
      },
      "outputs": [],
      "source": [
        "!wget --recursive https://umj.com.ua/"
      ]
    },
    {
      "cell_type": "code",
      "source": [
        "!wget --recursive -nH --cut-dirs=2 --no-parent --reject=\"index.html*\" https://umj.com.ua/en/"
      ],
      "metadata": {
        "colab": {
          "base_uri": "https://localhost:8080/"
        },
        "id": "UVKiOLx20SEX",
        "outputId": "d587d66f-af46-466c-b80a-ef078aef81db"
      },
      "execution_count": 5,
      "outputs": [
        {
          "output_type": "stream",
          "name": "stdout",
          "text": [
            "--2025-05-26 13:41:32--  https://umj.com.ua/en/\n",
            "Resolving umj.com.ua (umj.com.ua)... 104.26.5.235, 104.26.4.235, 172.67.68.31, ...\n",
            "Connecting to umj.com.ua (umj.com.ua)|104.26.5.235|:443... connected.\n",
            "HTTP request sent, awaiting response... 301 Moved Permanently\n",
            "Location: /en [following]\n",
            "--2025-05-26 13:41:33--  https://umj.com.ua/en\n",
            "Reusing existing connection to umj.com.ua:443.\n",
            "HTTP request sent, awaiting response... 200 OK\n",
            "Length: unspecified [text/html]\n",
            "Saving to: ‘index.html.tmp’\n",
            "\n",
            "index.html.tmp          [ <=>                ] 173.96K  1.07MB/s    in 0.2s    \n",
            "\n",
            "2025-05-26 13:41:34 (1.07 MB/s) - ‘index.html.tmp’ saved [178131]\n",
            "\n",
            "Removing index.html.tmp since it should be rejected.\n",
            "\n",
            "FINISHED --2025-05-26 13:41:34--\n",
            "Total wall clock time: 1.7s\n",
            "Downloaded: 1 files, 174K in 0.2s (1.07 MB/s)\n"
          ]
        }
      ]
    }
  ]
}