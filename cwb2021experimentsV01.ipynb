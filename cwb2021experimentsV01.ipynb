{
  "nbformat": 4,
  "nbformat_minor": 0,
  "metadata": {
    "colab": {
      "name": "cwb2021experimentsV01.ipynb",
      "provenance": [],
      "collapsed_sections": [],
      "authorship_tag": "ABX9TyOHo4Dn+CMpeTMiKr8PbTx8",
      "include_colab_link": true
    },
    "kernelspec": {
      "name": "python3",
      "display_name": "Python 3"
    },
    "language_info": {
      "name": "python"
    }
  },
  "cells": [
    {
      "cell_type": "markdown",
      "metadata": {
        "id": "view-in-github",
        "colab_type": "text"
      },
      "source": [
        "<a href=\"https://colab.research.google.com/github/bogdanbabych/experiments_NLTK/blob/main/cwb2021experimentsV01.ipynb\" target=\"_parent\"><img src=\"https://colab.research.google.com/assets/colab-badge.svg\" alt=\"Open In Colab\"/></a>"
      ]
    },
    {
      "cell_type": "code",
      "execution_count": 1,
      "metadata": {
        "colab": {
          "base_uri": "https://localhost:8080/"
        },
        "id": "zAn_DUV0xv3Y",
        "outputId": "ee988f99-6e86-4ff2-95a6-91d8dad000db"
      },
      "outputs": [
        {
          "output_type": "stream",
          "name": "stdout",
          "text": [
            "--2021-12-28 07:36:57--  https://heibox.uni-heidelberg.de/f/7f1e8929352b4cf4b13a/?dl=1\n",
            "Resolving heibox.uni-heidelberg.de (heibox.uni-heidelberg.de)... 129.206.7.113\n",
            "Connecting to heibox.uni-heidelberg.de (heibox.uni-heidelberg.de)|129.206.7.113|:443... connected.\n",
            "HTTP request sent, awaiting response... 302 Found\n",
            "Location: https://heibox.uni-heidelberg.de/seafhttp/files/24e7c43c-c0fa-4737-9c26-f150a2e0bbc3/cwb-3.4.22-source.tar.gz [following]\n",
            "--2021-12-28 07:36:57--  https://heibox.uni-heidelberg.de/seafhttp/files/24e7c43c-c0fa-4737-9c26-f150a2e0bbc3/cwb-3.4.22-source.tar.gz\n",
            "Reusing existing connection to heibox.uni-heidelberg.de:443.\n",
            "HTTP request sent, awaiting response... 200 OK\n",
            "Length: 2196189 (2.1M) [application/octet-stream]\n",
            "Saving to: ‘index.html?dl=1’\n",
            "\n",
            "index.html?dl=1     100%[===================>]   2.09M  2.01MB/s    in 1.0s    \n",
            "\n",
            "2021-12-28 07:36:58 (2.01 MB/s) - ‘index.html?dl=1’ saved [2196189/2196189]\n",
            "\n"
          ]
        }
      ],
      "source": [
        "!wget https://heibox.uni-heidelberg.de/f/7f1e8929352b4cf4b13a/?dl=1"
      ]
    },
    {
      "cell_type": "code",
      "source": [
        "!mv index.html?dl=1 cwb-3.4.22-source.tar.gz"
      ],
      "metadata": {
        "id": "RISPCuS9ywar"
      },
      "execution_count": 2,
      "outputs": []
    },
    {
      "cell_type": "code",
      "source": [
        "!tar xvfz cwb-3.4.22-source.tar.gz"
      ],
      "metadata": {
        "id": "-9q2g4tHy526"
      },
      "execution_count": null,
      "outputs": []
    },
    {
      "cell_type": "code",
      "source": [
        "%cd /content/"
      ],
      "metadata": {
        "colab": {
          "base_uri": "https://localhost:8080/"
        },
        "id": "rp3bSfNz2bDc",
        "outputId": "acc7f783-dc53-40ab-c785-3412d3c049c9"
      },
      "execution_count": 4,
      "outputs": [
        {
          "output_type": "stream",
          "name": "stdout",
          "text": [
            "/content\n"
          ]
        }
      ]
    },
    {
      "cell_type": "code",
      "source": [
        "!apt-get install flex bison"
      ],
      "metadata": {
        "id": "xMCPjvHC2e0_"
      },
      "execution_count": null,
      "outputs": []
    },
    {
      "cell_type": "code",
      "source": [
        "%cd /content/cwb-3.4.22/"
      ],
      "metadata": {
        "colab": {
          "base_uri": "https://localhost:8080/"
        },
        "id": "ppn0btNhzB1O",
        "outputId": "2c429015-15cf-4a1f-a95f-cffae305d9d4"
      },
      "execution_count": 6,
      "outputs": [
        {
          "output_type": "stream",
          "name": "stdout",
          "text": [
            "/content/cwb-3.4.22\n"
          ]
        }
      ]
    },
    {
      "cell_type": "code",
      "source": [
        "!pwd"
      ],
      "metadata": {
        "colab": {
          "base_uri": "https://localhost:8080/"
        },
        "id": "7zyvBPLDzFT8",
        "outputId": "86263f69-eb7b-42c4-f8ea-3f8bb0e5f502"
      },
      "execution_count": 7,
      "outputs": [
        {
          "output_type": "stream",
          "name": "stdout",
          "text": [
            "/content/cwb-3.4.22\n"
          ]
        }
      ]
    },
    {
      "cell_type": "code",
      "source": [
        "!./install-scripts/config-basic\n",
        "!./install-scripts/install-linux"
      ],
      "metadata": {
        "colab": {
          "base_uri": "https://localhost:8080/"
        },
        "id": "8kt7QWlDzK7M",
        "outputId": "63a0d2cf-b95a-4c4b-ef3f-bc06fc4b60ee"
      },
      "execution_count": 8,
      "outputs": [
        {
          "output_type": "stream",
          "name": "stdout",
          "text": [
            "PLATFORM=linux-64 \n",
            "Reading package lists... Done\n",
            "Building dependency tree       \n",
            "Reading state information... Done\n",
            "Note, selecting 'libreadline-dev' instead of 'libreadline6-dev'\n",
            "Package libreadline6 is not available, but is referred to by another package.\n",
            "This may mean that the package is missing, has been obsoleted, or\n",
            "is only available from another source\n",
            "\n",
            "E: Package 'libreadline6' has no installation candidate\n",
            "--------------------------------- PERFORMING TYPICAL CLEANUP\n",
            "for i in cl cqp utils man instutils\t ; do if [ -f \"$i/Makefile\" ]; then make -C $i clean; fi; done;\n",
            "make[1]: Entering directory '/content/cwb-3.4.22/cl'\n",
            "Makefile:182: depend.mk: No such file or directory\n",
            "    .... compile registry parser from Bison grammar\n",
            "bison -d -t -p creg -v registry.y\n",
            "    .... compile registry lexer from Flex grammar\n",
            "flex -8 registry.l\n",
            "rm -f depend.mk\n",
            "gcc -MM -MG  -DCWB_REGISTRY_DEFAULT_PATH=\\\"\"/usr/local/cwb-3.4.22/share/cwb/registry\"\\\" -DCOMPILE_DATE=\\\"\"Tue Dec 28 07:38:14 UTC 2021\"\\\" -DCWB_VERSION=\\\"3.4.22\\\" -I/usr/include/glib-2.0 -I/usr/lib/x86_64-linux-gnu/glib-2.0/include    globals.c macros.c ui-helpers.c list.c lexhash.c ngram-hash.c bitfields.c storage.c fileutils.c special-chars.c regopt.c corpus.c attributes.c makecomps.c registry.tab.c lex.creg.c cdaccess.c bitio.c endian.c compression.c binsert.c class-mapping.c  > depend.mk\n",
            "    .... cleanup compiled CL library code\n",
            "rm -f *.o libcl.a registry.output *~\n",
            "make[1]: Leaving directory '/content/cwb-3.4.22/cl'\n",
            "make[1]: Entering directory '/content/cwb-3.4.22/cqp'\n",
            "Makefile:181: depend.mk: No such file or directory\n",
            "    .... compile CQP parser from Bison grammar\n",
            "rm -f parser.tab.* parser.output\n",
            "bison -d -t parser.y\n",
            "    .... compile CQP lexer from Flex grammar\n",
            "rm -f lex.yy.*\n",
            "flex -8 parser.l\n",
            "rm -f depend.mk\n",
            "gcc -MM -MG  -DCWB_REGISTRY_DEFAULT_PATH=\\\"\"/usr/local/cwb-3.4.22/share/cwb/registry\"\\\" -DCOMPILE_DATE=\\\"\"Tue Dec 28 07:38:15 UTC 2021\"\\\" -DCWB_VERSION=\\\"3.4.22\\\" -I/usr/include/glib-2.0 -I/usr/lib/x86_64-linux-gnu/glib-2.0/include    llquery.c cqp.c cqpcl.c symtab.c eval.c tree.c options.c corpmanag.c regex2dfa.c output.c ranges.c builtins.c groups.c targets.c matchlist.c concordance.c parse_actions.c attlist.c context_descriptor.c print-modes.c ascii-print.c sgml-print.c html-print.c latex-print.c variables.c print_align.c macro.c hash.c table.c ../CQi/server.c ../CQi/auth.c parser.tab.c lex.yy.c > depend.mk\n",
            "    .... cleanup CQP programs\n",
            "rm -f cqp cqpcl cqpserver  *.o ../CQi/*.o parser.output *~ ../CQi/*~\n",
            "make[1]: Leaving directory '/content/cwb-3.4.22/cqp'\n",
            "make[1]: Entering directory '/content/cwb-3.4.22/utils'\n",
            "Makefile:166: depend.mk: No such file or directory\n",
            "rm -f depend.mk\n",
            "gcc -MM -MG  -DCWB_REGISTRY_DEFAULT_PATH=\\\"\"/usr/local/cwb-3.4.22/share/cwb/registry\"\\\" -DCOMPILE_DATE=\\\"\"Tue Dec 28 07:38:16 UTC 2021\"\\\" -DCWB_VERSION=\\\"3.4.22\\\" -I/usr/include/glib-2.0 -I/usr/lib/x86_64-linux-gnu/glib-2.0/include    cwb-atoi.c cwb-itoa.c cwb-makeall.c cwb-encode.c cwb-decode.c cwb-lexdecode.c cwb-huffcode.c cwb-compress-rdx.c cwb-s-encode.c cwb-s-decode.c cwb-describe-corpus.c cwb-decode-nqrfile.c cwb-scan-corpus.c barlib.c feature_maps.c cwb-align.c cwb-align-show.c cwb-align-encode.c cwb-align-decode.c  > depend.mk\n",
            "    .... cleanup CWB utility programs\n",
            "rm -f cwb-atoi cwb-itoa cwb-makeall cwb-encode cwb-decode cwb-lexdecode cwb-huffcode cwb-compress-rdx cwb-s-encode cwb-s-decode cwb-describe-corpus cwb-decode-nqrfile cwb-scan-corpus cwb-align cwb-align-show cwb-align-encode cwb-align-decode  *.o *~\n",
            "make[1]: Leaving directory '/content/cwb-3.4.22/utils'\n",
            "make[1]: Entering directory '/content/cwb-3.4.22/man'\n",
            "    .... cleanup PDF files\n",
            "rm -f cqp.pdf cqpcl.pdf cqpserver.pdf cwb-align.pdf cwb-align-show.pdf cwb-align-encode.pdf cwb-align-decode.pdf cwb-atoi.pdf cwb-itoa.pdf cwb-config.pdf cwb-encode.pdf cwb-decode.pdf cwb-lexdecode.pdf cwb-decode-nqrfile.pdf cwb-describe-corpus.pdf cwb-makeall.pdf cwb-compress-rdx.pdf cwb-huffcode.pdf cwb-s-encode.pdf cwb-s-decode.pdf cwb-scan-corpus.pdf *~\n",
            "make[1]: Leaving directory '/content/cwb-3.4.22/man'\n",
            "make[1]: Entering directory '/content/cwb-3.4.22/instutils'\n",
            "rm -f cwb-config install-cwb.sh *~\n",
            "make[1]: Leaving directory '/content/cwb-3.4.22/instutils'\n",
            "rm -f *~ config/*/*~ CQi/*~ CQi/*.o technical/*~ TAGS\n",
            "rm -f -rf build\n",
            "--------------------------------- UPDATING ALL DEPENDENCIES\n",
            "for i in cl cqp utils man instutils\t ;\\\n",
            "do \\\n",
            "make -C $i depend; \\\n",
            "done;\n",
            "make[1]: Entering directory '/content/cwb-3.4.22/cl'\n",
            "    .... generate the CL's make dependencies\n",
            "rm -f depend.mk\n",
            "make depend.mk\n",
            "make[2]: Entering directory '/content/cwb-3.4.22/cl'\n",
            "Makefile:182: depend.mk: No such file or directory\n",
            "rm -f depend.mk\n",
            "gcc -MM -MG  -DCWB_REGISTRY_DEFAULT_PATH=\\\"\"/usr/local/cwb-3.4.22/share/cwb/registry\"\\\" -DCOMPILE_DATE=\\\"\"Tue Dec 28 07:38:16 UTC 2021\"\\\" -DCWB_VERSION=\\\"3.4.22\\\" -I/usr/include/glib-2.0 -I/usr/lib/x86_64-linux-gnu/glib-2.0/include    globals.c macros.c ui-helpers.c list.c lexhash.c ngram-hash.c bitfields.c storage.c fileutils.c special-chars.c regopt.c corpus.c attributes.c makecomps.c registry.tab.c lex.creg.c cdaccess.c bitio.c endian.c compression.c binsert.c class-mapping.c  > depend.mk\n",
            "make[2]: 'depend.mk' is up to date.\n",
            "make[2]: Leaving directory '/content/cwb-3.4.22/cl'\n",
            "make[1]: Leaving directory '/content/cwb-3.4.22/cl'\n",
            "make[1]: Entering directory '/content/cwb-3.4.22/cqp'\n",
            "    .... generate CQP's make dependencies\n",
            "rm -f depend.mk\n",
            "make depend.mk\n",
            "make[2]: Entering directory '/content/cwb-3.4.22/cqp'\n",
            "Makefile:181: depend.mk: No such file or directory\n",
            "rm -f depend.mk\n",
            "gcc -MM -MG  -DCWB_REGISTRY_DEFAULT_PATH=\\\"\"/usr/local/cwb-3.4.22/share/cwb/registry\"\\\" -DCOMPILE_DATE=\\\"\"Tue Dec 28 07:38:17 UTC 2021\"\\\" -DCWB_VERSION=\\\"3.4.22\\\" -I/usr/include/glib-2.0 -I/usr/lib/x86_64-linux-gnu/glib-2.0/include    llquery.c cqp.c cqpcl.c symtab.c eval.c tree.c options.c corpmanag.c regex2dfa.c output.c ranges.c builtins.c groups.c targets.c matchlist.c concordance.c parse_actions.c attlist.c context_descriptor.c print-modes.c ascii-print.c sgml-print.c html-print.c latex-print.c variables.c print_align.c macro.c hash.c table.c ../CQi/server.c ../CQi/auth.c parser.tab.c lex.yy.c > depend.mk\n",
            "make[2]: 'depend.mk' is up to date.\n",
            "make[2]: Leaving directory '/content/cwb-3.4.22/cqp'\n",
            "make[1]: Leaving directory '/content/cwb-3.4.22/cqp'\n",
            "make[1]: Entering directory '/content/cwb-3.4.22/utils'\n",
            "    .... generate make dependencies for the CWB utilities\n",
            "rm -f depend.mk\n",
            "make depend.mk\n",
            "make[2]: Entering directory '/content/cwb-3.4.22/utils'\n",
            "Makefile:166: depend.mk: No such file or directory\n",
            "rm -f depend.mk\n",
            "gcc -MM -MG  -DCWB_REGISTRY_DEFAULT_PATH=\\\"\"/usr/local/cwb-3.4.22/share/cwb/registry\"\\\" -DCOMPILE_DATE=\\\"\"Tue Dec 28 07:38:18 UTC 2021\"\\\" -DCWB_VERSION=\\\"3.4.22\\\" -I/usr/include/glib-2.0 -I/usr/lib/x86_64-linux-gnu/glib-2.0/include    cwb-atoi.c cwb-itoa.c cwb-makeall.c cwb-encode.c cwb-decode.c cwb-lexdecode.c cwb-huffcode.c cwb-compress-rdx.c cwb-s-encode.c cwb-s-decode.c cwb-describe-corpus.c cwb-decode-nqrfile.c cwb-scan-corpus.c barlib.c feature_maps.c cwb-align.c cwb-align-show.c cwb-align-encode.c cwb-align-decode.c  > depend.mk\n",
            "make[2]: 'depend.mk' is up to date.\n",
            "make[2]: Leaving directory '/content/cwb-3.4.22/utils'\n",
            "make[1]: Leaving directory '/content/cwb-3.4.22/utils'\n",
            "make[1]: Entering directory '/content/cwb-3.4.22/man'\n",
            "         Nothing to be done for 'make depend' in directory 'man'\n",
            "make[1]: Leaving directory '/content/cwb-3.4.22/man'\n",
            "make[1]: Entering directory '/content/cwb-3.4.22/instutils'\n",
            "         Nothing to be done for 'make depend' in directory 'instutils'\n",
            "make[1]: Leaving directory '/content/cwb-3.4.22/instutils'\n",
            "--------------------------------- BUILDING CORPUS LIBRARY (CL)\n",
            "make -C cl \n",
            "make[1]: Entering directory '/content/cwb-3.4.22/cl'\n",
            "    .... compile source file globals.c\n",
            "rm -f globals.o\n",
            "gcc -c  -o globals.o -O2 -Wall -fPIC -m64   -DUSE_TERMCAP -DUSE_READLINE -DCWB_REGISTRY_DEFAULT_PATH=\\\"\"/usr/local/cwb-3.4.22/share/cwb/registry\"\\\" -DCOMPILE_DATE=\\\"\"Tue Dec 28 07:38:18 UTC 2021\"\\\" -DCWB_VERSION=\\\"3.4.22\\\" -I/usr/include/glib-2.0 -I/usr/lib/x86_64-linux-gnu/glib-2.0/include    globals.c\n",
            "    .... compile source file macros.c\n",
            "rm -f macros.o\n",
            "gcc -c  -o macros.o -O2 -Wall -fPIC -m64   -DUSE_TERMCAP -DUSE_READLINE -DCWB_REGISTRY_DEFAULT_PATH=\\\"\"/usr/local/cwb-3.4.22/share/cwb/registry\"\\\" -DCOMPILE_DATE=\\\"\"Tue Dec 28 07:38:19 UTC 2021\"\\\" -DCWB_VERSION=\\\"3.4.22\\\" -I/usr/include/glib-2.0 -I/usr/lib/x86_64-linux-gnu/glib-2.0/include    macros.c\n",
            "    .... compile source file ui-helpers.c\n",
            "rm -f ui-helpers.o\n",
            "gcc -c  -o ui-helpers.o -O2 -Wall -fPIC -m64   -DUSE_TERMCAP -DUSE_READLINE -DCWB_REGISTRY_DEFAULT_PATH=\\\"\"/usr/local/cwb-3.4.22/share/cwb/registry\"\\\" -DCOMPILE_DATE=\\\"\"Tue Dec 28 07:38:19 UTC 2021\"\\\" -DCWB_VERSION=\\\"3.4.22\\\" -I/usr/include/glib-2.0 -I/usr/lib/x86_64-linux-gnu/glib-2.0/include    ui-helpers.c\n",
            "    .... compile source file list.c\n",
            "rm -f list.o\n",
            "gcc -c  -o list.o -O2 -Wall -fPIC -m64   -DUSE_TERMCAP -DUSE_READLINE -DCWB_REGISTRY_DEFAULT_PATH=\\\"\"/usr/local/cwb-3.4.22/share/cwb/registry\"\\\" -DCOMPILE_DATE=\\\"\"Tue Dec 28 07:38:19 UTC 2021\"\\\" -DCWB_VERSION=\\\"3.4.22\\\" -I/usr/include/glib-2.0 -I/usr/lib/x86_64-linux-gnu/glib-2.0/include    list.c\n",
            "    .... compile source file lexhash.c\n",
            "rm -f lexhash.o\n",
            "gcc -c  -o lexhash.o -O2 -Wall -fPIC -m64   -DUSE_TERMCAP -DUSE_READLINE -DCWB_REGISTRY_DEFAULT_PATH=\\\"\"/usr/local/cwb-3.4.22/share/cwb/registry\"\\\" -DCOMPILE_DATE=\\\"\"Tue Dec 28 07:38:19 UTC 2021\"\\\" -DCWB_VERSION=\\\"3.4.22\\\" -I/usr/include/glib-2.0 -I/usr/lib/x86_64-linux-gnu/glib-2.0/include    lexhash.c\n",
            "    .... compile source file ngram-hash.c\n",
            "rm -f ngram-hash.o\n",
            "gcc -c  -o ngram-hash.o -O2 -Wall -fPIC -m64   -DUSE_TERMCAP -DUSE_READLINE -DCWB_REGISTRY_DEFAULT_PATH=\\\"\"/usr/local/cwb-3.4.22/share/cwb/registry\"\\\" -DCOMPILE_DATE=\\\"\"Tue Dec 28 07:38:19 UTC 2021\"\\\" -DCWB_VERSION=\\\"3.4.22\\\" -I/usr/include/glib-2.0 -I/usr/lib/x86_64-linux-gnu/glib-2.0/include    ngram-hash.c\n",
            "    .... compile source file bitfields.c\n",
            "rm -f bitfields.o\n",
            "gcc -c  -o bitfields.o -O2 -Wall -fPIC -m64   -DUSE_TERMCAP -DUSE_READLINE -DCWB_REGISTRY_DEFAULT_PATH=\\\"\"/usr/local/cwb-3.4.22/share/cwb/registry\"\\\" -DCOMPILE_DATE=\\\"\"Tue Dec 28 07:38:19 UTC 2021\"\\\" -DCWB_VERSION=\\\"3.4.22\\\" -I/usr/include/glib-2.0 -I/usr/lib/x86_64-linux-gnu/glib-2.0/include    bitfields.c\n",
            "    .... compile source file storage.c\n",
            "rm -f storage.o\n",
            "gcc -c  -o storage.o -O2 -Wall -fPIC -m64   -DUSE_TERMCAP -DUSE_READLINE -DCWB_REGISTRY_DEFAULT_PATH=\\\"\"/usr/local/cwb-3.4.22/share/cwb/registry\"\\\" -DCOMPILE_DATE=\\\"\"Tue Dec 28 07:38:19 UTC 2021\"\\\" -DCWB_VERSION=\\\"3.4.22\\\" -I/usr/include/glib-2.0 -I/usr/lib/x86_64-linux-gnu/glib-2.0/include    storage.c\n",
            "\u001b[01m\u001b[Kstorage.c:\u001b[m\u001b[K In function ‘\u001b[01m\u001b[Kmmapfile\u001b[m\u001b[K’:\n",
            "\u001b[01m\u001b[Kstorage.c:329:7:\u001b[m\u001b[K \u001b[01;35m\u001b[Kwarning: \u001b[m\u001b[Kignoring return value of ‘\u001b[01m\u001b[Kwrite\u001b[m\u001b[K’, declared with attribute warn_unused_result [\u001b[01;35m\u001b[K-Wunused-result\u001b[m\u001b[K]\n",
            "       \u001b[01;35m\u001b[Kwrite(fd, &fd, sizeof(int))\u001b[m\u001b[K;\n",
            "       \u001b[01;35m\u001b[K^~~~~~~~~~~~~~~~~~~~~~~~~~~\u001b[m\u001b[K\n",
            "    .... compile source file fileutils.c\n",
            "rm -f fileutils.o\n",
            "gcc -c  -o fileutils.o -O2 -Wall -fPIC -m64   -DUSE_TERMCAP -DUSE_READLINE -DCWB_REGISTRY_DEFAULT_PATH=\\\"\"/usr/local/cwb-3.4.22/share/cwb/registry\"\\\" -DCOMPILE_DATE=\\\"\"Tue Dec 28 07:38:19 UTC 2021\"\\\" -DCWB_VERSION=\\\"3.4.22\\\" -I/usr/include/glib-2.0 -I/usr/lib/x86_64-linux-gnu/glib-2.0/include    fileutils.c\n",
            "    .... compile source file special-chars.c\n",
            "rm -f special-chars.o\n",
            "gcc -c  -o special-chars.o -O2 -Wall -fPIC -m64   -DUSE_TERMCAP -DUSE_READLINE -DCWB_REGISTRY_DEFAULT_PATH=\\\"\"/usr/local/cwb-3.4.22/share/cwb/registry\"\\\" -DCOMPILE_DATE=\\\"\"Tue Dec 28 07:38:20 UTC 2021\"\\\" -DCWB_VERSION=\\\"3.4.22\\\" -I/usr/include/glib-2.0 -I/usr/lib/x86_64-linux-gnu/glib-2.0/include    special-chars.c\n",
            "    .... compile source file regopt.c\n",
            "rm -f regopt.o\n",
            "gcc -c  -o regopt.o -O2 -Wall -fPIC -m64   -DUSE_TERMCAP -DUSE_READLINE -DCWB_REGISTRY_DEFAULT_PATH=\\\"\"/usr/local/cwb-3.4.22/share/cwb/registry\"\\\" -DCOMPILE_DATE=\\\"\"Tue Dec 28 07:38:20 UTC 2021\"\\\" -DCWB_VERSION=\\\"3.4.22\\\" -I/usr/include/glib-2.0 -I/usr/lib/x86_64-linux-gnu/glib-2.0/include    regopt.c\n",
            "    .... compile source file corpus.c\n",
            "rm -f corpus.o\n",
            "gcc -c  -o corpus.o -O2 -Wall -fPIC -m64   -DUSE_TERMCAP -DUSE_READLINE -DCWB_REGISTRY_DEFAULT_PATH=\\\"\"/usr/local/cwb-3.4.22/share/cwb/registry\"\\\" -DCOMPILE_DATE=\\\"\"Tue Dec 28 07:38:20 UTC 2021\"\\\" -DCWB_VERSION=\\\"3.4.22\\\" -I/usr/include/glib-2.0 -I/usr/lib/x86_64-linux-gnu/glib-2.0/include    corpus.c\n",
            "    .... compile source file attributes.c\n",
            "rm -f attributes.o\n",
            "gcc -c  -o attributes.o -O2 -Wall -fPIC -m64   -DUSE_TERMCAP -DUSE_READLINE -DCWB_REGISTRY_DEFAULT_PATH=\\\"\"/usr/local/cwb-3.4.22/share/cwb/registry\"\\\" -DCOMPILE_DATE=\\\"\"Tue Dec 28 07:38:20 UTC 2021\"\\\" -DCWB_VERSION=\\\"3.4.22\\\" -I/usr/include/glib-2.0 -I/usr/lib/x86_64-linux-gnu/glib-2.0/include    attributes.c\n",
            "    .... compile source file registry.tab.c\n",
            "rm -f registry.tab.o\n",
            "gcc -c  -o registry.tab.o -O2 -Wall -fPIC -m64   -DUSE_TERMCAP -DUSE_READLINE -DCWB_REGISTRY_DEFAULT_PATH=\\\"\"/usr/local/cwb-3.4.22/share/cwb/registry\"\\\" -DCOMPILE_DATE=\\\"\"Tue Dec 28 07:38:21 UTC 2021\"\\\" -DCWB_VERSION=\\\"3.4.22\\\" -I/usr/include/glib-2.0 -I/usr/lib/x86_64-linux-gnu/glib-2.0/include    registry.tab.c\n",
            "    .... compile source file lex.creg.c\n",
            "rm -f lex.creg.o\n",
            "gcc -c  -o lex.creg.o -O2 -Wall -fPIC -m64   -DUSE_TERMCAP -DUSE_READLINE -DCWB_REGISTRY_DEFAULT_PATH=\\\"\"/usr/local/cwb-3.4.22/share/cwb/registry\"\\\" -DCOMPILE_DATE=\\\"\"Tue Dec 28 07:38:21 UTC 2021\"\\\" -DCWB_VERSION=\\\"3.4.22\\\" -I/usr/include/glib-2.0 -I/usr/lib/x86_64-linux-gnu/glib-2.0/include    lex.creg.c\n",
            "    .... compile source file makecomps.c\n",
            "rm -f makecomps.o\n",
            "gcc -c  -o makecomps.o -O2 -Wall -fPIC -m64   -DUSE_TERMCAP -DUSE_READLINE -DCWB_REGISTRY_DEFAULT_PATH=\\\"\"/usr/local/cwb-3.4.22/share/cwb/registry\"\\\" -DCOMPILE_DATE=\\\"\"Tue Dec 28 07:38:21 UTC 2021\"\\\" -DCWB_VERSION=\\\"3.4.22\\\" -I/usr/include/glib-2.0 -I/usr/lib/x86_64-linux-gnu/glib-2.0/include    makecomps.c\n",
            "    .... compile source file cdaccess.c\n",
            "rm -f cdaccess.o\n",
            "gcc -c  -o cdaccess.o -O2 -Wall -fPIC -m64   -DUSE_TERMCAP -DUSE_READLINE -DCWB_REGISTRY_DEFAULT_PATH=\\\"\"/usr/local/cwb-3.4.22/share/cwb/registry\"\\\" -DCOMPILE_DATE=\\\"\"Tue Dec 28 07:38:21 UTC 2021\"\\\" -DCWB_VERSION=\\\"3.4.22\\\" -I/usr/include/glib-2.0 -I/usr/lib/x86_64-linux-gnu/glib-2.0/include    cdaccess.c\n",
            "\u001b[01m\u001b[Kcdaccess.c:\u001b[m\u001b[K In function ‘\u001b[01m\u001b[Kcl_dynamic_call\u001b[m\u001b[K’:\n",
            "\u001b[01m\u001b[Kcdaccess.c:2522:7:\u001b[m\u001b[K \u001b[01;35m\u001b[Kwarning: \u001b[m\u001b[Kignoring return value of ‘\u001b[01m\u001b[Kfgets\u001b[m\u001b[K’, declared with attribute warn_unused_result [\u001b[01;35m\u001b[K-Wunused-result\u001b[m\u001b[K]\n",
            "       \u001b[01;35m\u001b[Kfgets(call, CL_MAX_LINE_LENGTH, pipe)\u001b[m\u001b[K;\n",
            "       \u001b[01;35m\u001b[K^~~~~~~~~~~~~~~~~~~~~~~~~~~~~~~~~~~~~\u001b[m\u001b[K\n",
            "    .... compile source file bitio.c\n",
            "rm -f bitio.o\n",
            "gcc -c  -o bitio.o -O2 -Wall -fPIC -m64   -DUSE_TERMCAP -DUSE_READLINE -DCWB_REGISTRY_DEFAULT_PATH=\\\"\"/usr/local/cwb-3.4.22/share/cwb/registry\"\\\" -DCOMPILE_DATE=\\\"\"Tue Dec 28 07:38:22 UTC 2021\"\\\" -DCWB_VERSION=\\\"3.4.22\\\" -I/usr/include/glib-2.0 -I/usr/lib/x86_64-linux-gnu/glib-2.0/include    bitio.c\n",
            "    .... compile source file endian.c\n",
            "rm -f endian.o\n",
            "gcc -c  -o endian.o -O2 -Wall -fPIC -m64   -DUSE_TERMCAP -DUSE_READLINE -DCWB_REGISTRY_DEFAULT_PATH=\\\"\"/usr/local/cwb-3.4.22/share/cwb/registry\"\\\" -DCOMPILE_DATE=\\\"\"Tue Dec 28 07:38:22 UTC 2021\"\\\" -DCWB_VERSION=\\\"3.4.22\\\" -I/usr/include/glib-2.0 -I/usr/lib/x86_64-linux-gnu/glib-2.0/include    endian.c\n",
            "    .... compile source file compression.c\n",
            "rm -f compression.o\n",
            "gcc -c  -o compression.o -O2 -Wall -fPIC -m64   -DUSE_TERMCAP -DUSE_READLINE -DCWB_REGISTRY_DEFAULT_PATH=\\\"\"/usr/local/cwb-3.4.22/share/cwb/registry\"\\\" -DCOMPILE_DATE=\\\"\"Tue Dec 28 07:38:22 UTC 2021\"\\\" -DCWB_VERSION=\\\"3.4.22\\\" -I/usr/include/glib-2.0 -I/usr/lib/x86_64-linux-gnu/glib-2.0/include    compression.c\n",
            "    .... compile source file binsert.c\n",
            "rm -f binsert.o\n",
            "gcc -c  -o binsert.o -O2 -Wall -fPIC -m64   -DUSE_TERMCAP -DUSE_READLINE -DCWB_REGISTRY_DEFAULT_PATH=\\\"\"/usr/local/cwb-3.4.22/share/cwb/registry\"\\\" -DCOMPILE_DATE=\\\"\"Tue Dec 28 07:38:22 UTC 2021\"\\\" -DCWB_VERSION=\\\"3.4.22\\\" -I/usr/include/glib-2.0 -I/usr/lib/x86_64-linux-gnu/glib-2.0/include    binsert.c\n",
            "    .... compile source file class-mapping.c\n",
            "rm -f class-mapping.o\n",
            "gcc -c  -o class-mapping.o -O2 -Wall -fPIC -m64   -DUSE_TERMCAP -DUSE_READLINE -DCWB_REGISTRY_DEFAULT_PATH=\\\"\"/usr/local/cwb-3.4.22/share/cwb/registry\"\\\" -DCOMPILE_DATE=\\\"\"Tue Dec 28 07:38:22 UTC 2021\"\\\" -DCWB_VERSION=\\\"3.4.22\\\" -I/usr/include/glib-2.0 -I/usr/lib/x86_64-linux-gnu/glib-2.0/include    class-mapping.c\n",
            "    .... generate static library file for CL\n",
            "rm -f libcl.a\n",
            "ar cq libcl.a globals.o macros.o ui-helpers.o list.o lexhash.o ngram-hash.o bitfields.o storage.o fileutils.o special-chars.o regopt.o corpus.o attributes.o registry.tab.o lex.creg.o makecomps.o cdaccess.o bitio.o endian.o compression.o binsert.o class-mapping.o\n",
            "ranlib libcl.a\n",
            "    .... compile source file dl_stub.c\n",
            "rm -f dl_stub.o\n",
            "gcc -c  -o dl_stub.o -O2 -Wall -fPIC -m64   -DUSE_TERMCAP -DUSE_READLINE -DCWB_REGISTRY_DEFAULT_PATH=\\\"\"/usr/local/cwb-3.4.22/share/cwb/registry\"\\\" -DCOMPILE_DATE=\\\"\"Tue Dec 28 07:38:22 UTC 2021\"\\\" -DCWB_VERSION=\\\"3.4.22\\\" -I/usr/include/glib-2.0 -I/usr/lib/x86_64-linux-gnu/glib-2.0/include    dl_stub.c\n",
            "make[1]: Leaving directory '/content/cwb-3.4.22/cl'\n",
            "--------------------------------- BUILDING COMMAND-LINE UTILITIES\n",
            "make -C utils \n",
            "make[1]: Entering directory '/content/cwb-3.4.22/utils'\n",
            "    .... compile source file cwb-atoi.c\n",
            "rm -f cwb-atoi.o\n",
            "gcc -c  -o cwb-atoi.o -O2 -Wall -fPIC -m64   -DUSE_TERMCAP -DUSE_READLINE -DCWB_REGISTRY_DEFAULT_PATH=\\\"\"/usr/local/cwb-3.4.22/share/cwb/registry\"\\\" -DCOMPILE_DATE=\\\"\"Tue Dec 28 07:38:22 UTC 2021\"\\\" -DCWB_VERSION=\\\"3.4.22\\\" -I/usr/include/glib-2.0 -I/usr/lib/x86_64-linux-gnu/glib-2.0/include    cwb-atoi.c\n",
            "    .... link executable cwb-atoi\n",
            "rm -f cwb-atoi\n",
            "gcc -O2 -Wall -fPIC -m64   -DUSE_TERMCAP -DUSE_READLINE -o cwb-atoi cwb-atoi.o /content/cwb-3.4.22/utils/../cl/libcl.a   -lm   -lpcre -lglib-2.0  \n",
            "    .... compile source file cwb-itoa.c\n",
            "rm -f cwb-itoa.o\n",
            "gcc -c  -o cwb-itoa.o -O2 -Wall -fPIC -m64   -DUSE_TERMCAP -DUSE_READLINE -DCWB_REGISTRY_DEFAULT_PATH=\\\"\"/usr/local/cwb-3.4.22/share/cwb/registry\"\\\" -DCOMPILE_DATE=\\\"\"Tue Dec 28 07:38:22 UTC 2021\"\\\" -DCWB_VERSION=\\\"3.4.22\\\" -I/usr/include/glib-2.0 -I/usr/lib/x86_64-linux-gnu/glib-2.0/include    cwb-itoa.c\n",
            "    .... link executable cwb-itoa\n",
            "rm -f cwb-itoa\n",
            "gcc -O2 -Wall -fPIC -m64   -DUSE_TERMCAP -DUSE_READLINE -o cwb-itoa cwb-itoa.o /content/cwb-3.4.22/utils/../cl/libcl.a   -lm   -lpcre -lglib-2.0  \n",
            "    .... compile source file cwb-makeall.c\n",
            "rm -f cwb-makeall.o\n",
            "gcc -c  -o cwb-makeall.o -O2 -Wall -fPIC -m64   -DUSE_TERMCAP -DUSE_READLINE -DCWB_REGISTRY_DEFAULT_PATH=\\\"\"/usr/local/cwb-3.4.22/share/cwb/registry\"\\\" -DCOMPILE_DATE=\\\"\"Tue Dec 28 07:38:23 UTC 2021\"\\\" -DCWB_VERSION=\\\"3.4.22\\\" -I/usr/include/glib-2.0 -I/usr/lib/x86_64-linux-gnu/glib-2.0/include    cwb-makeall.c\n",
            "    .... link executable cwb-makeall\n",
            "rm -f cwb-makeall\n",
            "gcc -O2 -Wall -fPIC -m64   -DUSE_TERMCAP -DUSE_READLINE -o cwb-makeall cwb-makeall.o /content/cwb-3.4.22/utils/../cl/libcl.a   -lm   -lpcre -lglib-2.0  \n",
            "    .... compile source file cwb-encode.c\n",
            "rm -f cwb-encode.o\n",
            "gcc -c  -o cwb-encode.o -O2 -Wall -fPIC -m64   -DUSE_TERMCAP -DUSE_READLINE -DCWB_REGISTRY_DEFAULT_PATH=\\\"\"/usr/local/cwb-3.4.22/share/cwb/registry\"\\\" -DCOMPILE_DATE=\\\"\"Tue Dec 28 07:38:23 UTC 2021\"\\\" -DCWB_VERSION=\\\"3.4.22\\\" -I/usr/include/glib-2.0 -I/usr/lib/x86_64-linux-gnu/glib-2.0/include    cwb-encode.c\n",
            "    .... link executable cwb-encode\n",
            "rm -f cwb-encode\n",
            "gcc -O2 -Wall -fPIC -m64   -DUSE_TERMCAP -DUSE_READLINE -o cwb-encode cwb-encode.o /content/cwb-3.4.22/utils/../cl/libcl.a   -lm   -lpcre -lglib-2.0  \n",
            "    .... compile source file cwb-decode.c\n",
            "rm -f cwb-decode.o\n",
            "gcc -c  -o cwb-decode.o -O2 -Wall -fPIC -m64   -DUSE_TERMCAP -DUSE_READLINE -DCWB_REGISTRY_DEFAULT_PATH=\\\"\"/usr/local/cwb-3.4.22/share/cwb/registry\"\\\" -DCOMPILE_DATE=\\\"\"Tue Dec 28 07:38:23 UTC 2021\"\\\" -DCWB_VERSION=\\\"3.4.22\\\" -I/usr/include/glib-2.0 -I/usr/lib/x86_64-linux-gnu/glib-2.0/include    cwb-decode.c\n",
            "    .... link executable cwb-decode\n",
            "rm -f cwb-decode\n",
            "gcc -O2 -Wall -fPIC -m64   -DUSE_TERMCAP -DUSE_READLINE -o cwb-decode cwb-decode.o /content/cwb-3.4.22/utils/../cl/libcl.a   -lm   -lpcre -lglib-2.0  \n",
            "    .... compile source file cwb-lexdecode.c\n",
            "rm -f cwb-lexdecode.o\n",
            "gcc -c  -o cwb-lexdecode.o -O2 -Wall -fPIC -m64   -DUSE_TERMCAP -DUSE_READLINE -DCWB_REGISTRY_DEFAULT_PATH=\\\"\"/usr/local/cwb-3.4.22/share/cwb/registry\"\\\" -DCOMPILE_DATE=\\\"\"Tue Dec 28 07:38:24 UTC 2021\"\\\" -DCWB_VERSION=\\\"3.4.22\\\" -I/usr/include/glib-2.0 -I/usr/lib/x86_64-linux-gnu/glib-2.0/include    cwb-lexdecode.c\n",
            "    .... link executable cwb-lexdecode\n",
            "rm -f cwb-lexdecode\n",
            "gcc -O2 -Wall -fPIC -m64   -DUSE_TERMCAP -DUSE_READLINE -o cwb-lexdecode cwb-lexdecode.o /content/cwb-3.4.22/utils/../cl/libcl.a   -lm   -lpcre -lglib-2.0  \n",
            "    .... compile source file cwb-huffcode.c\n",
            "rm -f cwb-huffcode.o\n",
            "gcc -c  -o cwb-huffcode.o -O2 -Wall -fPIC -m64   -DUSE_TERMCAP -DUSE_READLINE -DCWB_REGISTRY_DEFAULT_PATH=\\\"\"/usr/local/cwb-3.4.22/share/cwb/registry\"\\\" -DCOMPILE_DATE=\\\"\"Tue Dec 28 07:38:24 UTC 2021\"\\\" -DCWB_VERSION=\\\"3.4.22\\\" -I/usr/include/glib-2.0 -I/usr/lib/x86_64-linux-gnu/glib-2.0/include    cwb-huffcode.c\n",
            "    .... link executable cwb-huffcode\n",
            "rm -f cwb-huffcode\n",
            "gcc -O2 -Wall -fPIC -m64   -DUSE_TERMCAP -DUSE_READLINE -o cwb-huffcode cwb-huffcode.o /content/cwb-3.4.22/utils/../cl/libcl.a   -lm   -lpcre -lglib-2.0  \n",
            "    .... compile source file cwb-compress-rdx.c\n",
            "rm -f cwb-compress-rdx.o\n",
            "gcc -c  -o cwb-compress-rdx.o -O2 -Wall -fPIC -m64   -DUSE_TERMCAP -DUSE_READLINE -DCWB_REGISTRY_DEFAULT_PATH=\\\"\"/usr/local/cwb-3.4.22/share/cwb/registry\"\\\" -DCOMPILE_DATE=\\\"\"Tue Dec 28 07:38:24 UTC 2021\"\\\" -DCWB_VERSION=\\\"3.4.22\\\" -I/usr/include/glib-2.0 -I/usr/lib/x86_64-linux-gnu/glib-2.0/include    cwb-compress-rdx.c\n",
            "    .... link executable cwb-compress-rdx\n",
            "rm -f cwb-compress-rdx\n",
            "gcc -O2 -Wall -fPIC -m64   -DUSE_TERMCAP -DUSE_READLINE -o cwb-compress-rdx cwb-compress-rdx.o /content/cwb-3.4.22/utils/../cl/libcl.a   -lm   -lpcre -lglib-2.0  \n",
            "    .... compile source file cwb-s-encode.c\n",
            "rm -f cwb-s-encode.o\n",
            "gcc -c  -o cwb-s-encode.o -O2 -Wall -fPIC -m64   -DUSE_TERMCAP -DUSE_READLINE -DCWB_REGISTRY_DEFAULT_PATH=\\\"\"/usr/local/cwb-3.4.22/share/cwb/registry\"\\\" -DCOMPILE_DATE=\\\"\"Tue Dec 28 07:38:24 UTC 2021\"\\\" -DCWB_VERSION=\\\"3.4.22\\\" -I/usr/include/glib-2.0 -I/usr/lib/x86_64-linux-gnu/glib-2.0/include    cwb-s-encode.c\n",
            "    .... link executable cwb-s-encode\n",
            "rm -f cwb-s-encode\n",
            "gcc -O2 -Wall -fPIC -m64   -DUSE_TERMCAP -DUSE_READLINE -o cwb-s-encode cwb-s-encode.o /content/cwb-3.4.22/utils/../cl/libcl.a   -lm   -lpcre -lglib-2.0  \n",
            "    .... compile source file cwb-s-decode.c\n",
            "rm -f cwb-s-decode.o\n",
            "gcc -c  -o cwb-s-decode.o -O2 -Wall -fPIC -m64   -DUSE_TERMCAP -DUSE_READLINE -DCWB_REGISTRY_DEFAULT_PATH=\\\"\"/usr/local/cwb-3.4.22/share/cwb/registry\"\\\" -DCOMPILE_DATE=\\\"\"Tue Dec 28 07:38:25 UTC 2021\"\\\" -DCWB_VERSION=\\\"3.4.22\\\" -I/usr/include/glib-2.0 -I/usr/lib/x86_64-linux-gnu/glib-2.0/include    cwb-s-decode.c\n",
            "    .... link executable cwb-s-decode\n",
            "rm -f cwb-s-decode\n",
            "gcc -O2 -Wall -fPIC -m64   -DUSE_TERMCAP -DUSE_READLINE -o cwb-s-decode cwb-s-decode.o /content/cwb-3.4.22/utils/../cl/libcl.a   -lm   -lpcre -lglib-2.0  \n",
            "    .... compile source file cwb-describe-corpus.c\n",
            "rm -f cwb-describe-corpus.o\n",
            "gcc -c  -o cwb-describe-corpus.o -O2 -Wall -fPIC -m64   -DUSE_TERMCAP -DUSE_READLINE -DCWB_REGISTRY_DEFAULT_PATH=\\\"\"/usr/local/cwb-3.4.22/share/cwb/registry\"\\\" -DCOMPILE_DATE=\\\"\"Tue Dec 28 07:38:25 UTC 2021\"\\\" -DCWB_VERSION=\\\"3.4.22\\\" -I/usr/include/glib-2.0 -I/usr/lib/x86_64-linux-gnu/glib-2.0/include    cwb-describe-corpus.c\n",
            "    .... link executable cwb-describe-corpus\n",
            "rm -f cwb-describe-corpus\n",
            "gcc -O2 -Wall -fPIC -m64   -DUSE_TERMCAP -DUSE_READLINE -o cwb-describe-corpus cwb-describe-corpus.o /content/cwb-3.4.22/utils/../cl/libcl.a   -lm   -lpcre -lglib-2.0  \n",
            "    .... compile source file cwb-decode-nqrfile.c\n",
            "rm -f cwb-decode-nqrfile.o\n",
            "gcc -c  -o cwb-decode-nqrfile.o -O2 -Wall -fPIC -m64   -DUSE_TERMCAP -DUSE_READLINE -DCWB_REGISTRY_DEFAULT_PATH=\\\"\"/usr/local/cwb-3.4.22/share/cwb/registry\"\\\" -DCOMPILE_DATE=\\\"\"Tue Dec 28 07:38:25 UTC 2021\"\\\" -DCWB_VERSION=\\\"3.4.22\\\" -I/usr/include/glib-2.0 -I/usr/lib/x86_64-linux-gnu/glib-2.0/include    cwb-decode-nqrfile.c\n",
            "    .... link executable cwb-decode-nqrfile\n",
            "rm -f cwb-decode-nqrfile\n",
            "gcc -O2 -Wall -fPIC -m64   -DUSE_TERMCAP -DUSE_READLINE -o cwb-decode-nqrfile cwb-decode-nqrfile.o /content/cwb-3.4.22/utils/../cl/libcl.a   -lm   -lpcre -lglib-2.0  \n",
            "    .... compile source file cwb-scan-corpus.c\n",
            "rm -f cwb-scan-corpus.o\n",
            "gcc -c  -o cwb-scan-corpus.o -O2 -Wall -fPIC -m64   -DUSE_TERMCAP -DUSE_READLINE -DCWB_REGISTRY_DEFAULT_PATH=\\\"\"/usr/local/cwb-3.4.22/share/cwb/registry\"\\\" -DCOMPILE_DATE=\\\"\"Tue Dec 28 07:38:25 UTC 2021\"\\\" -DCWB_VERSION=\\\"3.4.22\\\" -I/usr/include/glib-2.0 -I/usr/lib/x86_64-linux-gnu/glib-2.0/include    cwb-scan-corpus.c\n",
            "    .... link executable cwb-scan-corpus\n",
            "rm -f cwb-scan-corpus\n",
            "gcc -O2 -Wall -fPIC -m64   -DUSE_TERMCAP -DUSE_READLINE -o cwb-scan-corpus cwb-scan-corpus.o /content/cwb-3.4.22/utils/../cl/libcl.a   -lm   -lpcre -lglib-2.0  \n",
            "    .... compile source file cwb-align.c\n",
            "rm -f cwb-align.o\n",
            "gcc -c  -o cwb-align.o -O2 -Wall -fPIC -m64   -DUSE_TERMCAP -DUSE_READLINE -DCWB_REGISTRY_DEFAULT_PATH=\\\"\"/usr/local/cwb-3.4.22/share/cwb/registry\"\\\" -DCOMPILE_DATE=\\\"\"Tue Dec 28 07:38:25 UTC 2021\"\\\" -DCWB_VERSION=\\\"3.4.22\\\" -I/usr/include/glib-2.0 -I/usr/lib/x86_64-linux-gnu/glib-2.0/include    cwb-align.c\n",
            "    .... compile source file barlib.c\n",
            "rm -f barlib.o\n",
            "gcc -c  -o barlib.o -O2 -Wall -fPIC -m64   -DUSE_TERMCAP -DUSE_READLINE -DCWB_REGISTRY_DEFAULT_PATH=\\\"\"/usr/local/cwb-3.4.22/share/cwb/registry\"\\\" -DCOMPILE_DATE=\\\"\"Tue Dec 28 07:38:26 UTC 2021\"\\\" -DCWB_VERSION=\\\"3.4.22\\\" -I/usr/include/glib-2.0 -I/usr/lib/x86_64-linux-gnu/glib-2.0/include    barlib.c\n",
            "    .... compile source file feature_maps.c\n",
            "rm -f feature_maps.o\n",
            "gcc -c  -o feature_maps.o -O2 -Wall -fPIC -m64   -DUSE_TERMCAP -DUSE_READLINE -DCWB_REGISTRY_DEFAULT_PATH=\\\"\"/usr/local/cwb-3.4.22/share/cwb/registry\"\\\" -DCOMPILE_DATE=\\\"\"Tue Dec 28 07:38:26 UTC 2021\"\\\" -DCWB_VERSION=\\\"3.4.22\\\" -I/usr/include/glib-2.0 -I/usr/lib/x86_64-linux-gnu/glib-2.0/include    feature_maps.c\n",
            "    .... link executable cwb-align\n",
            "rm -f cwb-align\n",
            "gcc -O2 -Wall -fPIC -m64   -DUSE_TERMCAP -DUSE_READLINE -o cwb-align cwb-align.o barlib.o feature_maps.o /content/cwb-3.4.22/utils/../cl/libcl.a   -lm   -lpcre -lglib-2.0  \n",
            "    .... compile source file cwb-align-show.c\n",
            "rm -f cwb-align-show.o\n",
            "gcc -c  -o cwb-align-show.o -O2 -Wall -fPIC -m64   -DUSE_TERMCAP -DUSE_READLINE -DCWB_REGISTRY_DEFAULT_PATH=\\\"\"/usr/local/cwb-3.4.22/share/cwb/registry\"\\\" -DCOMPILE_DATE=\\\"\"Tue Dec 28 07:38:26 UTC 2021\"\\\" -DCWB_VERSION=\\\"3.4.22\\\" -I/usr/include/glib-2.0 -I/usr/lib/x86_64-linux-gnu/glib-2.0/include    cwb-align-show.c\n",
            "\u001b[01m\u001b[Kcwb-align-show.c:\u001b[m\u001b[K In function ‘\u001b[01m\u001b[Kalignshow_skip_next_region\u001b[m\u001b[K’:\n",
            "\u001b[01m\u001b[Kcwb-align-show.c:217:3:\u001b[m\u001b[K \u001b[01;35m\u001b[Kwarning: \u001b[m\u001b[Kignoring return value of ‘\u001b[01m\u001b[Kfgets\u001b[m\u001b[K’, declared with attribute warn_unused_result [\u001b[01;35m\u001b[K-Wunused-result\u001b[m\u001b[K]\n",
            "   \u001b[01;35m\u001b[Kfgets(line, CL_MAX_LINE_LENGTH, f)\u001b[m\u001b[K;\n",
            "   \u001b[01;35m\u001b[K^~~~~~~~~~~~~~~~~~~~~~~~~~~~~~~~~~\u001b[m\u001b[K\n",
            "\u001b[01m\u001b[Kcwb-align-show.c:\u001b[m\u001b[K In function ‘\u001b[01m\u001b[Kmain\u001b[m\u001b[K’:\n",
            "\u001b[01m\u001b[Kcwb-align-show.c:354:3:\u001b[m\u001b[K \u001b[01;35m\u001b[Kwarning: \u001b[m\u001b[Kignoring return value of ‘\u001b[01m\u001b[Kfgets\u001b[m\u001b[K’, declared with attribute warn_unused_result [\u001b[01;35m\u001b[K-Wunused-result\u001b[m\u001b[K]\n",
            "   \u001b[01;35m\u001b[Kfgets(line, CL_MAX_LINE_LENGTH, af)\u001b[m\u001b[K;\n",
            "   \u001b[01;35m\u001b[K^~~~~~~~~~~~~~~~~~~~~~~~~~~~~~~~~~~\u001b[m\u001b[K\n",
            "\u001b[01m\u001b[Kcwb-align-show.c:392:5:\u001b[m\u001b[K \u001b[01;35m\u001b[Kwarning: \u001b[m\u001b[Kignoring return value of ‘\u001b[01m\u001b[Kfgets\u001b[m\u001b[K’, declared with attribute warn_unused_result [\u001b[01;35m\u001b[K-Wunused-result\u001b[m\u001b[K]\n",
            "     \u001b[01;35m\u001b[Kfgets(cmd, CL_MAX_LINE_LENGTH, stdin)\u001b[m\u001b[K;\n",
            "     \u001b[01;35m\u001b[K^~~~~~~~~~~~~~~~~~~~~~~~~~~~~~~~~~~~~\u001b[m\u001b[K\n",
            "    .... link executable cwb-align-show\n",
            "rm -f cwb-align-show\n",
            "gcc -O2 -Wall -fPIC -m64   -DUSE_TERMCAP -DUSE_READLINE -o cwb-align-show cwb-align-show.o /content/cwb-3.4.22/utils/../cl/libcl.a   -lm   -lpcre -lglib-2.0  \n",
            "    .... compile source file cwb-align-encode.c\n",
            "rm -f cwb-align-encode.o\n",
            "gcc -c  -o cwb-align-encode.o -O2 -Wall -fPIC -m64   -DUSE_TERMCAP -DUSE_READLINE -DCWB_REGISTRY_DEFAULT_PATH=\\\"\"/usr/local/cwb-3.4.22/share/cwb/registry\"\\\" -DCOMPILE_DATE=\\\"\"Tue Dec 28 07:38:26 UTC 2021\"\\\" -DCWB_VERSION=\\\"3.4.22\\\" -I/usr/include/glib-2.0 -I/usr/lib/x86_64-linux-gnu/glib-2.0/include    cwb-align-encode.c\n",
            "\u001b[01m\u001b[Kcwb-align-encode.c:\u001b[m\u001b[K In function ‘\u001b[01m\u001b[Kmain\u001b[m\u001b[K’:\n",
            "\u001b[01m\u001b[Kcwb-align-encode.c:207:3:\u001b[m\u001b[K \u001b[01;35m\u001b[Kwarning: \u001b[m\u001b[Kignoring return value of ‘\u001b[01m\u001b[Kfgets\u001b[m\u001b[K’, declared with attribute warn_unused_result [\u001b[01;35m\u001b[K-Wunused-result\u001b[m\u001b[K]\n",
            "   \u001b[01;35m\u001b[Kfgets(line, CL_MAX_LINE_LENGTH, af)\u001b[m\u001b[K;\n",
            "   \u001b[01;35m\u001b[K^~~~~~~~~~~~~~~~~~~~~~~~~~~~~~~~~~~\u001b[m\u001b[K\n",
            "    .... link executable cwb-align-encode\n",
            "rm -f cwb-align-encode\n",
            "gcc -O2 -Wall -fPIC -m64   -DUSE_TERMCAP -DUSE_READLINE -o cwb-align-encode cwb-align-encode.o /content/cwb-3.4.22/utils/../cl/libcl.a   -lm   -lpcre -lglib-2.0  \n",
            "    .... compile source file cwb-align-decode.c\n",
            "rm -f cwb-align-decode.o\n",
            "gcc -c  -o cwb-align-decode.o -O2 -Wall -fPIC -m64   -DUSE_TERMCAP -DUSE_READLINE -DCWB_REGISTRY_DEFAULT_PATH=\\\"\"/usr/local/cwb-3.4.22/share/cwb/registry\"\\\" -DCOMPILE_DATE=\\\"\"Tue Dec 28 07:38:26 UTC 2021\"\\\" -DCWB_VERSION=\\\"3.4.22\\\" -I/usr/include/glib-2.0 -I/usr/lib/x86_64-linux-gnu/glib-2.0/include    cwb-align-decode.c\n",
            "    .... link executable cwb-align-decode\n",
            "rm -f cwb-align-decode\n",
            "gcc -O2 -Wall -fPIC -m64   -DUSE_TERMCAP -DUSE_READLINE -o cwb-align-decode cwb-align-decode.o /content/cwb-3.4.22/utils/../cl/libcl.a   -lm   -lpcre -lglib-2.0  \n",
            "make[1]: Leaving directory '/content/cwb-3.4.22/utils'\n",
            "--------------------------------- BUILDING CQP\n",
            "make -C cqp \n",
            "make[1]: Entering directory '/content/cwb-3.4.22/cqp'\n",
            "    .... compile source file cqp.c\n",
            "rm -f cqp.o\n",
            "gcc -c  -o cqp.o -O2 -Wall -fPIC -m64   -DUSE_TERMCAP -DUSE_READLINE -DCWB_REGISTRY_DEFAULT_PATH=\\\"\"/usr/local/cwb-3.4.22/share/cwb/registry\"\\\" -DCOMPILE_DATE=\\\"\"Tue Dec 28 07:38:27 UTC 2021\"\\\" -DCWB_VERSION=\\\"3.4.22\\\" -I/usr/include/glib-2.0 -I/usr/lib/x86_64-linux-gnu/glib-2.0/include    cqp.c\n",
            "    .... compile source file symtab.c\n",
            "rm -f symtab.o\n",
            "gcc -c  -o symtab.o -O2 -Wall -fPIC -m64   -DUSE_TERMCAP -DUSE_READLINE -DCWB_REGISTRY_DEFAULT_PATH=\\\"\"/usr/local/cwb-3.4.22/share/cwb/registry\"\\\" -DCOMPILE_DATE=\\\"\"Tue Dec 28 07:38:27 UTC 2021\"\\\" -DCWB_VERSION=\\\"3.4.22\\\" -I/usr/include/glib-2.0 -I/usr/lib/x86_64-linux-gnu/glib-2.0/include    symtab.c\n",
            "    .... compile source file eval.c\n",
            "rm -f eval.o\n",
            "gcc -c  -o eval.o -O2 -Wall -fPIC -m64   -DUSE_TERMCAP -DUSE_READLINE -DCWB_REGISTRY_DEFAULT_PATH=\\\"\"/usr/local/cwb-3.4.22/share/cwb/registry\"\\\" -DCOMPILE_DATE=\\\"\"Tue Dec 28 07:38:27 UTC 2021\"\\\" -DCWB_VERSION=\\\"3.4.22\\\" -I/usr/include/glib-2.0 -I/usr/lib/x86_64-linux-gnu/glib-2.0/include    eval.c\n",
            "    .... compile source file tree.c\n",
            "rm -f tree.o\n",
            "gcc -c  -o tree.o -O2 -Wall -fPIC -m64   -DUSE_TERMCAP -DUSE_READLINE -DCWB_REGISTRY_DEFAULT_PATH=\\\"\"/usr/local/cwb-3.4.22/share/cwb/registry\"\\\" -DCOMPILE_DATE=\\\"\"Tue Dec 28 07:38:27 UTC 2021\"\\\" -DCWB_VERSION=\\\"3.4.22\\\" -I/usr/include/glib-2.0 -I/usr/lib/x86_64-linux-gnu/glib-2.0/include    tree.c\n",
            "    .... compile source file options.c\n",
            "rm -f options.o\n",
            "gcc -c  -o options.o -O2 -Wall -fPIC -m64   -DUSE_TERMCAP -DUSE_READLINE -DCWB_REGISTRY_DEFAULT_PATH=\\\"\"/usr/local/cwb-3.4.22/share/cwb/registry\"\\\" -DCOMPILE_DATE=\\\"\"Tue Dec 28 07:38:28 UTC 2021\"\\\" -DCWB_VERSION=\\\"3.4.22\\\" -I/usr/include/glib-2.0 -I/usr/lib/x86_64-linux-gnu/glib-2.0/include    options.c\n",
            "    .... compile source file corpmanag.c\n",
            "rm -f corpmanag.o\n",
            "gcc -c  -o corpmanag.o -O2 -Wall -fPIC -m64   -DUSE_TERMCAP -DUSE_READLINE -DCWB_REGISTRY_DEFAULT_PATH=\\\"\"/usr/local/cwb-3.4.22/share/cwb/registry\"\\\" -DCOMPILE_DATE=\\\"\"Tue Dec 28 07:38:28 UTC 2021\"\\\" -DCWB_VERSION=\\\"3.4.22\\\" -I/usr/include/glib-2.0 -I/usr/lib/x86_64-linux-gnu/glib-2.0/include    corpmanag.c\n",
            "    .... compile source file regex2dfa.c\n",
            "rm -f regex2dfa.o\n",
            "gcc -c  -o regex2dfa.o -O2 -Wall -fPIC -m64   -DUSE_TERMCAP -DUSE_READLINE -DCWB_REGISTRY_DEFAULT_PATH=\\\"\"/usr/local/cwb-3.4.22/share/cwb/registry\"\\\" -DCOMPILE_DATE=\\\"\"Tue Dec 28 07:38:28 UTC 2021\"\\\" -DCWB_VERSION=\\\"3.4.22\\\" -I/usr/include/glib-2.0 -I/usr/lib/x86_64-linux-gnu/glib-2.0/include    regex2dfa.c\n",
            "    .... compile source file output.c\n",
            "rm -f output.o\n",
            "gcc -c  -o output.o -O2 -Wall -fPIC -m64   -DUSE_TERMCAP -DUSE_READLINE -DCWB_REGISTRY_DEFAULT_PATH=\\\"\"/usr/local/cwb-3.4.22/share/cwb/registry\"\\\" -DCOMPILE_DATE=\\\"\"Tue Dec 28 07:38:29 UTC 2021\"\\\" -DCWB_VERSION=\\\"3.4.22\\\" -I/usr/include/glib-2.0 -I/usr/lib/x86_64-linux-gnu/glib-2.0/include    output.c\n",
            "    .... compile source file ranges.c\n",
            "rm -f ranges.o\n",
            "gcc -c  -o ranges.o -O2 -Wall -fPIC -m64   -DUSE_TERMCAP -DUSE_READLINE -DCWB_REGISTRY_DEFAULT_PATH=\\\"\"/usr/local/cwb-3.4.22/share/cwb/registry\"\\\" -DCOMPILE_DATE=\\\"\"Tue Dec 28 07:38:29 UTC 2021\"\\\" -DCWB_VERSION=\\\"3.4.22\\\" -I/usr/include/glib-2.0 -I/usr/lib/x86_64-linux-gnu/glib-2.0/include    ranges.c\n",
            "    .... compile source file builtins.c\n",
            "rm -f builtins.o\n",
            "gcc -c  -o builtins.o -O2 -Wall -fPIC -m64   -DUSE_TERMCAP -DUSE_READLINE -DCWB_REGISTRY_DEFAULT_PATH=\\\"\"/usr/local/cwb-3.4.22/share/cwb/registry\"\\\" -DCOMPILE_DATE=\\\"\"Tue Dec 28 07:38:29 UTC 2021\"\\\" -DCWB_VERSION=\\\"3.4.22\\\" -I/usr/include/glib-2.0 -I/usr/lib/x86_64-linux-gnu/glib-2.0/include    builtins.c\n",
            "    .... compile source file groups.c\n",
            "rm -f groups.o\n",
            "gcc -c  -o groups.o -O2 -Wall -fPIC -m64   -DUSE_TERMCAP -DUSE_READLINE -DCWB_REGISTRY_DEFAULT_PATH=\\\"\"/usr/local/cwb-3.4.22/share/cwb/registry\"\\\" -DCOMPILE_DATE=\\\"\"Tue Dec 28 07:38:29 UTC 2021\"\\\" -DCWB_VERSION=\\\"3.4.22\\\" -I/usr/include/glib-2.0 -I/usr/lib/x86_64-linux-gnu/glib-2.0/include    groups.c\n",
            "    .... compile source file targets.c\n",
            "rm -f targets.o\n",
            "gcc -c  -o targets.o -O2 -Wall -fPIC -m64   -DUSE_TERMCAP -DUSE_READLINE -DCWB_REGISTRY_DEFAULT_PATH=\\\"\"/usr/local/cwb-3.4.22/share/cwb/registry\"\\\" -DCOMPILE_DATE=\\\"\"Tue Dec 28 07:38:30 UTC 2021\"\\\" -DCWB_VERSION=\\\"3.4.22\\\" -I/usr/include/glib-2.0 -I/usr/lib/x86_64-linux-gnu/glib-2.0/include    targets.c\n",
            "    .... compile source file matchlist.c\n",
            "rm -f matchlist.o\n",
            "gcc -c  -o matchlist.o -O2 -Wall -fPIC -m64   -DUSE_TERMCAP -DUSE_READLINE -DCWB_REGISTRY_DEFAULT_PATH=\\\"\"/usr/local/cwb-3.4.22/share/cwb/registry\"\\\" -DCOMPILE_DATE=\\\"\"Tue Dec 28 07:38:30 UTC 2021\"\\\" -DCWB_VERSION=\\\"3.4.22\\\" -I/usr/include/glib-2.0 -I/usr/lib/x86_64-linux-gnu/glib-2.0/include    matchlist.c\n",
            "    .... compile source file concordance.c\n",
            "rm -f concordance.o\n",
            "gcc -c  -o concordance.o -O2 -Wall -fPIC -m64   -DUSE_TERMCAP -DUSE_READLINE -DCWB_REGISTRY_DEFAULT_PATH=\\\"\"/usr/local/cwb-3.4.22/share/cwb/registry\"\\\" -DCOMPILE_DATE=\\\"\"Tue Dec 28 07:38:30 UTC 2021\"\\\" -DCWB_VERSION=\\\"3.4.22\\\" -I/usr/include/glib-2.0 -I/usr/lib/x86_64-linux-gnu/glib-2.0/include    concordance.c\n",
            "    .... compile source file parse_actions.c\n",
            "rm -f parse_actions.o\n",
            "gcc -c  -o parse_actions.o -O2 -Wall -fPIC -m64   -DUSE_TERMCAP -DUSE_READLINE -DCWB_REGISTRY_DEFAULT_PATH=\\\"\"/usr/local/cwb-3.4.22/share/cwb/registry\"\\\" -DCOMPILE_DATE=\\\"\"Tue Dec 28 07:38:30 UTC 2021\"\\\" -DCWB_VERSION=\\\"3.4.22\\\" -I/usr/include/glib-2.0 -I/usr/lib/x86_64-linux-gnu/glib-2.0/include    parse_actions.c\n",
            "    .... compile source file attlist.c\n",
            "rm -f attlist.o\n",
            "gcc -c  -o attlist.o -O2 -Wall -fPIC -m64   -DUSE_TERMCAP -DUSE_READLINE -DCWB_REGISTRY_DEFAULT_PATH=\\\"\"/usr/local/cwb-3.4.22/share/cwb/registry\"\\\" -DCOMPILE_DATE=\\\"\"Tue Dec 28 07:38:31 UTC 2021\"\\\" -DCWB_VERSION=\\\"3.4.22\\\" -I/usr/include/glib-2.0 -I/usr/lib/x86_64-linux-gnu/glib-2.0/include    attlist.c\n",
            "    .... compile source file context_descriptor.c\n",
            "rm -f context_descriptor.o\n",
            "gcc -c  -o context_descriptor.o -O2 -Wall -fPIC -m64   -DUSE_TERMCAP -DUSE_READLINE -DCWB_REGISTRY_DEFAULT_PATH=\\\"\"/usr/local/cwb-3.4.22/share/cwb/registry\"\\\" -DCOMPILE_DATE=\\\"\"Tue Dec 28 07:38:31 UTC 2021\"\\\" -DCWB_VERSION=\\\"3.4.22\\\" -I/usr/include/glib-2.0 -I/usr/lib/x86_64-linux-gnu/glib-2.0/include    context_descriptor.c\n",
            "    .... compile source file print-modes.c\n",
            "rm -f print-modes.o\n",
            "gcc -c  -o print-modes.o -O2 -Wall -fPIC -m64   -DUSE_TERMCAP -DUSE_READLINE -DCWB_REGISTRY_DEFAULT_PATH=\\\"\"/usr/local/cwb-3.4.22/share/cwb/registry\"\\\" -DCOMPILE_DATE=\\\"\"Tue Dec 28 07:38:31 UTC 2021\"\\\" -DCWB_VERSION=\\\"3.4.22\\\" -I/usr/include/glib-2.0 -I/usr/lib/x86_64-linux-gnu/glib-2.0/include    print-modes.c\n",
            "    .... compile source file ascii-print.c\n",
            "rm -f ascii-print.o\n",
            "gcc -c  -o ascii-print.o -O2 -Wall -fPIC -m64   -DUSE_TERMCAP -DUSE_READLINE -DCWB_REGISTRY_DEFAULT_PATH=\\\"\"/usr/local/cwb-3.4.22/share/cwb/registry\"\\\" -DCOMPILE_DATE=\\\"\"Tue Dec 28 07:38:31 UTC 2021\"\\\" -DCWB_VERSION=\\\"3.4.22\\\" -I/usr/include/glib-2.0 -I/usr/lib/x86_64-linux-gnu/glib-2.0/include    ascii-print.c\n",
            "    .... compile source file sgml-print.c\n",
            "rm -f sgml-print.o\n",
            "gcc -c  -o sgml-print.o -O2 -Wall -fPIC -m64   -DUSE_TERMCAP -DUSE_READLINE -DCWB_REGISTRY_DEFAULT_PATH=\\\"\"/usr/local/cwb-3.4.22/share/cwb/registry\"\\\" -DCOMPILE_DATE=\\\"\"Tue Dec 28 07:38:31 UTC 2021\"\\\" -DCWB_VERSION=\\\"3.4.22\\\" -I/usr/include/glib-2.0 -I/usr/lib/x86_64-linux-gnu/glib-2.0/include    sgml-print.c\n",
            "    .... compile source file html-print.c\n",
            "rm -f html-print.o\n",
            "gcc -c  -o html-print.o -O2 -Wall -fPIC -m64   -DUSE_TERMCAP -DUSE_READLINE -DCWB_REGISTRY_DEFAULT_PATH=\\\"\"/usr/local/cwb-3.4.22/share/cwb/registry\"\\\" -DCOMPILE_DATE=\\\"\"Tue Dec 28 07:38:32 UTC 2021\"\\\" -DCWB_VERSION=\\\"3.4.22\\\" -I/usr/include/glib-2.0 -I/usr/lib/x86_64-linux-gnu/glib-2.0/include    html-print.c\n",
            "    .... compile source file latex-print.c\n",
            "rm -f latex-print.o\n",
            "gcc -c  -o latex-print.o -O2 -Wall -fPIC -m64   -DUSE_TERMCAP -DUSE_READLINE -DCWB_REGISTRY_DEFAULT_PATH=\\\"\"/usr/local/cwb-3.4.22/share/cwb/registry\"\\\" -DCOMPILE_DATE=\\\"\"Tue Dec 28 07:38:32 UTC 2021\"\\\" -DCWB_VERSION=\\\"3.4.22\\\" -I/usr/include/glib-2.0 -I/usr/lib/x86_64-linux-gnu/glib-2.0/include    latex-print.c\n",
            "    .... compile source file variables.c\n",
            "rm -f variables.o\n",
            "gcc -c  -o variables.o -O2 -Wall -fPIC -m64   -DUSE_TERMCAP -DUSE_READLINE -DCWB_REGISTRY_DEFAULT_PATH=\\\"\"/usr/local/cwb-3.4.22/share/cwb/registry\"\\\" -DCOMPILE_DATE=\\\"\"Tue Dec 28 07:38:32 UTC 2021\"\\\" -DCWB_VERSION=\\\"3.4.22\\\" -I/usr/include/glib-2.0 -I/usr/lib/x86_64-linux-gnu/glib-2.0/include    variables.c\n",
            "    .... compile source file print_align.c\n",
            "rm -f print_align.o\n",
            "gcc -c  -o print_align.o -O2 -Wall -fPIC -m64   -DUSE_TERMCAP -DUSE_READLINE -DCWB_REGISTRY_DEFAULT_PATH=\\\"\"/usr/local/cwb-3.4.22/share/cwb/registry\"\\\" -DCOMPILE_DATE=\\\"\"Tue Dec 28 07:38:32 UTC 2021\"\\\" -DCWB_VERSION=\\\"3.4.22\\\" -I/usr/include/glib-2.0 -I/usr/lib/x86_64-linux-gnu/glib-2.0/include    print_align.c\n",
            "    .... compile source file macro.c\n",
            "rm -f macro.o\n",
            "gcc -c  -o macro.o -O2 -Wall -fPIC -m64   -DUSE_TERMCAP -DUSE_READLINE -DCWB_REGISTRY_DEFAULT_PATH=\\\"\"/usr/local/cwb-3.4.22/share/cwb/registry\"\\\" -DCOMPILE_DATE=\\\"\"Tue Dec 28 07:38:32 UTC 2021\"\\\" -DCWB_VERSION=\\\"3.4.22\\\" -I/usr/include/glib-2.0 -I/usr/lib/x86_64-linux-gnu/glib-2.0/include    macro.c\n",
            "    .... compile source file hash.c\n",
            "rm -f hash.o\n",
            "gcc -c  -o hash.o -O2 -Wall -fPIC -m64   -DUSE_TERMCAP -DUSE_READLINE -DCWB_REGISTRY_DEFAULT_PATH=\\\"\"/usr/local/cwb-3.4.22/share/cwb/registry\"\\\" -DCOMPILE_DATE=\\\"\"Tue Dec 28 07:38:32 UTC 2021\"\\\" -DCWB_VERSION=\\\"3.4.22\\\" -I/usr/include/glib-2.0 -I/usr/lib/x86_64-linux-gnu/glib-2.0/include    hash.c\n",
            "    .... compile source file table.c\n",
            "rm -f table.o\n",
            "gcc -c  -o table.o -O2 -Wall -fPIC -m64   -DUSE_TERMCAP -DUSE_READLINE -DCWB_REGISTRY_DEFAULT_PATH=\\\"\"/usr/local/cwb-3.4.22/share/cwb/registry\"\\\" -DCOMPILE_DATE=\\\"\"Tue Dec 28 07:38:32 UTC 2021\"\\\" -DCWB_VERSION=\\\"3.4.22\\\" -I/usr/include/glib-2.0 -I/usr/lib/x86_64-linux-gnu/glib-2.0/include    table.c\n",
            "    .... compile source file parser.tab.c\n",
            "rm -f parser.tab.o\n",
            "gcc -c  -o parser.tab.o -O2 -Wall -fPIC -m64   -DUSE_TERMCAP -DUSE_READLINE -DCWB_REGISTRY_DEFAULT_PATH=\\\"\"/usr/local/cwb-3.4.22/share/cwb/registry\"\\\" -DCOMPILE_DATE=\\\"\"Tue Dec 28 07:38:33 UTC 2021\"\\\" -DCWB_VERSION=\\\"3.4.22\\\" -I/usr/include/glib-2.0 -I/usr/lib/x86_64-linux-gnu/glib-2.0/include    parser.tab.c\n",
            "    .... compile source file lex.yy.c\n",
            "rm -f lex.yy.o\n",
            "gcc -c  -o lex.yy.o -O2 -Wall -fPIC -m64   -DUSE_TERMCAP -DUSE_READLINE -DCWB_REGISTRY_DEFAULT_PATH=\\\"\"/usr/local/cwb-3.4.22/share/cwb/registry\"\\\" -DCOMPILE_DATE=\\\"\"Tue Dec 28 07:38:33 UTC 2021\"\\\" -DCWB_VERSION=\\\"3.4.22\\\" -I/usr/include/glib-2.0 -I/usr/lib/x86_64-linux-gnu/glib-2.0/include    lex.yy.c\n",
            "    .... compile source file dummy_auth.c\n",
            "rm -f dummy_auth.o\n",
            "gcc -c  -o dummy_auth.o -O2 -Wall -fPIC -m64   -DUSE_TERMCAP -DUSE_READLINE -DCWB_REGISTRY_DEFAULT_PATH=\\\"\"/usr/local/cwb-3.4.22/share/cwb/registry\"\\\" -DCOMPILE_DATE=\\\"\"Tue Dec 28 07:38:33 UTC 2021\"\\\" -DCWB_VERSION=\\\"3.4.22\\\" -I/usr/include/glib-2.0 -I/usr/lib/x86_64-linux-gnu/glib-2.0/include    dummy_auth.c\n",
            "    .... compile source file llquery.c\n",
            "rm -f llquery.o\n",
            "gcc -c  -o llquery.o -O2 -Wall -fPIC -m64   -DUSE_TERMCAP -DUSE_READLINE -DCWB_REGISTRY_DEFAULT_PATH=\\\"\"/usr/local/cwb-3.4.22/share/cwb/registry\"\\\" -DCOMPILE_DATE=\\\"\"Tue Dec 28 07:38:33 UTC 2021\"\\\" -DCWB_VERSION=\\\"3.4.22\\\" -I/usr/include/glib-2.0 -I/usr/lib/x86_64-linux-gnu/glib-2.0/include    llquery.c\n",
            "    .... link executable cqp\n",
            "rm -f cqp\n",
            "gcc -O2 -Wall -fPIC -m64   -DUSE_TERMCAP -DUSE_READLINE -DCWB_REGISTRY_DEFAULT_PATH=\\\"\"/usr/local/cwb-3.4.22/share/cwb/registry\"\\\" -DCOMPILE_DATE=\\\"\"Tue Dec 28 07:38:34 UTC 2021\"\\\" -DCWB_VERSION=\\\"3.4.22\\\" -I/usr/include/glib-2.0 -I/usr/lib/x86_64-linux-gnu/glib-2.0/include    -o cqp llquery.o cqp.o symtab.o eval.o tree.o options.o corpmanag.o regex2dfa.o output.o ranges.o builtins.o groups.o targets.o matchlist.o concordance.o parse_actions.o attlist.o context_descriptor.o print-modes.o ascii-print.o sgml-print.o html-print.o latex-print.o variables.o print_align.o macro.o hash.o table.o parser.tab.o lex.yy.o dummy_auth.o /content/cwb-3.4.22/cqp/../cl/libcl.a   -lm   -lpcre -lglib-2.0   -lreadline -lhistory -lncurses -ltinfo\n",
            "    .... compile source file cqpcl.c\n",
            "rm -f cqpcl.o\n",
            "gcc -c  -o cqpcl.o -O2 -Wall -fPIC -m64   -DUSE_TERMCAP -DUSE_READLINE -DCWB_REGISTRY_DEFAULT_PATH=\\\"\"/usr/local/cwb-3.4.22/share/cwb/registry\"\\\" -DCOMPILE_DATE=\\\"\"Tue Dec 28 07:38:34 UTC 2021\"\\\" -DCWB_VERSION=\\\"3.4.22\\\" -I/usr/include/glib-2.0 -I/usr/lib/x86_64-linux-gnu/glib-2.0/include    cqpcl.c\n",
            "    .... link executable cqpcl\n",
            "rm -f cqpcl\n",
            "gcc -O2 -Wall -fPIC -m64   -DUSE_TERMCAP -DUSE_READLINE -DCWB_REGISTRY_DEFAULT_PATH=\\\"\"/usr/local/cwb-3.4.22/share/cwb/registry\"\\\" -DCOMPILE_DATE=\\\"\"Tue Dec 28 07:38:34 UTC 2021\"\\\" -DCWB_VERSION=\\\"3.4.22\\\" -I/usr/include/glib-2.0 -I/usr/lib/x86_64-linux-gnu/glib-2.0/include    -o cqpcl cqpcl.o cqp.o symtab.o eval.o tree.o options.o corpmanag.o regex2dfa.o output.o ranges.o builtins.o groups.o targets.o matchlist.o concordance.o parse_actions.o attlist.o context_descriptor.o print-modes.o ascii-print.o sgml-print.o html-print.o latex-print.o variables.o print_align.o macro.o hash.o table.o parser.tab.o lex.yy.o dummy_auth.o /content/cwb-3.4.22/cqp/../cl/libcl.a   -lm   -lpcre -lglib-2.0   -lreadline -lhistory -lncurses -ltinfo\n",
            "    .... compile source file ../CQi/server.c\n",
            "rm -f ../CQi/server.o\n",
            "gcc -c  -o ../CQi/server.o -O2 -Wall -fPIC -m64   -DUSE_TERMCAP -DUSE_READLINE -DCWB_REGISTRY_DEFAULT_PATH=\\\"\"/usr/local/cwb-3.4.22/share/cwb/registry\"\\\" -DCOMPILE_DATE=\\\"\"Tue Dec 28 07:38:34 UTC 2021\"\\\" -DCWB_VERSION=\\\"3.4.22\\\" -I/usr/include/glib-2.0 -I/usr/lib/x86_64-linux-gnu/glib-2.0/include    ../CQi/server.c\n",
            "    .... compile source file ../CQi/auth.c\n",
            "rm -f ../CQi/auth.o\n",
            "gcc -c  -o ../CQi/auth.o -O2 -Wall -fPIC -m64   -DUSE_TERMCAP -DUSE_READLINE -DCWB_REGISTRY_DEFAULT_PATH=\\\"\"/usr/local/cwb-3.4.22/share/cwb/registry\"\\\" -DCOMPILE_DATE=\\\"\"Tue Dec 28 07:38:34 UTC 2021\"\\\" -DCWB_VERSION=\\\"3.4.22\\\" -I/usr/include/glib-2.0 -I/usr/lib/x86_64-linux-gnu/glib-2.0/include    ../CQi/auth.c\n",
            "    .... compile source file ../CQi/cqpserver.c\n",
            "rm -f ../CQi/cqpserver.o\n",
            "gcc -c  -o ../CQi/cqpserver.o -O2 -Wall -fPIC -m64   -DUSE_TERMCAP -DUSE_READLINE -DCWB_REGISTRY_DEFAULT_PATH=\\\"\"/usr/local/cwb-3.4.22/share/cwb/registry\"\\\" -DCOMPILE_DATE=\\\"\"Tue Dec 28 07:38:34 UTC 2021\"\\\" -DCWB_VERSION=\\\"3.4.22\\\" -I/usr/include/glib-2.0 -I/usr/lib/x86_64-linux-gnu/glib-2.0/include    ../CQi/cqpserver.c\n",
            "    .... link executable cqpserver\n",
            "rm -f cqpserver\n",
            "gcc -O2 -Wall -fPIC -m64   -DUSE_TERMCAP -DUSE_READLINE -DCWB_REGISTRY_DEFAULT_PATH=\\\"\"/usr/local/cwb-3.4.22/share/cwb/registry\"\\\" -DCOMPILE_DATE=\\\"\"Tue Dec 28 07:38:34 UTC 2021\"\\\" -DCWB_VERSION=\\\"3.4.22\\\" -I/usr/include/glib-2.0 -I/usr/lib/x86_64-linux-gnu/glib-2.0/include    -o cqpserver ../CQi/cqpserver.o cqp.o symtab.o eval.o tree.o options.o corpmanag.o regex2dfa.o output.o ranges.o builtins.o groups.o targets.o matchlist.o concordance.o parse_actions.o attlist.o context_descriptor.o print-modes.o ascii-print.o sgml-print.o html-print.o latex-print.o variables.o print_align.o macro.o hash.o table.o parser.tab.o lex.yy.o ../CQi/server.o ../CQi/auth.o /content/cwb-3.4.22/cqp/../cl/libcl.a   -lm   -lpcre -lglib-2.0   -lreadline -lhistory -lncurses -ltinfo \n",
            "make[1]: Leaving directory '/content/cwb-3.4.22/cqp'\n",
            "--------------------------------- INSTALLING CORPUS WORKBENCH\n",
            "make -C cl install   # not in for loop to make sure we abort on error\n",
            "make[1]: Entering directory '/content/cwb-3.4.22/cl'\n",
            "    .... install the CL static library file\n",
            "if [ ! -d \"/usr/local/cwb-3.4.22/lib\" ]; then install   -m 755  -d \"/usr/local/cwb-3.4.22/lib\" ; fi;\n",
            "install  -m 644  libcl.a \"/usr/local/cwb-3.4.22/lib\"\n",
            "    .... install cwb/cl.h header file\n",
            "if [ ! -d \"/usr/local/cwb-3.4.22/include/cwb\" ]; then install   -m 755  -d \"/usr/local/cwb-3.4.22/include/cwb\" ; fi;\n",
            "install  -m 644  cl.h \"/usr/local/cwb-3.4.22/include/cwb\"\n",
            "make[1]: Leaving directory '/content/cwb-3.4.22/cl'\n",
            "make -C cqp install\n",
            "make[1]: Entering directory '/content/cwb-3.4.22/cqp'\n",
            "    .... install the CQP programs\n",
            "if [ ! -d /usr/local/cwb-3.4.22/bin ]; then install   -m 755  -d /usr/local/cwb-3.4.22/bin; fi;\n",
            "for i in cqp cqpcl cqpserver ; do install  -m 755  $i /usr/local/cwb-3.4.22/bin ; done\n",
            "    .... install the CQi/cqi.h header file\n",
            "if [ ! -d /usr/local/cwb-3.4.22/include ]; then install   -m 755  -d /usr/local/cwb-3.4.22/include ; fi;\n",
            "install  -m 644  ../CQi/cqi.h /usr/local/cwb-3.4.22/include\n",
            "make[1]: Leaving directory '/content/cwb-3.4.22/cqp'\n",
            "make -C utils install\n",
            "make[1]: Entering directory '/content/cwb-3.4.22/utils'\n",
            "    .... install the CWB utility programs\n",
            "if [ ! -d \"/usr/local/cwb-3.4.22/bin\" ]; then install   -m 755  -d \"/usr/local/cwb-3.4.22/bin\"; fi;\n",
            "for i in cwb-atoi cwb-itoa cwb-makeall cwb-encode cwb-decode cwb-lexdecode cwb-huffcode cwb-compress-rdx cwb-s-encode cwb-s-decode cwb-describe-corpus cwb-decode-nqrfile cwb-scan-corpus cwb-align cwb-align-show cwb-align-encode cwb-align-decode ; do install  -m 755  $i \"/usr/local/cwb-3.4.22/bin\"; done\n",
            "make[1]: Leaving directory '/content/cwb-3.4.22/utils'\n",
            "make -C man install\n",
            "make[1]: Entering directory '/content/cwb-3.4.22/man'\n",
            "    .... compile manual file cqp.man\n",
            "pod2man --section=1 --center=\"IMS Open Corpus Workbench\" --release=3.4.22 cqp.pod > cqp.man\n",
            "    .... compile manual file cqpcl.man\n",
            "pod2man --section=1 --center=\"IMS Open Corpus Workbench\" --release=3.4.22 cqpcl.pod > cqpcl.man\n",
            "    .... compile manual file cqpserver.man\n",
            "pod2man --section=1 --center=\"IMS Open Corpus Workbench\" --release=3.4.22 cqpserver.pod > cqpserver.man\n",
            "    .... compile manual file cwb-align.man\n",
            "pod2man --section=1 --center=\"IMS Open Corpus Workbench\" --release=3.4.22 cwb-align.pod > cwb-align.man\n",
            "    .... compile manual file cwb-align-show.man\n",
            "pod2man --section=1 --center=\"IMS Open Corpus Workbench\" --release=3.4.22 cwb-align-show.pod > cwb-align-show.man\n",
            "    .... compile manual file cwb-align-encode.man\n",
            "pod2man --section=1 --center=\"IMS Open Corpus Workbench\" --release=3.4.22 cwb-align-encode.pod > cwb-align-encode.man\n",
            "    .... compile manual file cwb-align-decode.man\n",
            "pod2man --section=1 --center=\"IMS Open Corpus Workbench\" --release=3.4.22 cwb-align-decode.pod > cwb-align-decode.man\n",
            "    .... compile manual file cwb-atoi.man\n",
            "pod2man --section=1 --center=\"IMS Open Corpus Workbench\" --release=3.4.22 cwb-atoi.pod > cwb-atoi.man\n",
            "    .... compile manual file cwb-itoa.man\n",
            "pod2man --section=1 --center=\"IMS Open Corpus Workbench\" --release=3.4.22 cwb-itoa.pod > cwb-itoa.man\n",
            "    .... compile manual file cwb-config.man\n",
            "pod2man --section=1 --center=\"IMS Open Corpus Workbench\" --release=3.4.22 cwb-config.pod > cwb-config.man\n",
            "    .... compile manual file cwb-encode.man\n",
            "pod2man --section=1 --center=\"IMS Open Corpus Workbench\" --release=3.4.22 cwb-encode.pod > cwb-encode.man\n",
            "    .... compile manual file cwb-decode.man\n",
            "pod2man --section=1 --center=\"IMS Open Corpus Workbench\" --release=3.4.22 cwb-decode.pod > cwb-decode.man\n",
            "    .... compile manual file cwb-lexdecode.man\n",
            "pod2man --section=1 --center=\"IMS Open Corpus Workbench\" --release=3.4.22 cwb-lexdecode.pod > cwb-lexdecode.man\n",
            "    .... compile manual file cwb-decode-nqrfile.man\n",
            "pod2man --section=1 --center=\"IMS Open Corpus Workbench\" --release=3.4.22 cwb-decode-nqrfile.pod > cwb-decode-nqrfile.man\n",
            "    .... compile manual file cwb-describe-corpus.man\n",
            "pod2man --section=1 --center=\"IMS Open Corpus Workbench\" --release=3.4.22 cwb-describe-corpus.pod > cwb-describe-corpus.man\n",
            "    .... compile manual file cwb-makeall.man\n",
            "pod2man --section=1 --center=\"IMS Open Corpus Workbench\" --release=3.4.22 cwb-makeall.pod > cwb-makeall.man\n",
            "    .... compile manual file cwb-compress-rdx.man\n",
            "pod2man --section=1 --center=\"IMS Open Corpus Workbench\" --release=3.4.22 cwb-compress-rdx.pod > cwb-compress-rdx.man\n",
            "    .... compile manual file cwb-huffcode.man\n",
            "pod2man --section=1 --center=\"IMS Open Corpus Workbench\" --release=3.4.22 cwb-huffcode.pod > cwb-huffcode.man\n",
            "    .... compile manual file cwb-s-encode.man\n",
            "pod2man --section=1 --center=\"IMS Open Corpus Workbench\" --release=3.4.22 cwb-s-encode.pod > cwb-s-encode.man\n",
            "    .... compile manual file cwb-s-decode.man\n",
            "pod2man --section=1 --center=\"IMS Open Corpus Workbench\" --release=3.4.22 cwb-s-decode.pod > cwb-s-decode.man\n",
            "    .... compile manual file cwb-scan-corpus.man\n",
            "pod2man --section=1 --center=\"IMS Open Corpus Workbench\" --release=3.4.22 cwb-scan-corpus.pod > cwb-scan-corpus.man\n",
            "    .... install all manual files\n",
            "if [ ! -d /usr/local/cwb-3.4.22/share/man/man1 ];\tthen  install   -m 755  -d /usr/local/cwb-3.4.22/share/man/man1; fi\n",
            "for i in cqp cqpcl cqpserver cwb-align cwb-align-show cwb-align-encode cwb-align-decode cwb-atoi cwb-itoa cwb-config cwb-encode cwb-decode cwb-lexdecode cwb-decode-nqrfile cwb-describe-corpus cwb-makeall cwb-compress-rdx cwb-huffcode cwb-s-encode cwb-s-decode cwb-scan-corpus; do install  -m 644  $i.man /usr/local/cwb-3.4.22/share/man/man1/$i.1 ; done\n",
            "make[1]: Leaving directory '/content/cwb-3.4.22/man'\n",
            "make -C instutils all\n",
            "make[1]: Entering directory '/content/cwb-3.4.22/instutils'\n",
            "if [ -f cwb-config ]; then rm -f cwb-config; fi\n",
            "if [ -f install-cwb.sh ]; then rm -f install-cwb.sh; fi\n",
            "make cwb-config install-cwb.sh\n",
            "make[2]: Entering directory '/content/cwb-3.4.22/instutils'\n",
            "VERSION='3.4.22' PREFIX='/usr/local/cwb-3.4.22' BINDIR='/usr/local/cwb-3.4.22/bin' LIBDIR='/usr/local/cwb-3.4.22/lib' INCDIR='/usr/local/cwb-3.4.22/include' MANDIR='/usr/local/cwb-3.4.22/share/man' CFLAGS='-I/usr/local/cwb-3.4.22/include' LDFLAGS='-L/usr/local/cwb-3.4.22/lib -lcl  -lm   -lpcre -lglib-2.0  ' REGISTRY='/usr/local/cwb-3.4.22/share/cwb/registry' sh cwb-config.in > cwb-config\n",
            "VERSION='3.4.22' PREFIX='/usr/local/cwb-3.4.22' REGISTRY='/usr/local/cwb-3.4.22/share/cwb/registry' MANEXT='1' sh install-cwb.sh.in > install-cwb.sh\t\n",
            "make[2]: Leaving directory '/content/cwb-3.4.22/instutils'\n",
            "make[1]: Leaving directory '/content/cwb-3.4.22/instutils'\n",
            "make -C instutils install\n",
            "make[1]: Entering directory '/content/cwb-3.4.22/instutils'\n",
            "if [ ! -d /usr/local/cwb-3.4.22/bin ]; then install   -m 755  -d \"/usr/local/cwb-3.4.22/bin\"; fi\n",
            "install  -m 755  cwb-config \"/usr/local/cwb-3.4.22/bin/cwb-config\"\n",
            "make[1]: Leaving directory '/content/cwb-3.4.22/instutils'\n",
            "--------------------------------- PERFORMING TYPICAL CLEANUP\n",
            "for i in cl cqp utils man instutils\t ; do if [ -f \"$i/Makefile\" ]; then make -C $i clean; fi; done;\n",
            "make[1]: Entering directory '/content/cwb-3.4.22/cl'\n",
            "    .... cleanup compiled CL library code\n",
            "rm -f *.o libcl.a registry.output *~\n",
            "make[1]: Leaving directory '/content/cwb-3.4.22/cl'\n",
            "make[1]: Entering directory '/content/cwb-3.4.22/cqp'\n",
            "    .... cleanup CQP programs\n",
            "rm -f cqp cqpcl cqpserver  *.o ../CQi/*.o parser.output *~ ../CQi/*~\n",
            "make[1]: Leaving directory '/content/cwb-3.4.22/cqp'\n",
            "make[1]: Entering directory '/content/cwb-3.4.22/utils'\n",
            "    .... cleanup CWB utility programs\n",
            "rm -f cwb-atoi cwb-itoa cwb-makeall cwb-encode cwb-decode cwb-lexdecode cwb-huffcode cwb-compress-rdx cwb-s-encode cwb-s-decode cwb-describe-corpus cwb-decode-nqrfile cwb-scan-corpus cwb-align cwb-align-show cwb-align-encode cwb-align-decode  *.o *~\n",
            "make[1]: Leaving directory '/content/cwb-3.4.22/utils'\n",
            "make[1]: Entering directory '/content/cwb-3.4.22/man'\n",
            "    .... cleanup PDF files\n",
            "rm -f cqp.pdf cqpcl.pdf cqpserver.pdf cwb-align.pdf cwb-align-show.pdf cwb-align-encode.pdf cwb-align-decode.pdf cwb-atoi.pdf cwb-itoa.pdf cwb-config.pdf cwb-encode.pdf cwb-decode.pdf cwb-lexdecode.pdf cwb-decode-nqrfile.pdf cwb-describe-corpus.pdf cwb-makeall.pdf cwb-compress-rdx.pdf cwb-huffcode.pdf cwb-s-encode.pdf cwb-s-decode.pdf cwb-scan-corpus.pdf *~\n",
            "make[1]: Leaving directory '/content/cwb-3.4.22/man'\n",
            "make[1]: Entering directory '/content/cwb-3.4.22/instutils'\n",
            "rm -f cwb-config install-cwb.sh *~\n",
            "make[1]: Leaving directory '/content/cwb-3.4.22/instutils'\n",
            "rm -f *~ config/*/*~ CQi/*~ CQi/*.o technical/*~ TAGS\n",
            "rm -f -rf build\n",
            "--------------------------------- PERFORMING EXTRA CLEANUP\n",
            "for i in cl cqp utils man instutils\t ; do make -C $i realclean; done;\n",
            "make[1]: Entering directory '/content/cwb-3.4.22/cl'\n",
            "    .... cleanup compiled CL library code\n",
            "rm -f *.o libcl.a registry.output *~\n",
            "    .... cleanup CL registry parser's automatic files\n",
            "rm -f registry.tab.c registry.tab.c lex.creg.c registry.tab.h\n",
            "rm -f depend.mk\n",
            "make[1]: Leaving directory '/content/cwb-3.4.22/cl'\n",
            "make[1]: Entering directory '/content/cwb-3.4.22/cqp'\n",
            "    .... cleanup CQP programs\n",
            "rm -f cqp cqpcl cqpserver  *.o ../CQi/*.o parser.output *~ ../CQi/*~\n",
            "    .... cleanup CQP parser code\n",
            "rm -f lex.yy.c parser.tab.c parser.tab.h \n",
            "rm -f depend.mk\n",
            "make[1]: Leaving directory '/content/cwb-3.4.22/cqp'\n",
            "make[1]: Entering directory '/content/cwb-3.4.22/utils'\n",
            "    .... cleanup CWB utility programs\n",
            "rm -f cwb-atoi cwb-itoa cwb-makeall cwb-encode cwb-decode cwb-lexdecode cwb-huffcode cwb-compress-rdx cwb-s-encode cwb-s-decode cwb-describe-corpus cwb-decode-nqrfile cwb-scan-corpus cwb-align cwb-align-show cwb-align-encode cwb-align-decode  *.o *~\n",
            "    .... cleanup CWB utilities dependency file\n",
            "rm -f depend.mk\n",
            "make[1]: Leaving directory '/content/cwb-3.4.22/utils'\n",
            "make[1]: Entering directory '/content/cwb-3.4.22/man'\n",
            "    .... cleanup all manual files\n",
            "rm -f cqp.pdf cqpcl.pdf cqpserver.pdf cwb-align.pdf cwb-align-show.pdf cwb-align-encode.pdf cwb-align-decode.pdf cwb-atoi.pdf cwb-itoa.pdf cwb-config.pdf cwb-encode.pdf cwb-decode.pdf cwb-lexdecode.pdf cwb-decode-nqrfile.pdf cwb-describe-corpus.pdf cwb-makeall.pdf cwb-compress-rdx.pdf cwb-huffcode.pdf cwb-s-encode.pdf cwb-s-decode.pdf cwb-scan-corpus.pdf cqp.man cqpcl.man cqpserver.man cwb-align.man cwb-align-show.man cwb-align-encode.man cwb-align-decode.man cwb-atoi.man cwb-itoa.man cwb-config.man cwb-encode.man cwb-decode.man cwb-lexdecode.man cwb-decode-nqrfile.man cwb-describe-corpus.man cwb-makeall.man cwb-compress-rdx.man cwb-huffcode.man cwb-s-encode.man cwb-s-decode.man cwb-scan-corpus.man *~\n",
            "make[1]: Leaving directory '/content/cwb-3.4.22/man'\n",
            "make[1]: Entering directory '/content/cwb-3.4.22/instutils'\n",
            "rm -f cwb-config install-cwb.sh *~\n",
            "make[1]: Leaving directory '/content/cwb-3.4.22/instutils'\n"
          ]
        }
      ]
    },
    {
      "cell_type": "code",
      "source": [
        "# !apt install subversion"
      ],
      "metadata": {
        "id": "bE1dsXQ65Boq"
      },
      "execution_count": null,
      "outputs": []
    },
    {
      "cell_type": "code",
      "source": [
        "# !svn co http://svn.code.sf.net/p/cwb/code/perl/trunk cwb-perl"
      ],
      "metadata": {
        "id": "a8aOdxTQ25L3"
      },
      "execution_count": null,
      "outputs": []
    },
    {
      "cell_type": "code",
      "source": [
        "# %cd /content/cwb-perl/CWB-CL"
      ],
      "metadata": {
        "id": "l7lyPEYp6B8J"
      },
      "execution_count": null,
      "outputs": []
    },
    {
      "cell_type": "code",
      "source": [
        "# !perl Makefile.PL --config=/content/cwb-3.4.22/install-scripts/config-basic"
      ],
      "metadata": {
        "id": "7s0Qdlyw7EjI"
      },
      "execution_count": null,
      "outputs": []
    },
    {
      "cell_type": "code",
      "source": [
        "%cd /content/"
      ],
      "metadata": {
        "colab": {
          "base_uri": "https://localhost:8080/"
        },
        "id": "CVuSe3hQ_BDj",
        "outputId": "f3c1c5b5-9231-4916-9ee9-2500cc646dce"
      },
      "execution_count": 17,
      "outputs": [
        {
          "output_type": "stream",
          "name": "stdout",
          "text": [
            "/content\n"
          ]
        }
      ]
    },
    {
      "cell_type": "code",
      "source": [
        "!wget https://heibox.uni-heidelberg.de/f/dd3538603aa84dd09a76/?dl=1"
      ],
      "metadata": {
        "id": "oGgO8XnS8mp1"
      },
      "execution_count": null,
      "outputs": []
    },
    {
      "cell_type": "code",
      "source": [
        "!mv index.html?dl=1 Dickens-1.0.tar.gz"
      ],
      "metadata": {
        "id": "0UkrOMJw8ubE"
      },
      "execution_count": 19,
      "outputs": []
    },
    {
      "cell_type": "code",
      "source": [
        "!tar xvzf Dickens-1.0.tar.gz"
      ],
      "metadata": {
        "id": "1zXK1Z9v8zob"
      },
      "execution_count": null,
      "outputs": []
    },
    {
      "cell_type": "code",
      "source": [
        "! echo $PATH"
      ],
      "metadata": {
        "colab": {
          "base_uri": "https://localhost:8080/"
        },
        "id": "Zlu6uAee9eJ1",
        "outputId": "3d3fa952-e832-4fbd-d778-93820faa6c49"
      },
      "execution_count": 21,
      "outputs": [
        {
          "output_type": "stream",
          "name": "stdout",
          "text": [
            "/usr/local/cwb-3.4.22/bin:/usr/local/nvidia/bin:/usr/local/cuda/bin:/usr/local/sbin:/usr/local/bin:/usr/sbin:/usr/bin:/sbin:/bin:/tools/node/bin:/tools/google-cloud-sdk/bin:/opt/bin\n"
          ]
        }
      ]
    },
    {
      "cell_type": "code",
      "source": [
        "%env PATH=/usr/local/cwb-3.4.22/bin:/usr/local/nvidia/bin:/usr/local/cuda/bin:/usr/local/sbin:/usr/local/bin:/usr/sbin:/usr/bin:/sbin:/bin:/tools/node/bin:/tools/google-cloud-sdk/bin:/opt/bin"
      ],
      "metadata": {
        "colab": {
          "base_uri": "https://localhost:8080/"
        },
        "id": "nsUAyqA79-PO",
        "outputId": "463d52be-feed-47d7-c015-b859ff1b0cbd"
      },
      "execution_count": 22,
      "outputs": [
        {
          "output_type": "stream",
          "name": "stdout",
          "text": [
            "env: PATH=/usr/local/cwb-3.4.22/bin:/usr/local/nvidia/bin:/usr/local/cuda/bin:/usr/local/sbin:/usr/local/bin:/usr/sbin:/usr/bin:/sbin:/bin:/tools/node/bin:/tools/google-cloud-sdk/bin:/opt/bin\n"
          ]
        }
      ]
    },
    {
      "cell_type": "code",
      "source": [
        "!echo $PATH"
      ],
      "metadata": {
        "colab": {
          "base_uri": "https://localhost:8080/"
        },
        "id": "XwVe-fIX_BCO",
        "outputId": "ebb90184-980d-420c-8c40-27df4b7714aa"
      },
      "execution_count": 23,
      "outputs": [
        {
          "output_type": "stream",
          "name": "stdout",
          "text": [
            "/usr/local/cwb-3.4.22/bin:/usr/local/nvidia/bin:/usr/local/cuda/bin:/usr/local/sbin:/usr/local/bin:/usr/sbin:/usr/bin:/sbin:/bin:/tools/node/bin:/tools/google-cloud-sdk/bin:/opt/bin\n"
          ]
        }
      ]
    },
    {
      "cell_type": "code",
      "source": [
        "!pwd"
      ],
      "metadata": {
        "colab": {
          "base_uri": "https://localhost:8080/"
        },
        "id": "-SegqQOf_a4H",
        "outputId": "a23fd148-f438-4a69-fa38-51e1a0fc2ab2"
      },
      "execution_count": 24,
      "outputs": [
        {
          "output_type": "stream",
          "name": "stdout",
          "text": [
            "/content\n"
          ]
        }
      ]
    },
    {
      "cell_type": "code",
      "source": [
        "%cd /content/Dickens-1.0"
      ],
      "metadata": {
        "colab": {
          "base_uri": "https://localhost:8080/"
        },
        "id": "8tLpU-rL_gxO",
        "outputId": "7e4af9b9-47e0-4d6a-f233-aa89c99f4785"
      },
      "execution_count": 27,
      "outputs": [
        {
          "output_type": "stream",
          "name": "stdout",
          "text": [
            "/content/Dickens-1.0\n"
          ]
        }
      ]
    },
    {
      "cell_type": "code",
      "source": [
        "# try:\n",
        "# DICKENS;\n",
        "# \"question\";\n",
        "# q\n",
        "# exit;\n",
        "!cqp -e -r registry"
      ],
      "metadata": {
        "colab": {
          "base_uri": "https://localhost:8080/"
        },
        "id": "23RaYSDs9LBw",
        "outputId": "edbb94a4-edb0-4ab4-e397-7ecfc8a269e3"
      },
      "execution_count": 28,
      "outputs": [
        {
          "output_type": "stream",
          "name": "stdout",
          "text": [
            "\u001b[m[no corpus]> DICKENS;\n",
            "\u001b[mDICKENS> \"question\";\n",
            "     5614:  then . Scrooge asked the <\u001b[m\u001b[7mquestion\u001b[m> , because he did n't kno\u001b[m\u001b[m\n",
            "    24336: r a bear . At every fresh <\u001b[m\u001b[7mquestion\u001b[m> that was put to him , th\u001b[m\u001b[m\n",
            "    28174: nny , and made it an open <\u001b[m\u001b[7mquestion\u001b[m> , I 'd repent of being s\u001b[m\u001b[m\n",
            "    31729: Scrooge , ` answer me one <\u001b[m\u001b[7mquestion\u001b[m> . Are these the shadows \u001b[m\u001b[m\n",
            "    36008:  the second branch of the <\u001b[m\u001b[7mquestion\u001b[m> , I will only remark , t\u001b[m\u001b[m\n",
            "    36769: ving once , on a disputed <\u001b[m\u001b[7mquestion\u001b[m> of supplies , made some \u001b[m\u001b[m\n",
            "    39206: ched - and so I asked the <\u001b[m\u001b[7mquestion\u001b[m> . You were an orphan , w\u001b[m\u001b[m\n",
            "    51121: , then ? said I , putting <\u001b[m\u001b[7mquestion\u001b[m> number two of the catech\u001b[m\u001b[m\n",
            "    53098: n I have asked myself the <\u001b[m\u001b[7mquestion\u001b[m> , would it have been bet\u001b[m\u001b[m\n",
            "    57633: . But if he had asked the <\u001b[m\u001b[7mquestion\u001b[m> twenty times , each time\u001b[m\u001b[m\n",
            "    79051:  ? Did it bite ? At every <\u001b[m\u001b[7mquestion\u001b[m> he gave me a fleshy cut \u001b[m\u001b[m\n",
            "    80966:  was of course out of the <\u001b[m\u001b[7mquestion\u001b[m> . In the morning , too ,\u001b[m\u001b[m\n",
            "    83429: s ? Steerforth evaded the <\u001b[m\u001b[7mquestion\u001b[m> for a little while ; loo\u001b[m\u001b[m\n",
            "    93809: ssionate judges of such a <\u001b[m\u001b[7mquestion\u001b[m> than you . ' Edward , ' \u001b[m\u001b[m\n",
            "    97211:  sorrowful to discuss the <\u001b[m\u001b[7mquestion\u001b[m> , which would possibly h\u001b[m\u001b[m\n",
            "   119570:  opportunity of putting a <\u001b[m\u001b[7mquestion\u001b[m> in which I had a near in\u001b[m\u001b[m\n",
            "   128775:  ; though I had asked the <\u001b[m\u001b[7mquestion\u001b[m> so often , that it almos\u001b[m\u001b[m\n",
            "   130829: vid Copperfield , and the <\u001b[m\u001b[7mquestion\u001b[m> I put to you is , what s\u001b[m\u001b[m\n",
            "   133561:  going to ask you another <\u001b[m\u001b[7mquestion\u001b[m> . Look at this child . '\u001b[m\u001b[m\n",
            "   135368: o give my opinion on this <\u001b[m\u001b[7mquestion\u001b[m> , I delivered my message\u001b[m\u001b[m\n",
            "   135996: endeavouring to evade the <\u001b[m\u001b[7mquestion\u001b[m> , by replying that I tho\u001b[m\u001b[m\n",
            "   137203: hem , chiefly because the <\u001b[m\u001b[7mquestion\u001b[m> was raised in her own mi\u001b[m\u001b[m\n",
            "   144319: Mr. Wickfield - ' the old <\u001b[m\u001b[7mquestion\u001b[m> , you know . What 's you\u001b[m\u001b[m\n",
            "\u001b[K\u001b[?1l\u001b>\u001b[mDICKENS> \n",
            "\u001b[mDICKENS> exit;\n",
            "\n",
            "Done. Share and enjoy!\n"
          ]
        }
      ]
    },
    {
      "cell_type": "code",
      "source": [
        "!cwb-describe-corpus -h"
      ],
      "metadata": {
        "colab": {
          "base_uri": "https://localhost:8080/"
        },
        "id": "Wbbdaxst_020",
        "outputId": "1932d865-e380-448d-f707-08fac25b2568"
      },
      "execution_count": 34,
      "outputs": [
        {
          "output_type": "stream",
          "name": "stdout",
          "text": [
            "\n",
            "Usage:  cwb-describe-corpus [flags] <corpus> [<corpus> ...] \n",
            "Options:\n",
            "  -r <dir>  use registry directory <dir>\n",
            "  -s        show statistics (attribute & lexicon size)\n",
            "  -d        show details (about component files)\n",
            "  -h        this help page\n",
            "Part of the IMS Open Corpus Workbench v3.4.22\n",
            "\n"
          ]
        }
      ]
    },
    {
      "cell_type": "code",
      "source": [
        "!cwb-describe-corpus -s -r registry dickens"
      ],
      "metadata": {
        "colab": {
          "base_uri": "https://localhost:8080/"
        },
        "id": "L27_yMizBI_k",
        "outputId": "bc69a5a7-8a7e-4d91-8eef-c757f21b1502"
      },
      "execution_count": 36,
      "outputs": [
        {
          "output_type": "stream",
          "name": "stdout",
          "text": [
            "\n",
            "============================================================\n",
            "Corpus: dickens\n",
            "============================================================\n",
            "\n",
            "description:    IMS Corpus Workbench Demo Corpus v1.0 (novels by Charles Dickens)\n",
            "registry file:  registry/dickens\n",
            "home directory: data/\n",
            "info file:      data/.info\n",
            "encoding:       latin1\n",
            "size (tokens):  3407085\n",
            "\n",
            "  3 positional attributes\n",
            " 34 structural attributes\n",
            "  0 alignment  attributes\n",
            "\n",
            "p-ATT word                3407085 tokens,    57568 types\n",
            "p-ATT pos                 3407085 tokens,       43 types\n",
            "p-ATT lemma               3407085 tokens,    41222 types\n",
            "s-ATT text                     14 regions\n",
            "s-ATT text_id                  14 regions (with annotations)\n",
            "s-ATT novel                    14 regions\n",
            "s-ATT novel_title              14 regions (with annotations)\n",
            "s-ATT titlepage                14 regions\n",
            "s-ATT book                     17 regions\n",
            "s-ATT book_num                 17 regions (with annotations)\n",
            "s-ATT chapter                 696 regions\n",
            "s-ATT chapter_num             696 regions (with annotations)\n",
            "s-ATT chapter_title           696 regions (with annotations)\n",
            "s-ATT title                   733 regions\n",
            "s-ATT title_len               733 regions (with annotations)\n",
            "s-ATT p                     61177 regions\n",
            "s-ATT p_len                 61177 regions (with annotations)\n",
            "s-ATT s                    152455 regions\n",
            "s-ATT s_len                152455 regions (with annotations)\n",
            "s-ATT np                   419363 regions\n",
            "s-ATT np1                   90915 regions\n",
            "s-ATT np2                   25640 regions\n",
            "s-ATT np_h                 419363 regions (with annotations)\n",
            "s-ATT np_h1                 90915 regions (with annotations)\n",
            "s-ATT np_h2                 25640 regions (with annotations)\n",
            "s-ATT np_len               419363 regions (with annotations)\n",
            "s-ATT np_len1               90915 regions (with annotations)\n",
            "s-ATT np_len2               25640 regions (with annotations)\n",
            "s-ATT pp                   116608 regions\n",
            "s-ATT pp1                   38889 regions\n",
            "s-ATT pp2                    9000 regions\n",
            "s-ATT pp_h                 116608 regions (with annotations)\n",
            "s-ATT pp_h1                 38889 regions (with annotations)\n",
            "s-ATT pp_h2                  9000 regions (with annotations)\n",
            "s-ATT pp_len               116608 regions (with annotations)\n",
            "s-ATT pp_len1               38889 regions (with annotations)\n",
            "s-ATT pp_len2                9000 regions (with annotations)\n",
            "\n"
          ]
        }
      ]
    }
  ]
}