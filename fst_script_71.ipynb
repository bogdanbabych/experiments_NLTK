{
  "nbformat": 4,
  "nbformat_minor": 0,
  "metadata": {
    "colab": {
      "provenance": [],
      "authorship_tag": "ABX9TyOZjsmaiujtIR2tNkyFDrcS",
      "include_colab_link": true
    },
    "kernelspec": {
      "name": "python3",
      "display_name": "Python 3"
    },
    "language_info": {
      "name": "python"
    }
  },
  "cells": [
    {
      "cell_type": "markdown",
      "metadata": {
        "id": "view-in-github",
        "colab_type": "text"
      },
      "source": [
        "<a href=\"https://colab.research.google.com/github/bogdanbabych/experiments_NLTK/blob/main/fst_script_71.ipynb\" target=\"_parent\"><img src=\"https://colab.research.google.com/assets/colab-badge.svg\" alt=\"Open In Colab\"/></a>"
      ]
    },
    {
      "cell_type": "markdown",
      "source": [
        "Converting the input/output format -- FST"
      ],
      "metadata": {
        "id": "CQC3NeVFWv0K"
      }
    },
    {
      "cell_type": "code",
      "execution_count": null,
      "metadata": {
        "id": "09OgyW1gWj-p"
      },
      "outputs": [],
      "source": [
        "!wget https://heibox.uni-heidelberg.de/f/7101da9baf2b4197b115/?dl=1"
      ]
    },
    {
      "cell_type": "code",
      "source": [
        "!mv index.html?dl=1 TbiLLC-data.tgz\n",
        "!tar xvzf TbiLLC-data.tgz"
      ],
      "metadata": {
        "id": "0JLbNjRpX0Fq"
      },
      "execution_count": null,
      "outputs": []
    },
    {
      "cell_type": "code",
      "source": [
        "!cp /content/TbiLLC-data/FST.txt /content/FST.txt"
      ],
      "metadata": {
        "id": "gxzoLAi1Yvyo"
      },
      "execution_count": 3,
      "outputs": []
    },
    {
      "cell_type": "code",
      "source": [
        "%%bash\n",
        "awk ' NR>=3&&NR<=23 ' /content/TbiLLC-data/Input_Output.txt >testIn.txt\n",
        "awk ' NR>=28&&NR<=44 ' /content/TbiLLC-data/Input_Output.txt >testOutCurrent.txt\n",
        "awk ' NR>=51&&NR<=74 ' /content/TbiLLC-data/Input_Output.txt >testOutDesired.txt"
      ],
      "metadata": {
        "id": "VNucbeotlaru"
      },
      "execution_count": 4,
      "outputs": []
    },
    {
      "cell_type": "code",
      "source": [
        "%%bash\n",
        "awk ' NR>=1&&NR<=5 ' FST.txt >FST101all.txt\n",
        "awk ' NR>=6&&NR<=8 ' FST.txt >FST102brave.txt\n",
        "awk ' NR>=9&&NR<=10 ' FST.txt >FST103warrior.txt\n",
        "awk ' NR>=11&&NR<=12 ' FST.txt >FST104always.txt\n",
        "awk ' NR>=13&&NR<=15 ' FST.txt >FST105very.txt\n",
        "awk ' NR>=16&&NR<=18 ' FST.txt >FST106selfsacrifice.txt\n",
        "awk ' NR>=19&&NR<=20 ' FST.txt >FST107protect.txt\n",
        "awk ' NR>=21&&NR<=25 ' FST.txt >FST108all.txt\n",
        "awk ' NR>=26&&NR<=27 ' FST.txt >FST109weak.txt\n",
        "awk ' NR>=28&&NR<=29 ' FST.txt >FST110person.txt\n",
        "awk ' NR>=30&&NR<=31 ' FST.txt >FST100eoffstop.txt"
      ],
      "metadata": {
        "id": "Exf4_Sm9r6LZ"
      },
      "execution_count": 15,
      "outputs": []
    },
    {
      "cell_type": "code",
      "source": [
        "!cat FST101all.txt FST100eoffstop.txt >FST201all.txt\n",
        "!cat FST102brave.txt FST100eoffstop.txt >FST202brave.txt\n",
        "!cat FST103warrior.txt FST100eoffstop.txt >FST203warrior.txt\n",
        "!cat FST104always.txt FST100eoffstop.txt >FST204always.txt\n",
        "!cat FST105very.txt FST100eoffstop.txt >FST205very.txt\n",
        "!cat FST106selfsacrifice.txt FST100eoffstop.txt >FST206selfsacrifice.txt\n",
        "!cat FST107protect.txt FST100eoffstop.txt >FST207protect.txt\n",
        "!cat FST108all.txt FST100eoffstop.txt >FST208all.txt\n",
        "!cat FST109weak.txt FST100eoffstop.txt >FST209weak.txt\n",
        "!cat FST110person.txt FST100eoffstop.txt >FST210person.txt\n"
      ],
      "metadata": {
        "id": "VgOLvUJ6vFtM"
      },
      "execution_count": 16,
      "outputs": []
    },
    {
      "cell_type": "code",
      "source": [
        "!diff FST201all.txt FST208all.txt"
      ],
      "metadata": {
        "colab": {
          "base_uri": "https://localhost:8080/"
        },
        "id": "PcyTZZB0w4UL",
        "outputId": "cae18fea-0e40-4632-efdb-f54fb31864e0"
      },
      "execution_count": 22,
      "outputs": [
        {
          "output_type": "stream",
          "name": "stdout",
          "text": [
            "1c1\n",
            "< ​ყველა\n",
            "---\n",
            "> ყველა\n"
          ]
        }
      ]
    },
    {
      "cell_type": "code",
      "source": [
        "import sys, os\n"
      ],
      "metadata": {
        "id": "F7uI4AORdAlW"
      },
      "execution_count": 8,
      "outputs": []
    },
    {
      "cell_type": "code",
      "source": [
        "#CHAT optimized SCRIPT\n",
        "\n",
        "import re\n",
        "\n",
        "def convert_string(input_string: str) -> str:\n",
        "    \"\"\"Convert a string from TIGER format to NLTK format.\"\"\"\n",
        "    # Extract the values for case, pos, and SF from the input string\n",
        "    match = re.match(r\"\\[case=([^ ]*?) pos=([^ ]*?)\\]\", input_string)\n",
        "    if match:\n",
        "        case = match.group(1)\n",
        "        pos = match.group(2)\n",
        "\n",
        "        # only keep the last part of `case`,\n",
        "        # e.g. `*.Stm` -> `Stm` and `Sg*.Inst` -> `Inst`\n",
        "        case = case.split('.')[-1]\n",
        "\n",
        "\n",
        "\n",
        "        # I'm making up grammar rules here\n",
        "        sf = \"HEAD\" if pos == \"NN\" else \"MD\"\n",
        "\n",
        "        # Build the output string based on the values extracted from the input string\n",
        "        if pos == \"ADJ\":\n",
        "            output_string = f\"Adj1[SF={sf}, case={case}]\"\n",
        "        elif pos == \"PRN_DT\":\n",
        "            output_string = f\"PRN_DT[SF={sf}, case={case}]\"\n",
        "        elif pos == \"NN\":\n",
        "            output_string = f\"NN[SF={sf}, case={case}]\"\n",
        "        elif pos == \"TADV\":\n",
        "            output_string = f\"Adv1[SF={sf}]\"\n",
        "        elif pos == \"IADV\":\n",
        "            output_string = f\"Adv2[SF={sf}, case={case}]\"\n",
        "        elif pos == \"$.\":\n",
        "            output_string = f\"$.[case={case}]\"\n",
        "        else:\n",
        "            output_string = \"Invalid input string\"\n",
        "\n",
        "    else:\n",
        "        output_string = input_string\n",
        "\n",
        "    return output_string\n",
        "\n",
        "def parse_ffst_file(file: str, fileout = 'out70.txt'):\n",
        "    fout = open(fileout, 'w')\n",
        "    with open(file) as f:\n",
        "        lines = [x.strip() for x in f.readlines()]\n",
        "\n",
        "    sections = []\n",
        "    current_section = []\n",
        "    for line in lines:\n",
        "        if re.match(r\"IV01\\[\", line):  # line contains verb grammatical description\n",
        "            current_section.append(line)\n",
        "            agr = 'IV01'\n",
        "        elif re.match(r\"\\[case\", line):  # line contains grammatical description\n",
        "            current_section.append(line)\n",
        "        else:  # line contains a word\n",
        "            if current_section:  # current section is not empty, i.e. this word starts a new section\n",
        "                sections.append(current_section)\n",
        "                current_section = [line]\n",
        "            else:  # first word of the file\n",
        "                current_section.append(line)\n",
        "\n",
        "    # Adding SF=HEAD in Grammatical description for non Noun input/converted strings\n",
        "    for section in sections:\n",
        "        word = section[0]\n",
        "        for gram_desc in section[1:]:\n",
        "            gram_desc = convert_string(gram_desc)\n",
        "            match = re.match(r'^(.*\\[SF=)(HEAD|MD)(.*\\])$', gram_desc)\n",
        "            if match:\n",
        "                prefix = match.group(1)\n",
        "                sf_value = match.group(2)\n",
        "                suffix = match.group(3)\n",
        "                if sf_value == \"HEAD\":\n",
        "                    print(gram_desc, \"->\", \"'\" + word + \"'\", file=fout)  # SF=HEAD, print as is\n",
        "                    print('', file=fout)\n",
        "                elif sf_value == \"MD\":\n",
        "                    print(gram_desc, \"->\", \"'\" + word + \"'\", file=fout)  # SF=MD, print original string\n",
        "                    new_desc = f\"{prefix}HEAD{suffix}\"  # Substitute SF=MD with SF=HEAD\n",
        "                    print(new_desc, \"->\", \"'\" + word + \"'\", file=fout)  # Print modified string\n",
        "                    print('', file=fout)\n",
        "            else:\n",
        "                print(\"Invalid string format:\", gram_desc, file=fout)\n",
        "    fout.flush()\n",
        "    fout.close()\n"
      ],
      "metadata": {
        "id": "rYpZAzVDZcaa"
      },
      "execution_count": 20,
      "outputs": []
    },
    {
      "cell_type": "code",
      "source": [
        "parse_ffst_file('testIn.txt', fileout = 'testOutDevelopment.txt')"
      ],
      "metadata": {
        "id": "ox757uh-Z_TG"
      },
      "execution_count": 10,
      "outputs": []
    },
    {
      "cell_type": "code",
      "source": [
        "parse_ffst_file('FST.txt', fileout = 'out70.txt')"
      ],
      "metadata": {
        "id": "6ViETOXNm-G8"
      },
      "execution_count": 11,
      "outputs": []
    },
    {
      "cell_type": "code",
      "source": [
        "parse_ffst_file('FST201all.txt', fileout = 'FST201all.out70.txt')\n",
        "parse_ffst_file('FST202brave.txt', fileout = 'FST202brave.out70.txt')\n",
        "parse_ffst_file('FST203warrior.txt', fileout = 'FST203warrior.out70.txt')\n",
        "parse_ffst_file('FST204always.txt', fileout = 'FST204always.out70.txt')\n",
        "parse_ffst_file('FST205very.txt', fileout = 'FST205very.out70.txt')\n",
        "parse_ffst_file('FST206selfsacrifice.txt', fileout = 'FST206selfsacrifice.out70.txt')\n",
        "parse_ffst_file('FST207protect.txt', fileout = 'FST207protect.out70.txt')\n",
        "parse_ffst_file('FST208all.txt', fileout = 'FST208all.out70.txt')\n",
        "parse_ffst_file('FST209weak.txt', fileout = 'FST209weak.out70.txt')\n",
        "parse_ffst_file('FST210person.txt', fileout = 'FST210person.out70.txt')"
      ],
      "metadata": {
        "id": "K9g69RErnpRy"
      },
      "execution_count": 21,
      "outputs": []
    },
    {
      "cell_type": "code",
      "source": [
        "rm FST1*.txt"
      ],
      "metadata": {
        "id": "CtwMgK84-TD3"
      },
      "execution_count": 18,
      "outputs": []
    },
    {
      "cell_type": "code",
      "source": [
        "rm FST2*.txt"
      ],
      "metadata": {
        "id": "81HzxPFW-bCR"
      },
      "execution_count": 14,
      "outputs": []
    },
    {
      "cell_type": "code",
      "source": [
        "!diff FST208all.out70.txt FST201all.out70.txt"
      ],
      "metadata": {
        "colab": {
          "base_uri": "https://localhost:8080/"
        },
        "id": "ZFwKRO5oAItB",
        "outputId": "c426f852-a2d1-4ba3-8366-9c9d1fe3d2ce"
      },
      "execution_count": 23,
      "outputs": [
        {
          "output_type": "stream",
          "name": "stdout",
          "text": [
            "1,2c1,2\n",
            "< Adj1[SF=MD, case=Stm] -> 'ყველა'\n",
            "< Adj1[SF=HEAD, case=Stm] -> 'ყველა'\n",
            "---\n",
            "> Adj1[SF=MD, case=Stm] -> '​ყველა'\n",
            "> Adj1[SF=HEAD, case=Stm] -> '​ყველა'\n",
            "4,5c4,5\n",
            "< Adj1[SF=MD, case=Nom] -> 'ყველა'\n",
            "< Adj1[SF=HEAD, case=Nom] -> 'ყველა'\n",
            "---\n",
            "> Adj1[SF=MD, case=Nom] -> '​ყველა'\n",
            "> Adj1[SF=HEAD, case=Nom] -> '​ყველა'\n",
            "7,8c7,8\n",
            "< Adj1[SF=MD, case=Voc] -> 'ყველა'\n",
            "< Adj1[SF=HEAD, case=Voc] -> 'ყველა'\n",
            "---\n",
            "> Adj1[SF=MD, case=Voc] -> '​ყველა'\n",
            "> Adj1[SF=HEAD, case=Voc] -> '​ყველა'\n",
            "10,11c10,11\n",
            "< PRN_DT[SF=MD, case=Nom] -> 'ყველა'\n",
            "< PRN_DT[SF=HEAD, case=Nom] -> 'ყველა'\n",
            "---\n",
            "> PRN_DT[SF=MD, case=Nom] -> '​ყველა'\n",
            "> PRN_DT[SF=HEAD, case=Nom] -> '​ყველა'\n"
          ]
        }
      ]
    }
  ]
}