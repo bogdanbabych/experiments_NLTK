{
  "nbformat": 4,
  "nbformat_minor": 0,
  "metadata": {
    "colab": {
      "provenance": [],
      "authorship_tag": "ABX9TyP8GtVDP6ttEgiaAmB3JlVW",
      "include_colab_link": true
    },
    "kernelspec": {
      "name": "python3",
      "display_name": "Python 3"
    },
    "language_info": {
      "name": "python"
    }
  },
  "cells": [
    {
      "cell_type": "markdown",
      "metadata": {
        "id": "view-in-github",
        "colab_type": "text"
      },
      "source": [
        "<a href=\"https://colab.research.google.com/github/bogdanbabych/experiments_NLTK/blob/main/regular_expressions_re_sub_rewriting.ipynb\" target=\"_parent\"><img src=\"https://colab.research.google.com/assets/colab-badge.svg\" alt=\"Open In Colab\"/></a>"
      ]
    },
    {
      "cell_type": "code",
      "source": [
        "import re, os, sys"
      ],
      "metadata": {
        "id": "Ae4rRsSPkN9Z"
      },
      "execution_count": 5,
      "outputs": []
    },
    {
      "cell_type": "code",
      "execution_count": 56,
      "metadata": {
        "id": "hCVrYRk0j3nX"
      },
      "outputs": [],
      "source": [
        "string = \"იცავს\\n V[SF=HEAD,SR=1,voice=ACT,mood=IND,prs=Sg3, val=ND] 2M27\""
      ]
    },
    {
      "cell_type": "code",
      "source": [
        "# new command\n",
        "string2 = re.sub(r\"(\\w+)[ ]*\\n[ ]*?V(.+)?\", r\"\\2 --> '\\1'\", string, flags = re.MULTILINE)\n",
        "\n",
        "\n",
        "# old command\n",
        "# string = re.sub(r'\\[(.*?)\\]', r'\\1', string)\n",
        "# string = re.sub(r'\\[(.*?)\\]', r'\\1', string, re.MULTILINE | re.DOTALL)\n",
        "print(string2)"
      ],
      "metadata": {
        "colab": {
          "base_uri": "https://localhost:8080/"
        },
        "id": "_RGg-dDAkIj_",
        "outputId": "a99d5158-b285-4ca7-fa8d-784a4b7f7374"
      },
      "execution_count": 69,
      "outputs": [
        {
          "output_type": "stream",
          "name": "stdout",
          "text": [
            "[SF=HEAD,SR=1,voice=ACT,mood=IND,prs=Sg3, val=ND] 2M27 --> 'იცავს'\n"
          ]
        }
      ]
    },
    {
      "cell_type": "code",
      "source": [],
      "metadata": {
        "colab": {
          "base_uri": "https://localhost:8080/"
        },
        "id": "i0YaeX1KkQ8U",
        "outputId": "80ac67c5-3a11-4bf0-fe27-55db9e291bb2"
      },
      "execution_count": 54,
      "outputs": [
        {
          "output_type": "stream",
          "name": "stdout",
          "text": [
            "V[SF=HEAD,SR=1,voice=ACT,mood=IND,prs=Sg3, val=ND] 2M27\n"
          ]
        }
      ]
    },
    {
      "cell_type": "code",
      "source": [
        "'''\n",
        "The output now:\n",
        "იცავს \n",
        " VSF=HEAD,SR=1,voice=ACT,mood=IND,prs=Sg3, val=ND 2M27\n",
        "\n",
        "I expect the output to be:\n",
        "<code>\n",
        "\"[SF=HEAD,SR=1,voice=ACT,mood=IND,prs=Sg3, val=ND] 2M27 -->'იცავს'\"\n",
        "</code>\n",
        "'''"
      ],
      "metadata": {
        "id": "97nT2eZAkdsv"
      },
      "execution_count": null,
      "outputs": []
    },
    {
      "cell_type": "code",
      "source": [],
      "metadata": {
        "id": "DpChkg9Kl7q6"
      },
      "execution_count": null,
      "outputs": []
    }
  ]
}