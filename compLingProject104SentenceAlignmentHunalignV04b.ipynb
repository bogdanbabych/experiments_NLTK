{
  "nbformat": 4,
  "nbformat_minor": 0,
  "metadata": {
    "colab": {
      "name": "compLingProject104SentenceAlignmentHunalignV04b.ipynb",
      "provenance": [],
      "collapsed_sections": [],
      "include_colab_link": true
    },
    "kernelspec": {
      "name": "python3",
      "display_name": "Python 3"
    },
    "language_info": {
      "name": "python"
    }
  },
  "cells": [
    {
      "cell_type": "markdown",
      "metadata": {
        "id": "view-in-github",
        "colab_type": "text"
      },
      "source": [
        "<a href=\"https://colab.research.google.com/github/bogdanbabych/experiments_NLTK/blob/main/compLingProject104SentenceAlignmentHunalignV04b.ipynb\" target=\"_parent\"><img src=\"https://colab.research.google.com/assets/colab-badge.svg\" alt=\"Open In Colab\"/></a>"
      ]
    },
    {
      "cell_type": "markdown",
      "source": [
        "# Experiments with alignment tools"
      ],
      "metadata": {
        "id": "hhDdKnVbT6Aa"
      }
    },
    {
      "cell_type": "markdown",
      "source": [
        "resources / corpora:\n",
        "https://heibox.uni-heidelberg.de/d/d65daff8341e467c82b1/\n",
        "\n",
        "\n",
        "Instructions are here:\n",
        "https://github.com/danielvarga/hunalign\n"
      ],
      "metadata": {
        "id": "iM-SQNgcjh6t"
      }
    },
    {
      "cell_type": "code",
      "execution_count": null,
      "metadata": {
        "id": "5wTTt2yCTo7U",
        "colab": {
          "base_uri": "https://localhost:8080/"
        },
        "outputId": "099beb66-819d-47c5-a594-929ef2b0917c"
      },
      "outputs": [
        {
          "output_type": "stream",
          "name": "stdout",
          "text": [
            "Cloning into 'hunalign'...\n",
            "remote: Enumerating objects: 397, done.\u001b[K\n",
            "remote: Total 397 (delta 0), reused 0 (delta 0), pack-reused 397\u001b[K\n",
            "Receiving objects: 100% (397/397), 7.60 MiB | 19.02 MiB/s, done.\n",
            "Resolving deltas: 100% (191/191), done.\n"
          ]
        }
      ],
      "source": [
        "!git clone https://github.com/danielvarga/hunalign.git"
      ]
    },
    {
      "cell_type": "code",
      "source": [
        "%cd hunalign/src/hunalign\n",
        "!pwd"
      ],
      "metadata": {
        "id": "ZddMwgW9T5Rj",
        "colab": {
          "base_uri": "https://localhost:8080/"
        },
        "outputId": "9406acff-7020-425a-d7ed-47d45a2038d3"
      },
      "execution_count": null,
      "outputs": [
        {
          "output_type": "stream",
          "name": "stdout",
          "text": [
            "/content/hunalign/src/hunalign\n",
            "/content/hunalign/src/hunalign\n"
          ]
        }
      ]
    },
    {
      "cell_type": "code",
      "source": [
        "!make"
      ],
      "metadata": {
        "id": "hJbwoRqGVK_O"
      },
      "execution_count": null,
      "outputs": []
    },
    {
      "cell_type": "code",
      "source": [
        "%cd /content/hunalign/\n",
        "!pwd\n",
        "!src/hunalign/hunalign data/hu-en.stem.dic examples/demo.hu.stem examples/demo.en.stem -hand=examples/demo.manual.ladder -text > /tmp/align.txt\n",
        "# !less /tmp/align.txt"
      ],
      "metadata": {
        "id": "fVz4B9KoVW7T"
      },
      "execution_count": null,
      "outputs": []
    },
    {
      "cell_type": "code",
      "source": [
        "!head --lines=20 /tmp/align.txt"
      ],
      "metadata": {
        "id": "aSfCT3TzeYfl"
      },
      "execution_count": null,
      "outputs": []
    },
    {
      "cell_type": "code",
      "source": [
        "%cd /content/\n",
        "!pwd"
      ],
      "metadata": {
        "colab": {
          "base_uri": "https://localhost:8080/"
        },
        "id": "OtZIH64gfTO6",
        "outputId": "8428dccd-0919-4c23-8a5f-28a71d0043e3"
      },
      "execution_count": null,
      "outputs": [
        {
          "output_type": "stream",
          "name": "stdout",
          "text": [
            "/content\n",
            "/content\n"
          ]
        }
      ]
    },
    {
      "cell_type": "code",
      "source": [
        "# downloading files - en es\n",
        "!wget https://heibox.uni-heidelberg.de/f/dc01904f8f9040a69610/?dl=1\n",
        "!mv index.html?dl=1 solar-t01-en-RE01.txt\n",
        "!wget https://heibox.uni-heidelberg.de/f/646957ccb3d24f359ed7/?dl=1\n",
        "!mv index.html?dl=1 solar-t01-es-RE01.txt"
      ],
      "metadata": {
        "id": "4C3Lu_yijc-2"
      },
      "execution_count": null,
      "outputs": []
    },
    {
      "cell_type": "code",
      "source": [
        "# downloading files - en de\n",
        "!wget https://heibox.uni-heidelberg.de/f/dc489828a2d642bfba82/?dl=1\n",
        "!mv index.html?dl=1 ab-t01-en.txt\n",
        "# English file\n",
        "!wget https://heibox.uni-heidelberg.de/f/e7e542d75d7644d1857d/?dl=1\n",
        "!mv index.html?dl=1 ab-t01-de.txt\n",
        "# Other language files"
      ],
      "metadata": {
        "id": "-irmCMkDjfjK"
      },
      "execution_count": null,
      "outputs": []
    },
    {
      "cell_type": "code",
      "source": [
        "!head --lines=10 ab-t01-en.txt"
      ],
      "metadata": {
        "id": "S7VB7wPmes6C"
      },
      "execution_count": null,
      "outputs": []
    },
    {
      "cell_type": "code",
      "source": [
        "!head --lines=10 ab-t01-de.txt"
      ],
      "metadata": {
        "id": "84YR_aNtfmz6"
      },
      "execution_count": null,
      "outputs": []
    },
    {
      "cell_type": "code",
      "source": [
        "!./hunalign/src/hunalign/hunalign -text -realign -autodict=es2enAutodict.txt ./hunalign/data/null.dic solar-t01-en-RE01.txt solar-t01-es-RE01.txt > solar-t01-en2esAlignment.tsv"
      ],
      "metadata": {
        "id": "YbI3WH-WccuO"
      },
      "execution_count": null,
      "outputs": []
    },
    {
      "cell_type": "code",
      "source": [
        "!./hunalign/src/hunalign/hunalign -text -realign -autodict=de2enAutodict.txt ./hunalign/data/null.dic ab-t01-en.txt ab-t01-de.txt > ab-t01-en2de.tsv"
      ],
      "metadata": {
        "id": "JBo3h8SMdZfv"
      },
      "execution_count": null,
      "outputs": []
    },
    {
      "cell_type": "code",
      "source": [
        "!./hunalign/src/hunalign/hunalign -text -realign -autodict=de2enAutodict.txt ./hunalign/data/null.dic ab-t02-en-covid-vaccination.txt ab-t02-de-covid-vaccination.txt > ab-t02-en2de-covid-vaccination.tsv"
      ],
      "metadata": {
        "id": "3DTAPOeY8msv"
      },
      "execution_count": null,
      "outputs": []
    },
    {
      "cell_type": "code",
      "source": [
        "# copy dictionaries for editing\n",
        "!cp es2enAutodict.txt es2enAutodict.dic\n",
        "!cp de2enAutodict.txt de2enAutodict.dic"
      ],
      "metadata": {
        "id": "V_gxwlekhkZW"
      },
      "execution_count": null,
      "outputs": []
    },
    {
      "cell_type": "code",
      "source": [
        "# you can edit dictionaries and try realigning tests if results are not good, like in this example:\n",
        "!./hunalign/src/hunalign/hunalign -text -realign -autodict=es2enAutodict2.txt es2enAutodict.txt solar-t01-en-RE01.txt solar-t01-es-RE01.txt > solar-t01-en2esAlignment2.txt"
      ],
      "metadata": {
        "id": "yh_I8HhHivWJ"
      },
      "execution_count": null,
      "outputs": []
    },
    {
      "cell_type": "code",
      "source": [
        "%cd /content/"
      ],
      "metadata": {
        "id": "4uqIFYZHlaTo"
      },
      "execution_count": null,
      "outputs": []
    },
    {
      "cell_type": "markdown",
      "source": [
        "# Converting tsv to tmx"
      ],
      "metadata": {
        "id": "vYPVNJE9naFM"
      }
    },
    {
      "cell_type": "code",
      "source": [
        "# change names of files accordingly (input and output)\n",
        "import re, os, sys\n",
        "# FIn = open('ab-t01-en2de.tsv', 'r')\n",
        "# FOut = open('ab-t01-en2de.tmx', 'w')\n",
        "FIn = open('ab-t02-en2de-covid-vaccination.tsv', 'r')\n",
        "FOut = open('ab-t02-en2de-covid-vaccination.tmx', 'w')\n",
        "SrcLang = 'en'\n",
        "TgtLang = 'de'\n",
        "\n",
        "SLineHead = '''<?xml version=\"1.0\" encoding=\"UTF-8\"?>\n",
        "<!DOCTYPE tmx SYSTEM \"tmx14.dtd\">\n",
        "<tmx version=\"1.4\">\n",
        "  <header creationtool=\"OmegaT\" o-tmf=\"OmegaT TMX\" adminlang=\"EN-US\" datatype=\"plaintext\" creationtoolversion=\"5.7.0_0_8ae1ecfb\" segtype=\"sentence\" srclang=\"en\"/>\n",
        "  <body>\n",
        "'''\n",
        "SLineEnd = '''\n",
        "  </body>\n",
        "</tmx>\n",
        "'''\n",
        "\n",
        "FOut.write(SLineHead)\n",
        "for SLine in FIn:\n",
        "    SLine = SLine.strip()\n",
        "    LLine = re.split('\\t', SLine)\n",
        "    try:\n",
        "        SSrcLang = LLine[0]\n",
        "        STgtLang = LLine[1]\n",
        "\n",
        "        STuvSLTag = f'      <tuv xml:lang=\"{SrcLang}\">'\n",
        "        STuvTLTag = f'      <tuv xml:lang=\"{TgtLang}\">'\n",
        "\n",
        "        STuvSL = STuvSLTag + '''\\n        <seg>''' + SSrcLang + '''</seg>\\n''' + '''      </tuv>\\n'''\n",
        "        STuvTL = STuvTLTag + '''\\n        <seg>''' + STgtLang + '''</seg>\\n''' + '''      </tuv>\\n'''\n",
        "\n",
        "        STuv = '''    <tu>\\n''' + STuvSL + STuvTL + '''    </tu>\\n'''\n",
        "        FOut.write(STuv)\n",
        "    except:\n",
        "        continue\n",
        "FOut.write(SLineEnd)\n",
        "FOut.flush()"
      ],
      "metadata": {
        "id": "ZzYUz9XineGH"
      },
      "execution_count": null,
      "outputs": []
    }
  ]
}