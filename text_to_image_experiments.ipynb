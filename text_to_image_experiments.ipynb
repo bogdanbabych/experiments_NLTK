{
  "nbformat": 4,
  "nbformat_minor": 0,
  "metadata": {
    "colab": {
      "name": "text-to-image-experiments.ipynb",
      "provenance": [],
      "collapsed_sections": [],
      "authorship_tag": "ABX9TyPlw9BSPe60+VaGq14oapCT",
      "include_colab_link": true
    },
    "kernelspec": {
      "name": "python3",
      "display_name": "Python 3"
    },
    "language_info": {
      "name": "python"
    }
  },
  "cells": [
    {
      "cell_type": "markdown",
      "metadata": {
        "id": "view-in-github",
        "colab_type": "text"
      },
      "source": [
        "<a href=\"https://colab.research.google.com/github/bogdanbabych/experiments_NLTK/blob/main/text_to_image_experiments.ipynb\" target=\"_parent\"><img src=\"https://colab.research.google.com/assets/colab-badge.svg\" alt=\"Open In Colab\"/></a>"
      ]
    },
    {
      "cell_type": "code",
      "metadata": {
        "colab": {
          "base_uri": "https://localhost:8080/"
        },
        "id": "2Lh3KIvoQvcL",
        "outputId": "cd3f6048-3dd8-4605-ac24-e50531b6d530"
      },
      "source": [
        "!git clone https://github.com/zsdonghao/text-to-image.git"
      ],
      "execution_count": 1,
      "outputs": [
        {
          "output_type": "stream",
          "name": "stdout",
          "text": [
            "Cloning into 'text-to-image'...\n",
            "remote: Enumerating objects: 348, done.\u001b[K\n",
            "remote: Total 348 (delta 0), reused 0 (delta 0), pack-reused 348\u001b[K\n",
            "Receiving objects: 100% (348/348), 772.25 KiB | 18.83 MiB/s, done.\n",
            "Resolving deltas: 100% (218/218), done.\n"
          ]
        }
      ]
    },
    {
      "cell_type": "code",
      "metadata": {
        "colab": {
          "base_uri": "https://localhost:8080/"
        },
        "id": "uOtWPX_6R9eC",
        "outputId": "c058747a-2933-4e3e-d859-da19323ebe54"
      },
      "source": [
        "!python text-to-image/downloads.py"
      ],
      "execution_count": 2,
      "outputs": [
        {
          "output_type": "stream",
          "name": "stdout",
          "text": [
            "Downloading: 102flowers Bytes: 344862509\n",
            "[======================================================================>   ***progress: 100.0% ]\n",
            "unzipping /content/102flowers.tgz\n",
            "/content/cvpr2016_flowers.tar.gz:   0% 17.9k/588M [00:09<89:22:32, 1.83kB/s]\n",
            "unzipping /content/cvpr2016_flowers.tar.gz\n"
          ]
        }
      ]
    },
    {
      "cell_type": "code",
      "metadata": {
        "colab": {
          "base_uri": "https://localhost:8080/"
        },
        "id": "UpQfcRwETwVc",
        "outputId": "902351a1-a057-458f-9007-607c0089a05a"
      },
      "source": [
        "%cd text-to-image/"
      ],
      "execution_count": 3,
      "outputs": [
        {
          "output_type": "stream",
          "name": "stdout",
          "text": [
            "/content/text-to-image\n"
          ]
        }
      ]
    },
    {
      "cell_type": "code",
      "metadata": {
        "colab": {
          "base_uri": "https://localhost:8080/"
        },
        "id": "l3IsJF1BTz1c",
        "outputId": "c8444842-16e8-46e2-dffd-036007b0e75d"
      },
      "source": [
        "!pwd"
      ],
      "execution_count": 4,
      "outputs": [
        {
          "output_type": "stream",
          "name": "stdout",
          "text": [
            "/content/text-to-image\n"
          ]
        }
      ]
    },
    {
      "cell_type": "code",
      "metadata": {
        "colab": {
          "base_uri": "https://localhost:8080/"
        },
        "id": "cxndxfKzT_2V",
        "outputId": "1cad4eee-a0b9-4649-88e6-7c89309130f5"
      },
      "source": [
        "!python data_loader.py"
      ],
      "execution_count": 5,
      "outputs": [
        {
          "output_type": "stream",
          "name": "stdout",
          "text": [
            "Traceback (most recent call last):\n",
            "  File \"/content/text-to-image/tensorlayer/layers.py\", line 31, in <module>\n",
            "    TF_GRAPHKEYS_VARIABLES = tf.GraphKeys.GLOBAL_VARIABLES\n",
            "AttributeError: module 'tensorflow' has no attribute 'GraphKeys'\n",
            "\n",
            "During handling of the above exception, another exception occurred:\n",
            "\n",
            "Traceback (most recent call last):\n",
            "  File \"data_loader.py\", line 8, in <module>\n",
            "    import tensorlayer as tl\n",
            "  File \"/content/text-to-image/tensorlayer/__init__.py\", line 19, in <module>\n",
            "    from . import layers\n",
            "  File \"/content/text-to-image/tensorlayer/layers.py\", line 33, in <module>\n",
            "    TF_GRAPHKEYS_VARIABLES = tf.GraphKeys.VARIABLES\n",
            "AttributeError: module 'tensorflow' has no attribute 'GraphKeys'\n"
          ]
        }
      ]
    },
    {
      "cell_type": "markdown",
      "metadata": {
        "id": "IpTXw2QVUaXR"
      },
      "source": [
        "Alternative repository"
      ]
    },
    {
      "cell_type": "code",
      "metadata": {
        "colab": {
          "base_uri": "https://localhost:8080/"
        },
        "id": "CGVWmuHmUdzO",
        "outputId": "6ab03e8e-300b-4afd-8f48-2f5ce3a9bd1e"
      },
      "source": [
        "%cd .."
      ],
      "execution_count": 6,
      "outputs": [
        {
          "output_type": "stream",
          "name": "stdout",
          "text": [
            "/content\n"
          ]
        }
      ]
    },
    {
      "cell_type": "code",
      "metadata": {
        "colab": {
          "base_uri": "https://localhost:8080/"
        },
        "id": "2UUHEfLAUo0J",
        "outputId": "66c900bc-9ef0-4f8f-8f71-b78c94e81b2b"
      },
      "source": [
        "!git clone https://github.com/paarthneekhara/text-to-image.git"
      ],
      "execution_count": 8,
      "outputs": [
        {
          "output_type": "stream",
          "name": "stdout",
          "text": [
            "Cloning into 'text-to-image'...\n",
            "remote: Enumerating objects: 158, done.\u001b[K\n",
            "remote: Total 158 (delta 0), reused 0 (delta 0), pack-reused 158\u001b[K\n",
            "Receiving objects: 100% (158/158), 6.18 MiB | 39.79 MiB/s, done.\n",
            "Resolving deltas: 100% (83/83), done.\n"
          ]
        }
      ]
    },
    {
      "cell_type": "code",
      "metadata": {
        "colab": {
          "base_uri": "https://localhost:8080/"
        },
        "id": "3tV5i0PJVDFl",
        "outputId": "1cffa78b-d656-4f71-c453-b880f03481e6"
      },
      "source": [
        "%cd text-to-image/"
      ],
      "execution_count": 9,
      "outputs": [
        {
          "output_type": "stream",
          "name": "stdout",
          "text": [
            "/content/text-to-image\n"
          ]
        }
      ]
    },
    {
      "cell_type": "code",
      "metadata": {
        "colab": {
          "base_uri": "https://localhost:8080/"
        },
        "id": "RcpMJyPqVIDJ",
        "outputId": "e26229c2-9071-4ff5-be87-23c35b350ada"
      },
      "source": [
        "!python data_loader.py --data_set=\"flowers\""
      ],
      "execution_count": 16,
      "outputs": [
        {
          "output_type": "stream",
          "name": "stdout",
          "text": [
            "Traceback (most recent call last):\n",
            "  File \"data_loader.py\", line 8, in <module>\n",
            "    import skipthoughts\n",
            "  File \"/content/text-to-image/skipthoughts.py\", line 10, in <module>\n",
            "    import cPickle as pkl\n",
            "ModuleNotFoundError: No module named 'cPickle'\n"
          ]
        }
      ]
    }
  ]
}