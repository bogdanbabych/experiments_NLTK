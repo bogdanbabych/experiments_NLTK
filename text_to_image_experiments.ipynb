{
  "nbformat": 4,
  "nbformat_minor": 0,
  "metadata": {
    "colab": {
      "name": "text-to-image-experiments.ipynb",
      "provenance": [],
      "collapsed_sections": [],
      "authorship_tag": "ABX9TyMsmr/xYvp4/gdUNlQn/vv9",
      "include_colab_link": true
    },
    "kernelspec": {
      "name": "python3",
      "display_name": "Python 3"
    },
    "language_info": {
      "name": "python"
    }
  },
  "cells": [
    {
      "cell_type": "markdown",
      "metadata": {
        "id": "view-in-github",
        "colab_type": "text"
      },
      "source": [
        "<a href=\"https://colab.research.google.com/github/bogdanbabych/experiments_NLTK/blob/main/text_to_image_experiments.ipynb\" target=\"_parent\"><img src=\"https://colab.research.google.com/assets/colab-badge.svg\" alt=\"Open In Colab\"/></a>"
      ]
    },
    {
      "cell_type": "code",
      "metadata": {
        "colab": {
          "base_uri": "https://localhost:8080/"
        },
        "id": "2Lh3KIvoQvcL",
        "outputId": "cd3f6048-3dd8-4605-ac24-e50531b6d530"
      },
      "source": [
        "!git clone https://github.com/zsdonghao/text-to-image.git"
      ],
      "execution_count": 1,
      "outputs": [
        {
          "output_type": "stream",
          "name": "stdout",
          "text": [
            "Cloning into 'text-to-image'...\n",
            "remote: Enumerating objects: 348, done.\u001b[K\n",
            "remote: Total 348 (delta 0), reused 0 (delta 0), pack-reused 348\u001b[K\n",
            "Receiving objects: 100% (348/348), 772.25 KiB | 18.83 MiB/s, done.\n",
            "Resolving deltas: 100% (218/218), done.\n"
          ]
        }
      ]
    },
    {
      "cell_type": "code",
      "metadata": {
        "colab": {
          "base_uri": "https://localhost:8080/"
        },
        "id": "uOtWPX_6R9eC",
        "outputId": "c058747a-2933-4e3e-d859-da19323ebe54"
      },
      "source": [
        "!python text-to-image/downloads.py"
      ],
      "execution_count": 2,
      "outputs": [
        {
          "output_type": "stream",
          "name": "stdout",
          "text": [
            "Downloading: 102flowers Bytes: 344862509\n",
            "[======================================================================>   ***progress: 100.0% ]\n",
            "unzipping /content/102flowers.tgz\n",
            "/content/cvpr2016_flowers.tar.gz:   0% 17.9k/588M [00:09<89:22:32, 1.83kB/s]\n",
            "unzipping /content/cvpr2016_flowers.tar.gz\n"
          ]
        }
      ]
    },
    {
      "cell_type": "code",
      "metadata": {
        "colab": {
          "base_uri": "https://localhost:8080/"
        },
        "id": "UpQfcRwETwVc",
        "outputId": "902351a1-a057-458f-9007-607c0089a05a"
      },
      "source": [
        "%cd text-to-image/"
      ],
      "execution_count": 3,
      "outputs": [
        {
          "output_type": "stream",
          "name": "stdout",
          "text": [
            "/content/text-to-image\n"
          ]
        }
      ]
    },
    {
      "cell_type": "code",
      "metadata": {
        "colab": {
          "base_uri": "https://localhost:8080/"
        },
        "id": "l3IsJF1BTz1c",
        "outputId": "c8444842-16e8-46e2-dffd-036007b0e75d"
      },
      "source": [
        "!pwd"
      ],
      "execution_count": 4,
      "outputs": [
        {
          "output_type": "stream",
          "name": "stdout",
          "text": [
            "/content/text-to-image\n"
          ]
        }
      ]
    }
  ]
}