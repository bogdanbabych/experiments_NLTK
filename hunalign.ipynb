{
  "nbformat": 4,
  "nbformat_minor": 0,
  "metadata": {
    "colab": {
      "name": "hunalign.ipynb",
      "provenance": [],
      "collapsed_sections": [],
      "authorship_tag": "ABX9TyOcmaGYor18UsbFDLn8S2Fi",
      "include_colab_link": true
    },
    "kernelspec": {
      "name": "python3",
      "display_name": "Python 3"
    },
    "language_info": {
      "name": "python"
    }
  },
  "cells": [
    {
      "cell_type": "markdown",
      "metadata": {
        "id": "view-in-github",
        "colab_type": "text"
      },
      "source": [
        "<a href=\"https://colab.research.google.com/github/bogdanbabych/experiments_NLTK/blob/main/hunalign.ipynb\" target=\"_parent\"><img src=\"https://colab.research.google.com/assets/colab-badge.svg\" alt=\"Open In Colab\"/></a>"
      ]
    },
    {
      "cell_type": "markdown",
      "source": [
        "# Experiments with alignment tools"
      ],
      "metadata": {
        "id": "hhDdKnVbT6Aa"
      }
    },
    {
      "cell_type": "markdown",
      "source": [
        "resources / corpora:"
      ],
      "metadata": {
        "id": "iM-SQNgcjh6t"
      }
    },
    {
      "cell_type": "code",
      "source": [
        ""
      ],
      "metadata": {
        "id": "-irmCMkDjfjK"
      },
      "execution_count": null,
      "outputs": []
    },
    {
      "cell_type": "code",
      "execution_count": 2,
      "metadata": {
        "colab": {
          "base_uri": "https://localhost:8080/"
        },
        "id": "5wTTt2yCTo7U",
        "outputId": "1a9d3d21-510f-4b3c-befb-24225658ce90"
      },
      "outputs": [
        {
          "output_type": "stream",
          "name": "stdout",
          "text": [
            "Cloning into 'hunalign'...\n",
            "remote: Enumerating objects: 397, done.\u001b[K\n",
            "remote: Total 397 (delta 0), reused 0 (delta 0), pack-reused 397\u001b[K\n",
            "Receiving objects: 100% (397/397), 7.60 MiB | 5.44 MiB/s, done.\n",
            "Resolving deltas: 100% (191/191), done.\n"
          ]
        }
      ],
      "source": [
        "!git clone https://github.com/danielvarga/hunalign.git"
      ]
    },
    {
      "cell_type": "code",
      "source": [
        "%cd hunalign/src/hunalign\n",
        "!pwd"
      ],
      "metadata": {
        "colab": {
          "base_uri": "https://localhost:8080/"
        },
        "id": "ZddMwgW9T5Rj",
        "outputId": "9718dd0e-0072-486c-abb2-14efe81877c2"
      },
      "execution_count": 4,
      "outputs": [
        {
          "output_type": "stream",
          "name": "stdout",
          "text": [
            "/content/hunalign/src/hunalign\n",
            "/content/hunalign/src/hunalign\n"
          ]
        }
      ]
    },
    {
      "cell_type": "code",
      "source": [
        "!make"
      ],
      "metadata": {
        "colab": {
          "base_uri": "https://localhost:8080/"
        },
        "id": "hJbwoRqGVK_O",
        "outputId": "f928b3b4-9582-4d9c-eca7-f21ac278e91c"
      },
      "execution_count": 5,
      "outputs": [
        {
          "output_type": "stream",
          "name": "stdout",
          "text": [
            "g++  -O9 -ffast-math -funroll-loops -I ../include  -c -o alignerTool.o alignerTool.cpp\n",
            "g++  -O9 -ffast-math -funroll-loops -I ../include  -c -o alignment.o alignment.cpp\n",
            "g++  -O9 -ffast-math -funroll-loops -I ../include  -c -o bloom.o bloom.cpp\n",
            "g++  -O9 -ffast-math -funroll-loops -I ../include  -c -o bookToMatrix.o bookToMatrix.cpp\n",
            "g++  -O9 -ffast-math -funroll-loops -I ../include  -c -o cooccurrence.o cooccurrence.cpp\n",
            "In file included from \u001b[01m\u001b[K/usr/include/c++/7/ext/hash_map:60:0\u001b[m\u001b[K,\n",
            "                 from \u001b[01m\u001b[K../include/portableHash.h:23\u001b[m\u001b[K,\n",
            "                 from \u001b[01m\u001b[Kcooccurrence.cpp:36\u001b[m\u001b[K:\n",
            "\u001b[01m\u001b[K/usr/include/c++/7/backward/backward_warning.h:32:2:\u001b[m\u001b[K \u001b[01;35m\u001b[Kwarning: \u001b[m\u001b[K#warning This file includes at least one deprecated or antiquated header which may be removed without further notice at a future date. Please use a non-deprecated interface with equivalent functionality instead. For a listing of replacement headers and interfaces, consult the file backward_warning.h. To disable this warning use -Wno-deprecated. [\u001b[01;35m\u001b[K-Wcpp\u001b[m\u001b[K]\n",
            " #\u001b[01;35m\u001b[Kwarning\u001b[m\u001b[K \\\n",
            "  \u001b[01;35m\u001b[K^~~~~~~\u001b[m\u001b[K\n",
            "g++  -O9 -ffast-math -funroll-loops -I ../include  -c -o cooccurrenceTool.o cooccurrenceTool.cpp\n",
            "g++  -O9 -ffast-math -funroll-loops -I ../include  -c -o dictionary.o dictionary.cpp\n",
            "g++  -O9 -ffast-math -funroll-loops -I ../include  -c -o main.o main.cpp\n",
            "g++  -O9 -ffast-math -funroll-loops -I ../include  -c -o networkFlow.o networkFlow.cpp\n",
            "In file included from \u001b[01m\u001b[K/usr/include/c++/7/ext/hash_map:60:0\u001b[m\u001b[K,\n",
            "                 from \u001b[01m\u001b[K../include/portableHash.h:23\u001b[m\u001b[K,\n",
            "                 from \u001b[01m\u001b[KnetworkFlow.cpp:15\u001b[m\u001b[K:\n",
            "\u001b[01m\u001b[K/usr/include/c++/7/backward/backward_warning.h:32:2:\u001b[m\u001b[K \u001b[01;35m\u001b[Kwarning: \u001b[m\u001b[K#warning This file includes at least one deprecated or antiquated header which may be removed without further notice at a future date. Please use a non-deprecated interface with equivalent functionality instead. For a listing of replacement headers and interfaces, consult the file backward_warning.h. To disable this warning use -Wno-deprecated. [\u001b[01;35m\u001b[K-Wcpp\u001b[m\u001b[K]\n",
            " #\u001b[01;35m\u001b[Kwarning\u001b[m\u001b[K \\\n",
            "  \u001b[01;35m\u001b[K^~~~~~~\u001b[m\u001b[K\n",
            "g++  -O9 -ffast-math -funroll-loops -I ../include  -c -o oldAlignTest.o oldAlignTest.cpp\n",
            "g++  -O9 -ffast-math -funroll-loops -I ../include  -c -o trailPostprocessors.o trailPostprocessors.cpp\n",
            "g++  -O9 -ffast-math -funroll-loops -I ../include  -c -o translate.o translate.cpp\n",
            "g++  -O9 -ffast-math -funroll-loops -I ../include  -c -o wordAlignment.o wordAlignment.cpp\n",
            "g++  -O9 -ffast-math -funroll-loops -I ../include  -c -o ../utils/stringsAndStreams.o ../utils/stringsAndStreams.cpp\n",
            "g++  -O9 -ffast-math -funroll-loops -I ../include  -c -o ../utils/argumentsParser.o ../utils/argumentsParser.cpp\n",
            "g++  -O9 -ffast-math -funroll-loops -I ../include  -c -o ../utils/timer.o ../utils/timer.cpp\n",
            "g++ -O9 -ffast-math -funroll-loops -I ../include -lstdc++ -o hunalign alignerTool.o alignment.o bloom.o bookToMatrix.o cooccurrence.o cooccurrenceTool.o dictionary.o main.o networkFlow.o oldAlignTest.o trailPostprocessors.o translate.o wordAlignment.o ../utils/stringsAndStreams.o ../utils/argumentsParser.o ../utils/timer.o\n"
          ]
        }
      ]
    },
    {
      "cell_type": "code",
      "source": [
        "%cd /content/hunalign/\n",
        "!pwd\n",
        "!src/hunalign/hunalign data/hu-en.stem.dic examples/demo.hu.stem examples/demo.en.stem -hand=examples/demo.manual.ladder -text > /tmp/align.txt\n",
        "# !less /tmp/align.txt"
      ],
      "metadata": {
        "id": "fVz4B9KoVW7T"
      },
      "execution_count": null,
      "outputs": []
    },
    {
      "cell_type": "code",
      "source": [
        ""
      ],
      "metadata": {
        "id": "4C3Lu_yijc-2"
      },
      "execution_count": null,
      "outputs": []
    },
    {
      "cell_type": "code",
      "source": [
        "!src/hunalign/hunalign -text -realign -autodict=es2enAutodict.txt data/null.dic en-RE01.txt es-RE01.txt > en2esAlignment.txt"
      ],
      "metadata": {
        "colab": {
          "base_uri": "https://localhost:8080/"
        },
        "id": "YbI3WH-WccuO",
        "outputId": "581fe7b3-1983-46b3-924b-12eb16fc5323"
      },
      "execution_count": 11,
      "outputs": [
        {
          "output_type": "stream",
          "name": "stdout",
          "text": [
            "Reading dictionary...\n",
            "29 source language sentences read.\n",
            "29 target language sentences read.\n",
            "quasiglobal_stopwordRemoval is set to 0\n",
            "Simplified dictionary ready.\n",
            "Rough translation ready.\n",
            "0 \n",
            "\n",
            "Rough translation-based similarity matrix ready.\n",
            "Matrix built.\n",
            "Trail found.\n",
            "Align ready.\n",
            "Global quality of unfiltered align 0.417943\n",
            "499 items inside the border.\n",
            "Border of realign zone determined.\n",
            "28 bisentences collected.\n",
            "Plausible bisentences filtered.\n",
            "Removing stopwords...Removing identicals... (AIE), (IRENA), (UNSD), -600 1, 100 100% 12 13% 140 155 2, 20 2010 2016. 2017 2019 2020. 2030 2030: 230 52% 59% 8% 90 ALTEN Corporation, Eldoret, Energy Energías Kesses Kogi. Lokoja, Mariental, Mozambique, Namibia Namibia, Nigeria Nigeria, Power Progress Renovables Report’ SDG7 The Timau, Tracking: Windhoek. Zambia, capital capital, records solar ‘2018 \n",
            "54 identical translations found.\n",
            "Removing hapaxes...0 hapax-based dictionary items found.\n",
            "Building CorpusConstellation... Done.\n",
            "0 items left in original dictionary.\n",
            "Removing stopwords...Removing identicals... \n",
            "0 identical translations found.\n",
            "Removing hapaxes...0 hapax-based dictionary items found.\n",
            "Building CorpusConstellation... Done.\n",
            "634 new dictionary items found.\n",
            "Simplified dictionary ready.\n",
            "Rough translation ready.\n",
            "0 \n",
            "Matrix built.\n",
            "Trail found.\n",
            "Detail realign ready.\n",
            "Global quality of unfiltered align after realign 0.571951\n",
            "quasiglobal_spaceOutBySentenceLength is set to 1\n",
            "Trail spaced out by sentence length.\n",
            "Global quality of unfiltered align after realign 0.571951\n",
            "Quality 0.571951\n"
          ]
        }
      ]
    },
    {
      "cell_type": "code",
      "source": [
        "!cp es2enAutodict.txt es2enAutodict.dict"
      ],
      "metadata": {
        "id": "V_gxwlekhkZW"
      },
      "execution_count": 12,
      "outputs": []
    },
    {
      "cell_type": "code",
      "source": [
        "!src/hunalign/hunalign -text -realign -autodict=es2enAutodict2.txt es2enAutodict.dict en-RE01.txt es-RE01.txt > en2esAlignment2.txt"
      ],
      "metadata": {
        "colab": {
          "base_uri": "https://localhost:8080/"
        },
        "id": "yh_I8HhHivWJ",
        "outputId": "8f7a7c06-e3fb-4bcd-a696-7c52fb1dff6e"
      },
      "execution_count": 13,
      "outputs": [
        {
          "output_type": "stream",
          "name": "stdout",
          "text": [
            "Reading dictionary...\n",
            "29 source language sentences read.\n",
            "29 target language sentences read.\n",
            "quasiglobal_stopwordRemoval is set to 0\n",
            "Simplified dictionary ready.\n",
            "Rough translation ready.\n",
            "0 \n",
            "\n",
            "Rough translation-based similarity matrix ready.\n",
            "Matrix built.\n",
            "Trail found.\n",
            "Align ready.\n",
            "Global quality of unfiltered align 0.442149\n",
            "499 items inside the border.\n",
            "Border of realign zone determined.\n",
            "28 bisentences collected.\n",
            "Plausible bisentences filtered.\n",
            "Removing stopwords...Removing identicals... (AIE), (IRENA), (UNSD), -600 1, 100 100% 12 13% 140 155 2, 20 2010 2016. 2017 2019 2020. 2030 2030: 230 52% 59% 8% 90 ALTEN Corporation, Eldoret, Energy Energías Kesses Kogi. Lokoja, Mariental, Mozambique, Namibia Namibia, Nigeria Nigeria, Power Progress Renovables Report’ SDG7 The Timau, Tracking: Windhoek. Zambia, capital capital, records solar ‘2018 \n",
            "54 identical translations found.\n",
            "Removing hapaxes...0 hapax-based dictionary items found.\n",
            "Building CorpusConstellation... Done.\n",
            "6 items left in original dictionary.\n",
            "Removing stopwords...Removing identicals... \n",
            "0 identical translations found.\n",
            "Removing hapaxes...0 hapax-based dictionary items found.\n",
            "Building CorpusConstellation... Done.\n",
            "634 new dictionary items found.\n",
            "Simplified dictionary ready.\n",
            "Rough translation ready.\n",
            "0 \n",
            "Matrix built.\n",
            "Trail found.\n",
            "Detail realign ready.\n",
            "Global quality of unfiltered align after realign 0.571951\n",
            "quasiglobal_spaceOutBySentenceLength is set to 1\n",
            "Trail spaced out by sentence length.\n",
            "Global quality of unfiltered align after realign 0.571951\n",
            "Quality 0.571951\n"
          ]
        }
      ]
    }
  ]
}