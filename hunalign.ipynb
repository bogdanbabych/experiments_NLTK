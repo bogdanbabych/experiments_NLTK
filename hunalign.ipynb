{
  "nbformat": 4,
  "nbformat_minor": 0,
  "metadata": {
    "colab": {
      "name": "hunalign.ipynb",
      "provenance": [],
      "collapsed_sections": [],
      "authorship_tag": "ABX9TyOpzzFZiJyzXzIZqjx6oM+R",
      "include_colab_link": true
    },
    "kernelspec": {
      "name": "python3",
      "display_name": "Python 3"
    },
    "language_info": {
      "name": "python"
    }
  },
  "cells": [
    {
      "cell_type": "markdown",
      "metadata": {
        "id": "view-in-github",
        "colab_type": "text"
      },
      "source": [
        "<a href=\"https://colab.research.google.com/github/bogdanbabych/experiments_NLTK/blob/main/hunalign.ipynb\" target=\"_parent\"><img src=\"https://colab.research.google.com/assets/colab-badge.svg\" alt=\"Open In Colab\"/></a>"
      ]
    },
    {
      "cell_type": "markdown",
      "source": [
        "# Experiments with alignment tools"
      ],
      "metadata": {
        "id": "hhDdKnVbT6Aa"
      }
    },
    {
      "cell_type": "markdown",
      "source": [
        "resources / corpora:\n",
        "https://heibox.uni-heidelberg.de/d/d65daff8341e467c82b1/\n"
      ],
      "metadata": {
        "id": "iM-SQNgcjh6t"
      }
    },
    {
      "cell_type": "code",
      "execution_count": 2,
      "metadata": {
        "colab": {
          "base_uri": "https://localhost:8080/"
        },
        "id": "5wTTt2yCTo7U",
        "outputId": "1a9d3d21-510f-4b3c-befb-24225658ce90"
      },
      "outputs": [
        {
          "output_type": "stream",
          "name": "stdout",
          "text": [
            "Cloning into 'hunalign'...\n",
            "remote: Enumerating objects: 397, done.\u001b[K\n",
            "remote: Total 397 (delta 0), reused 0 (delta 0), pack-reused 397\u001b[K\n",
            "Receiving objects: 100% (397/397), 7.60 MiB | 5.44 MiB/s, done.\n",
            "Resolving deltas: 100% (191/191), done.\n"
          ]
        }
      ],
      "source": [
        "!git clone https://github.com/danielvarga/hunalign.git"
      ]
    },
    {
      "cell_type": "code",
      "source": [
        "%cd hunalign/src/hunalign\n",
        "!pwd"
      ],
      "metadata": {
        "colab": {
          "base_uri": "https://localhost:8080/"
        },
        "id": "ZddMwgW9T5Rj",
        "outputId": "9718dd0e-0072-486c-abb2-14efe81877c2"
      },
      "execution_count": 4,
      "outputs": [
        {
          "output_type": "stream",
          "name": "stdout",
          "text": [
            "/content/hunalign/src/hunalign\n",
            "/content/hunalign/src/hunalign\n"
          ]
        }
      ]
    },
    {
      "cell_type": "code",
      "source": [
        "!make"
      ],
      "metadata": {
        "colab": {
          "base_uri": "https://localhost:8080/"
        },
        "id": "hJbwoRqGVK_O",
        "outputId": "f928b3b4-9582-4d9c-eca7-f21ac278e91c"
      },
      "execution_count": 5,
      "outputs": [
        {
          "output_type": "stream",
          "name": "stdout",
          "text": [
            "g++  -O9 -ffast-math -funroll-loops -I ../include  -c -o alignerTool.o alignerTool.cpp\n",
            "g++  -O9 -ffast-math -funroll-loops -I ../include  -c -o alignment.o alignment.cpp\n",
            "g++  -O9 -ffast-math -funroll-loops -I ../include  -c -o bloom.o bloom.cpp\n",
            "g++  -O9 -ffast-math -funroll-loops -I ../include  -c -o bookToMatrix.o bookToMatrix.cpp\n",
            "g++  -O9 -ffast-math -funroll-loops -I ../include  -c -o cooccurrence.o cooccurrence.cpp\n",
            "In file included from \u001b[01m\u001b[K/usr/include/c++/7/ext/hash_map:60:0\u001b[m\u001b[K,\n",
            "                 from \u001b[01m\u001b[K../include/portableHash.h:23\u001b[m\u001b[K,\n",
            "                 from \u001b[01m\u001b[Kcooccurrence.cpp:36\u001b[m\u001b[K:\n",
            "\u001b[01m\u001b[K/usr/include/c++/7/backward/backward_warning.h:32:2:\u001b[m\u001b[K \u001b[01;35m\u001b[Kwarning: \u001b[m\u001b[K#warning This file includes at least one deprecated or antiquated header which may be removed without further notice at a future date. Please use a non-deprecated interface with equivalent functionality instead. For a listing of replacement headers and interfaces, consult the file backward_warning.h. To disable this warning use -Wno-deprecated. [\u001b[01;35m\u001b[K-Wcpp\u001b[m\u001b[K]\n",
            " #\u001b[01;35m\u001b[Kwarning\u001b[m\u001b[K \\\n",
            "  \u001b[01;35m\u001b[K^~~~~~~\u001b[m\u001b[K\n",
            "g++  -O9 -ffast-math -funroll-loops -I ../include  -c -o cooccurrenceTool.o cooccurrenceTool.cpp\n",
            "g++  -O9 -ffast-math -funroll-loops -I ../include  -c -o dictionary.o dictionary.cpp\n",
            "g++  -O9 -ffast-math -funroll-loops -I ../include  -c -o main.o main.cpp\n",
            "g++  -O9 -ffast-math -funroll-loops -I ../include  -c -o networkFlow.o networkFlow.cpp\n",
            "In file included from \u001b[01m\u001b[K/usr/include/c++/7/ext/hash_map:60:0\u001b[m\u001b[K,\n",
            "                 from \u001b[01m\u001b[K../include/portableHash.h:23\u001b[m\u001b[K,\n",
            "                 from \u001b[01m\u001b[KnetworkFlow.cpp:15\u001b[m\u001b[K:\n",
            "\u001b[01m\u001b[K/usr/include/c++/7/backward/backward_warning.h:32:2:\u001b[m\u001b[K \u001b[01;35m\u001b[Kwarning: \u001b[m\u001b[K#warning This file includes at least one deprecated or antiquated header which may be removed without further notice at a future date. Please use a non-deprecated interface with equivalent functionality instead. For a listing of replacement headers and interfaces, consult the file backward_warning.h. To disable this warning use -Wno-deprecated. [\u001b[01;35m\u001b[K-Wcpp\u001b[m\u001b[K]\n",
            " #\u001b[01;35m\u001b[Kwarning\u001b[m\u001b[K \\\n",
            "  \u001b[01;35m\u001b[K^~~~~~~\u001b[m\u001b[K\n",
            "g++  -O9 -ffast-math -funroll-loops -I ../include  -c -o oldAlignTest.o oldAlignTest.cpp\n",
            "g++  -O9 -ffast-math -funroll-loops -I ../include  -c -o trailPostprocessors.o trailPostprocessors.cpp\n",
            "g++  -O9 -ffast-math -funroll-loops -I ../include  -c -o translate.o translate.cpp\n",
            "g++  -O9 -ffast-math -funroll-loops -I ../include  -c -o wordAlignment.o wordAlignment.cpp\n",
            "g++  -O9 -ffast-math -funroll-loops -I ../include  -c -o ../utils/stringsAndStreams.o ../utils/stringsAndStreams.cpp\n",
            "g++  -O9 -ffast-math -funroll-loops -I ../include  -c -o ../utils/argumentsParser.o ../utils/argumentsParser.cpp\n",
            "g++  -O9 -ffast-math -funroll-loops -I ../include  -c -o ../utils/timer.o ../utils/timer.cpp\n",
            "g++ -O9 -ffast-math -funroll-loops -I ../include -lstdc++ -o hunalign alignerTool.o alignment.o bloom.o bookToMatrix.o cooccurrence.o cooccurrenceTool.o dictionary.o main.o networkFlow.o oldAlignTest.o trailPostprocessors.o translate.o wordAlignment.o ../utils/stringsAndStreams.o ../utils/argumentsParser.o ../utils/timer.o\n"
          ]
        }
      ]
    },
    {
      "cell_type": "code",
      "source": [
        "%cd /content/hunalign/\n",
        "!pwd\n",
        "!src/hunalign/hunalign data/hu-en.stem.dic examples/demo.hu.stem examples/demo.en.stem -hand=examples/demo.manual.ladder -text > /tmp/align.txt\n",
        "# !less /tmp/align.txt"
      ],
      "metadata": {
        "id": "fVz4B9KoVW7T"
      },
      "execution_count": null,
      "outputs": []
    },
    {
      "cell_type": "code",
      "source": [
        "# downloading files"
      ],
      "metadata": {
        "id": "4C3Lu_yijc-2"
      },
      "execution_count": null,
      "outputs": []
    },
    {
      "cell_type": "code",
      "source": [
        "!wget https://heibox.uni-heidelberg.de/f/dc01904f8f9040a69610/?dl=1\n",
        "!mv index.html?dl=1 en-RE01.txt\n",
        "# English file\n",
        "!wget https://heibox.uni-heidelberg.de/f/646957ccb3d24f359ed7/?dl=1\n",
        "!mv index.html?dl=1es-RE01.txt\n",
        "# English file"
      ],
      "metadata": {
        "id": "-irmCMkDjfjK"
      },
      "execution_count": null,
      "outputs": []
    },
    {
      "cell_type": "code",
      "source": [
        "!src/hunalign/hunalign -text -realign -autodict=es2enAutodict.txt data/null.dic en-RE01.txt es-RE01.txt > en2esAlignment.txt"
      ],
      "metadata": {
        "id": "YbI3WH-WccuO"
      },
      "execution_count": null,
      "outputs": []
    },
    {
      "cell_type": "code",
      "source": [
        "!cp es2enAutodict.txt es2enAutodict.dict"
      ],
      "metadata": {
        "id": "V_gxwlekhkZW"
      },
      "execution_count": 12,
      "outputs": []
    },
    {
      "cell_type": "code",
      "source": [
        "!src/hunalign/hunalign -text -realign -autodict=es2enAutodict2.txt es2enAutodict.dict en-RE01.txt es-RE01.txt > en2esAlignment2.txt"
      ],
      "metadata": {
        "id": "yh_I8HhHivWJ"
      },
      "execution_count": null,
      "outputs": []
    }
  ]
}