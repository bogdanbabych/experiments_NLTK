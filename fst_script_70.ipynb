{
  "nbformat": 4,
  "nbformat_minor": 0,
  "metadata": {
    "colab": {
      "provenance": [],
      "authorship_tag": "ABX9TyOLZGWSarW6suv2zZ2WOE8E",
      "include_colab_link": true
    },
    "kernelspec": {
      "name": "python3",
      "display_name": "Python 3"
    },
    "language_info": {
      "name": "python"
    }
  },
  "cells": [
    {
      "cell_type": "markdown",
      "metadata": {
        "id": "view-in-github",
        "colab_type": "text"
      },
      "source": [
        "<a href=\"https://colab.research.google.com/github/bogdanbabych/experiments_NLTK/blob/main/fst_script_70.ipynb\" target=\"_parent\"><img src=\"https://colab.research.google.com/assets/colab-badge.svg\" alt=\"Open In Colab\"/></a>"
      ]
    },
    {
      "cell_type": "markdown",
      "source": [
        "Converting the input/output format -- FST"
      ],
      "metadata": {
        "id": "CQC3NeVFWv0K"
      }
    },
    {
      "cell_type": "code",
      "execution_count": 1,
      "metadata": {
        "colab": {
          "base_uri": "https://localhost:8080/"
        },
        "id": "09OgyW1gWj-p",
        "outputId": "6688c9b4-fd63-4e21-a93e-609bec3c39a6"
      },
      "outputs": [
        {
          "output_type": "stream",
          "name": "stdout",
          "text": [
            "--2023-07-09 11:17:32--  https://heibox.uni-heidelberg.de/f/7101da9baf2b4197b115/?dl=1\n",
            "Resolving heibox.uni-heidelberg.de (heibox.uni-heidelberg.de)... 129.206.7.113\n",
            "Connecting to heibox.uni-heidelberg.de (heibox.uni-heidelberg.de)|129.206.7.113|:443... connected.\n",
            "HTTP request sent, awaiting response... 302 Found\n",
            "Location: https://heibox.uni-heidelberg.de/seafhttp/files/d7dd1c9c-6da0-4860-aec9-220b816f4656/TbiLLC-data.tgz [following]\n",
            "--2023-07-09 11:17:32--  https://heibox.uni-heidelberg.de/seafhttp/files/d7dd1c9c-6da0-4860-aec9-220b816f4656/TbiLLC-data.tgz\n",
            "Reusing existing connection to heibox.uni-heidelberg.de:443.\n",
            "HTTP request sent, awaiting response... 200 OK\n",
            "Length: 4660 (4.6K) [application/octet-stream]\n",
            "Saving to: ‘index.html?dl=1’\n",
            "\n",
            "index.html?dl=1     100%[===================>]   4.55K  --.-KB/s    in 0.09s   \n",
            "\n",
            "2023-07-09 11:17:32 (48.6 KB/s) - ‘index.html?dl=1’ saved [4660/4660]\n",
            "\n"
          ]
        }
      ],
      "source": [
        "!wget https://heibox.uni-heidelberg.de/f/7101da9baf2b4197b115/?dl=1"
      ]
    },
    {
      "cell_type": "code",
      "source": [
        "!mv index.html?dl=1 TbiLLC-data.tgz\n",
        "!tar xvzf TbiLLC-data.tgz"
      ],
      "metadata": {
        "colab": {
          "base_uri": "https://localhost:8080/"
        },
        "id": "0JLbNjRpX0Fq",
        "outputId": "170824e2-e40a-45b5-b86e-7c6144cd29a3"
      },
      "execution_count": 2,
      "outputs": [
        {
          "output_type": "stream",
          "name": "stdout",
          "text": [
            "TbiLLC-data/\n",
            "TbiLLC-data/._Input_Output.txt\n",
            "tar: Ignoring unknown extended header keyword 'LIBARCHIVE.xattr.com.apple.quarantine'\n",
            "tar: Ignoring unknown extended header keyword 'LIBARCHIVE.xattr.com.apple.metadata:kMDLabel_nm5plduuv66sshd7jqamrhgify'\n",
            "tar: Ignoring unknown extended header keyword 'LIBARCHIVE.xattr.com.apple.lastuseddate#PS'\n",
            "TbiLLC-data/Input_Output.txt\n",
            "TbiLLC-data/._FST-v01.txt\n",
            "tar: Ignoring unknown extended header keyword 'LIBARCHIVE.xattr.com.apple.quarantine'\n",
            "tar: Ignoring unknown extended header keyword 'LIBARCHIVE.xattr.com.apple.metadata:kMDLabel_nm5plduuv66sshd7jqamrhgify'\n",
            "tar: Ignoring unknown extended header keyword 'LIBARCHIVE.xattr.com.apple.lastuseddate#PS'\n",
            "TbiLLC-data/FST-v01.txt\n",
            "TbiLLC-data/._FST.txt\n",
            "tar: Ignoring unknown extended header keyword 'LIBARCHIVE.xattr.com.apple.quarantine'\n",
            "tar: Ignoring unknown extended header keyword 'LIBARCHIVE.xattr.com.apple.metadata:kMDLabel_nm5plduuv66sshd7jqamrhgify'\n",
            "TbiLLC-data/FST.txt\n",
            "TbiLLC-data/._out-70\n",
            "tar: Ignoring unknown extended header keyword 'LIBARCHIVE.xattr.com.apple.quarantine'\n",
            "tar: Ignoring unknown extended header keyword 'LIBARCHIVE.xattr.com.apple.metadata:kMDLabel_nm5plduuv66sshd7jqamrhgify'\n",
            "TbiLLC-data/out-70\n"
          ]
        }
      ]
    }
  ]
}