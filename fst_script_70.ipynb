{
  "nbformat": 4,
  "nbformat_minor": 0,
  "metadata": {
    "colab": {
      "provenance": [],
      "authorship_tag": "ABX9TyOKui3w25/TA3XnoevaEgjM",
      "include_colab_link": true
    },
    "kernelspec": {
      "name": "python3",
      "display_name": "Python 3"
    },
    "language_info": {
      "name": "python"
    }
  },
  "cells": [
    {
      "cell_type": "markdown",
      "metadata": {
        "id": "view-in-github",
        "colab_type": "text"
      },
      "source": [
        "<a href=\"https://colab.research.google.com/github/bogdanbabych/experiments_NLTK/blob/main/fst_script_70.ipynb\" target=\"_parent\"><img src=\"https://colab.research.google.com/assets/colab-badge.svg\" alt=\"Open In Colab\"/></a>"
      ]
    },
    {
      "cell_type": "markdown",
      "source": [
        "Converting the input/output format -- FST"
      ],
      "metadata": {
        "id": "CQC3NeVFWv0K"
      }
    },
    {
      "cell_type": "code",
      "execution_count": null,
      "metadata": {
        "id": "09OgyW1gWj-p"
      },
      "outputs": [],
      "source": [
        "!wget https://heibox.uni-heidelberg.de/f/7101da9baf2b4197b115/?dl=1"
      ]
    },
    {
      "cell_type": "code",
      "source": [
        "!mv index.html?dl=1 TbiLLC-data.tgz\n",
        "!tar xvzf TbiLLC-data.tgz"
      ],
      "metadata": {
        "id": "0JLbNjRpX0Fq"
      },
      "execution_count": null,
      "outputs": []
    },
    {
      "cell_type": "code",
      "source": [
        "!cp /content/TbiLLC-data/FST.txt /content/FST.txt"
      ],
      "metadata": {
        "id": "gxzoLAi1Yvyo"
      },
      "execution_count": 3,
      "outputs": []
    },
    {
      "cell_type": "code",
      "source": [
        "import sys, os\n"
      ],
      "metadata": {
        "id": "F7uI4AORdAlW"
      },
      "execution_count": 20,
      "outputs": []
    },
    {
      "cell_type": "code",
      "source": [
        "# alternative 1: write to file\n",
        "fout = open(\"out70.txt\", \"w\")"
      ],
      "metadata": {
        "id": "auEWfQl0bYZc"
      },
      "execution_count": 16,
      "outputs": []
    },
    {
      "cell_type": "code",
      "source": [
        "# alternative 2: write to standard output (screen)\n",
        "fout = sys.stdout"
      ],
      "metadata": {
        "id": "xjqKZPrkc4KP"
      },
      "execution_count": 26,
      "outputs": []
    },
    {
      "cell_type": "code",
      "source": [
        "#CHAT optimized SCRIPT\n",
        "\n",
        "import re\n",
        "\n",
        "def convert_string(input_string: str) -> str:\n",
        "    \"\"\"Convert a string from TIGER format to NLTK format.\"\"\"\n",
        "    # Extract the values for case, pos, and SF from the input string\n",
        "    match = re.match(r\"\\[case=([^ ]*?) pos=([^ ]*?)\\]\", input_string)\n",
        "    if match:\n",
        "        case = match.group(1)\n",
        "        pos = match.group(2)\n",
        "\n",
        "        # only keep the last part of `case`,\n",
        "        # e.g. `*.Stm` -> `Stm` and `Sg*.Inst` -> `Inst`\n",
        "        case = case.split('.')[-1]\n",
        "\n",
        "\n",
        "\n",
        "        # I'm making up grammar rules here\n",
        "        sf = \"HEAD\" if pos == \"NN\" else \"MD\"\n",
        "\n",
        "        # Build the output string based on the values extracted from the input string\n",
        "        if pos == \"ADJ\":\n",
        "            output_string = f\"Adj1[SF={sf}, case={case}]\"\n",
        "        elif pos == \"PRN_DT\":\n",
        "            output_string = f\"PRN_DT[SF={sf}, case={case}]\"\n",
        "        elif pos == \"NN\":\n",
        "            output_string = f\"NN[SF={sf}, case={case}]\"\n",
        "        elif pos == \"TADV\":\n",
        "            output_string = f\"Adv1[SF={sf}]\"\n",
        "        elif pos == \"IADV\":\n",
        "            output_string = f\"Adv2[SF={sf}, case={case}]\"\n",
        "        elif pos == \"$.\":\n",
        "            output_string = f\"$.[case={case}]\"\n",
        "        else:\n",
        "            output_string = \"Invalid input string\"\n",
        "\n",
        "    else:\n",
        "        output_string = input_string\n",
        "\n",
        "    return output_string\n",
        "\n",
        "def parse_ffst_file(file: str):\n",
        "    with open(file) as f:\n",
        "        lines = [x.strip() for x in f.readlines()]\n",
        "\n",
        "    sections = []\n",
        "    current_section = []\n",
        "    for line in lines:\n",
        "        if re.match(r\"IV01\\[\", line):  # line contains verb grammatical description\n",
        "            current_section.append(line)\n",
        "            agr = 'IV01'\n",
        "        elif re.match(r\"\\[case\", line):  # line contains grammatical description\n",
        "            current_section.append(line)\n",
        "        else:  # line contains a word\n",
        "            if current_section:  # current section is not empty, i.e. this word starts a new section\n",
        "                sections.append(current_section)\n",
        "                current_section = [line]\n",
        "            else:  # first word of the file\n",
        "                current_section.append(line)\n",
        "\n",
        "    # Adding SF=HEAD in Grammatical description for non Noun input/converted strings\n",
        "    for section in sections:\n",
        "        word = section[0]\n",
        "        for gram_desc in section[1:]:\n",
        "            gram_desc = convert_string(gram_desc)\n",
        "            match = re.match(r'^(.*\\[SF=)(HEAD|MD)(.*)\\]$', gram_desc)\n",
        "            if match:\n",
        "                prefix = match.group(1)\n",
        "                sf_value = match.group(2)\n",
        "                suffix = match.group(3)\n",
        "                if sf_value == \"HEAD\":\n",
        "                    print(gram_desc, \"->\", \"'\" + word + \"'\", file=fout)  # SF=HEAD, print as is\n",
        "                    print('', file=fout)\n",
        "                elif sf_value == \"MD\":\n",
        "                    print(gram_desc, \"->\", \"'\" + word + \"'\", file=fout)  # SF=MD, print original string\n",
        "                    new_desc = f\"{prefix}HEAD{suffix}\"  # Substitute SF=MD with SF=HEAD\n",
        "                    print(new_desc, \"->\", \"'\" + word + \"'\", file=fout)  # Print modified string\n",
        "                    print('', file=fout)\n",
        "            else:\n",
        "                print(\"Invalid string format:\", gram_desc, file=fout)\n",
        "\n"
      ],
      "metadata": {
        "id": "rYpZAzVDZcaa"
      },
      "execution_count": 23,
      "outputs": []
    },
    {
      "cell_type": "code",
      "source": [
        "parse_ffst_file('FST.txt')"
      ],
      "metadata": {
        "id": "ox757uh-Z_TG"
      },
      "execution_count": null,
      "outputs": []
    },
    {
      "cell_type": "code",
      "source": [
        "fout.close()"
      ],
      "metadata": {
        "id": "jcTCVKwwbqQQ"
      },
      "execution_count": 25,
      "outputs": []
    }
  ]
}