{
  "nbformat": 4,
  "nbformat_minor": 0,
  "metadata": {
    "colab": {
      "name": "extractingTextFromHTMLV01.ipynb",
      "provenance": [],
      "collapsed_sections": [],
      "authorship_tag": "ABX9TyN56Ag/rJZBNiHokeo7SZZM",
      "include_colab_link": true
    },
    "kernelspec": {
      "name": "python3",
      "display_name": "Python 3"
    },
    "language_info": {
      "name": "python"
    }
  },
  "cells": [
    {
      "cell_type": "markdown",
      "metadata": {
        "id": "view-in-github",
        "colab_type": "text"
      },
      "source": [
        "<a href=\"https://colab.research.google.com/github/bogdanbabych/experiments_NLTK/blob/main/extractingTextFromHTMLV01.ipynb\" target=\"_parent\"><img src=\"https://colab.research.google.com/assets/colab-badge.svg\" alt=\"Open In Colab\"/></a>"
      ]
    },
    {
      "cell_type": "code",
      "execution_count": null,
      "metadata": {
        "id": "YE3r2z8IiABE"
      },
      "outputs": [],
      "source": [
        "!wget https://heibox.uni-heidelberg.de/f/c38d0b9f7f744c5aae16/?dl=1\n",
        "!mv index.html?dl=1 www.aerzteblatt.de.tgz\n",
        "!tar -xvzf www.aerzteblatt.de.tgz"
      ]
    },
    {
      "cell_type": "code",
      "source": [
        "!apt-get install lynx"
      ],
      "metadata": {
        "id": "gXUE59m9PNLd"
      },
      "execution_count": null,
      "outputs": []
    },
    {
      "cell_type": "code",
      "source": [
        "# -*- coding: utf-8 -*-\n",
        "# Python script to open each file, read json input and copy to one text file for subsequent processing\n",
        "import os, re, sys\n",
        "\n",
        "class clHtmlDir2txt(object):\n",
        "    '''\n",
        "    @author Bogdan Babych, IÜD, Heidelberg University, 2021\n",
        "    @email bogdan [dot] babych [at] iued [dot] uni-heidelberg [dot] de\n",
        "    '''\n",
        "    def __init__(self, SDirName, output_file = 'corpus_text.txt', tag='doc', id=1000000): # initialising by openning the directories\n",
        "        self.SOutput_file = output_file\n",
        "        self.STag = tag\n",
        "        self.ID = id        \n",
        "        self.openDir(SDirName)\n",
        "        return\n",
        "\n",
        "    def openDir(self, path): # implementation of recursively openning directories from a given rule directory and reading each file recursively into a string\n",
        "        i = 0\n",
        "        FOut = open(self.SOutput_file, 'w')\n",
        "\n",
        "        for root,d_names,f_names in os.walk(path):\n",
        "            for f in f_names:\n",
        "                if not re.match('^[0-9]+$', f): \n",
        "                    # print(f'Skipped: {f}')\n",
        "                    continue\n",
        "\n",
        "                fullpath = os.path.join(root, f)\n",
        "                i+=1\n",
        "                if i%1==0: \n",
        "                    print(str(i) + '. Processing: ' + f)\n",
        "                    print(fullpath)\n",
        "\n",
        "                    # FIn = open(fullpath,'r')\n",
        "                    # SIn = FIn.read()\n",
        "                    # apply text filter, if not None\n",
        "                    # if self.STextFilter and (re.search(self.RFilter, SIn) == None): continue\n",
        "                    # SText2Write = self.procFile(SIn,f,i)\n",
        "\n",
        "                SText2Write = self.procFile(fullpath, f, i) # returns converted string + tags\n",
        "                if SText2Write: FOut.write(SText2Write) # if the string is not empty then write to file\n",
        "                    # FIn.close()\n",
        "                try:\n",
        "                    pass\n",
        "                except:\n",
        "                    print(f'file {f} cannot be read or processed')\n",
        "                finally:\n",
        "                    pass\n",
        "        \n",
        "        FOut.flush()\n",
        "        FOut.close()\n",
        "\n",
        "        return\n",
        "\n",
        "\n",
        "    def procFile(self, fullpath, SFNameIn, i): # sending each json string for extraction of text and attaching an correct tags to each output string output string\n",
        "        STagOpen = '<' + self.STag + ' id=\"' + self.STag + str(self.ID + i)  + '\">\\n'\n",
        "        STagClose = '\\n</' + self.STag + '>\\n\\n'\n",
        "        SText4Corpus = self.getString(fullpath, SFNameIn)\n",
        "        if SText4Corpus:\n",
        "            return STagOpen + SText4Corpus + STagClose\n",
        "        else:\n",
        "            print('\\tNo data read from: ' + SFNameIn)\n",
        "            return None\n",
        "\n",
        "\n",
        "    def getString(self, fullpath, SFNameIn):\n",
        "        '''\n",
        "        the function uses system commands to copy, open and extract content of needed files\n",
        "        '''\n",
        "        # iconv -c -t UTF-8 < input.txt > output.txt\n",
        "        # iconv -f UTF-8 -t UTF-8//IGNORE 219624.txt > 219624_V2.txt\n",
        "        # last works!\n",
        "\n",
        "        SFNameHTML = SFNameIn + '_1.html'\n",
        "        SFNameTXT2 = SFNameIn + '_2.txt'\n",
        "        SFNameTXT3 = SFNameIn + '_3.txt'\n",
        "\n",
        "        SCommand = 'cp ' + fullpath + ' ./' + SFNameHTML\n",
        "        os.system(SCommand)\n",
        "\n",
        "        SCommand2 = 'lynx --dump ./' + SFNameHTML + ' > ' + SFNameTXT2\n",
        "        os.system(SCommand2)\n",
        "\n",
        "        # SCommand2 = 'iconv -c -t UTF-8 < ' + SFNameHTML + ' > ' + SFNameHTML2\n",
        "        SCommand3 = 'iconv -f UTF-8 -t UTF-8//IGNORE ' + SFNameTXT2 + ' > ' + SFNameTXT3\n",
        "        os.system(SCommand3)\n",
        "\n",
        "        # stream = os.popen('lynx --dump ./' + SFNameHTML2)\n",
        "        # SFileContent = stream.read()\n",
        "\n",
        "        F2Read = open('./' + SFNameTXT3, 'r', encoding=\"utf8\", errors=\"surrogateescape\")\n",
        "        SFileContent = F2Read.read()\n",
        "\n",
        "        LFileContent = re.split('\\n\\n+', SFileContent, flags=re.MULTILINE|re.DOTALL)\n",
        "        print(len(LFileContent))\n",
        "        print(LFileContent[0])\n",
        "\n",
        "        LFileContent0 = []\n",
        "        for el in LFileContent:\n",
        "            el = re.sub('\\n', ' ', el)\n",
        "            el = re.sub(' +', ' ', el)\n",
        "            LFileContent0.append(el)\n",
        "\n",
        "        SFileContent2 = '\\n\\n'.join(LFileContent0)\n",
        "        \n",
        "\n",
        "        return SFileContent2\n",
        "\n",
        "    "
      ],
      "metadata": {
        "id": "F8qgbOtXk4FB"
      },
      "execution_count": 43,
      "outputs": []
    },
    {
      "cell_type": "code",
      "source": [
        "OHtmlDir2txt = clHtmlDir2txt('/content/www.aerzteblatt.de')"
      ],
      "metadata": {
        "id": "SAHN0uChcd-O"
      },
      "execution_count": null,
      "outputs": []
    },
    {
      "cell_type": "code",
      "source": [
        "# running scripts from python: https://janakiev.com/blog/python-shell-commands/\n",
        "'''\n",
        "import os\n",
        "stream = os.popen('echo Returned output')\n",
        "output = stream.read()\n",
        "output\n",
        "\n",
        "import os\n",
        "os.system('ls -l')\n",
        "\n",
        "German link: \n",
        "https://www.aerzteblatt.de/archiv/219550/Diabetes-im-Krankenhaus\n",
        "class=\"deLink\"\n",
        "<li><a class=\"deLink\" href=\"/archiv/219550/Diabetes-im-Krankenhaus\">German version</a></li>\n",
        "\n",
        "'''"
      ],
      "metadata": {
        "id": "Y3TuemrjPLcx"
      },
      "execution_count": null,
      "outputs": []
    },
    {
      "cell_type": "code",
      "source": [
        "!cp /content/www.aerzteblatt.de/int/archive/article/219616 /content/219616.html\n",
        "!lynx --dump /content/219616.html > /content/219616.txt"
      ],
      "metadata": {
        "id": "rCHzR2wPPBGI"
      },
      "execution_count": 5,
      "outputs": []
    },
    {
      "cell_type": "code",
      "source": [
        "!lynx --dump /content/219616_2.html > /content/219616.txt\n",
        "!lynx --dump /content/219617_2.html > /content/219617.txt\n",
        "!lynx --dump /content/219618_2.html > /content/219618.txt\n",
        "!lynx --dump /content/219619_2.html > /content/219619.txt\n",
        "!lynx --dump /content/219624_2.html > /content/219624.txt\n",
        "!lynx --dump /content/219625_2.html > /content/219625.txt"
      ],
      "metadata": {
        "colab": {
          "base_uri": "https://localhost:8080/"
        },
        "id": "AaMaKqJbjZF1",
        "outputId": "7b849701-79e3-49ee-c320-71ffece03544"
      },
      "execution_count": 33,
      "outputs": [
        {
          "output_type": "stream",
          "name": "stdout",
          "text": [
            "\n",
            "Can't Access `file://localhost/content/219619_2.html'\n",
            "Alert!: Unable to access document.\n",
            "\n",
            "lynx: Can't access startfile \n"
          ]
        }
      ]
    },
    {
      "cell_type": "code",
      "source": [
        "!iconv -f UTF-8 -t UTF-8//IGNORE 219624.txt > 219624_V2.txt"
      ],
      "metadata": {
        "id": "ICpc6f_6tpAa"
      },
      "execution_count": 30,
      "outputs": []
    }
  ]
}