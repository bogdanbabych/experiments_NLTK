{
  "nbformat": 4,
  "nbformat_minor": 0,
  "metadata": {
    "colab": {
      "provenance": [],
      "authorship_tag": "ABX9TyP+SQc7N/vmLdDDG9CKKNi+",
      "include_colab_link": true
    },
    "kernelspec": {
      "name": "python3",
      "display_name": "Python 3"
    },
    "language_info": {
      "name": "python"
    }
  },
  "cells": [
    {
      "cell_type": "markdown",
      "metadata": {
        "id": "view-in-github",
        "colab_type": "text"
      },
      "source": [
        "<a href=\"https://colab.research.google.com/github/bogdanbabych/experiments_NLTK/blob/main/pdf2text_v01.ipynb\" target=\"_parent\"><img src=\"https://colab.research.google.com/assets/colab-badge.svg\" alt=\"Open In Colab\"/></a>"
      ]
    },
    {
      "cell_type": "code",
      "execution_count": 3,
      "metadata": {
        "colab": {
          "base_uri": "https://localhost:8080/"
        },
        "id": "SxnswmkePRiw",
        "outputId": "bba43c2f-5b0c-4f74-c9f3-429a6b61bc56"
      },
      "outputs": [
        {
          "output_type": "stream",
          "name": "stdout",
          "text": [
            "\u001b[2K     \u001b[90m━━━━━━━━━━━━━━━━━━━━━━━━━━━━━━━━━━━━━━━━\u001b[0m \u001b[32m46.1/46.1 kB\u001b[0m \u001b[31m1.8 MB/s\u001b[0m eta \u001b[36m0:00:00\u001b[0m\n",
            "\u001b[2K     \u001b[90m━━━━━━━━━━━━━━━━━━━━━━━━━━━━━━━━━━━━━━━━\u001b[0m \u001b[32m5.6/5.6 MB\u001b[0m \u001b[31m45.8 MB/s\u001b[0m eta \u001b[36m0:00:00\u001b[0m\n",
            "\u001b[2K     \u001b[90m━━━━━━━━━━━━━━━━━━━━━━━━━━━━━━━━━━━━━━━━\u001b[0m \u001b[32m3.4/3.4 MB\u001b[0m \u001b[31m83.7 MB/s\u001b[0m eta \u001b[36m0:00:00\u001b[0m\n",
            "\u001b[2K     \u001b[90m━━━━━━━━━━━━━━━━━━━━━━━━━━━━━━━━━━━━━━\u001b[0m \u001b[32m143.6/143.6 kB\u001b[0m \u001b[31m14.8 MB/s\u001b[0m eta \u001b[36m0:00:00\u001b[0m\n",
            "\u001b[?25h"
          ]
        }
      ],
      "source": [
        "pip install pdfplumber -q"
      ]
    },
    {
      "cell_type": "code",
      "source": [
        "import pdfplumber"
      ],
      "metadata": {
        "id": "g01-7KyJQcRU"
      },
      "execution_count": 5,
      "outputs": []
    },
    {
      "cell_type": "code",
      "source": [
        "pdf = pdfplumber.open('/content/file.pdf')"
      ],
      "metadata": {
        "id": "fTVVhmllQNnc"
      },
      "execution_count": 6,
      "outputs": []
    },
    {
      "cell_type": "code",
      "source": [
        "len(pdf.pages)"
      ],
      "metadata": {
        "id": "Y0Lrw5TBQ1Yz"
      },
      "execution_count": null,
      "outputs": []
    },
    {
      "cell_type": "code",
      "source": [
        "page = pdf.pages[0]"
      ],
      "metadata": {
        "id": "FnWXNdetQd5T"
      },
      "execution_count": 7,
      "outputs": []
    },
    {
      "cell_type": "code",
      "source": [
        "text = page.extract_text()"
      ],
      "metadata": {
        "id": "dbWIzzpzQmBM"
      },
      "execution_count": 8,
      "outputs": []
    },
    {
      "cell_type": "code",
      "source": [
        "print(text)"
      ],
      "metadata": {
        "colab": {
          "base_uri": "https://localhost:8080/"
        },
        "id": "HVT15YBPQs_b",
        "outputId": "f11bd545-8f47-409c-9dd2-ecb9c37e7cfa"
      },
      "execution_count": 9,
      "outputs": [
        {
          "output_type": "stream",
          "name": "stdout",
          "text": [
            "Ein Service des Bundesministeriums der Justiz sowie des Bundesamts für\n",
            "Justiz ‒ www.gesetze-im-internet.de\n",
            "Verordnung über die Erstattung von Aufwendungen nach dem\n",
            "Gesetz zur Überführung von Ansprüchen und Anwartschaften aus\n",
            "Zusatz- und Sonderversorgungssystemen des Beitrittsgebiets\n",
            "durch den Bund (AAÜG-Erstattungsverordnung)\n",
            "AAÜGErstV\n",
            "Ausfertigungsdatum: 29.05.1992\n",
            "Vollzitat:\n",
            "\"AAÜG-Erstattungsverordnung vom 29. Mai 1992 (BGBl. I S. 999), die zuletzt durch Artikel 57 Absatz 15 des\n",
            "Gesetzes vom 12. Dezember 2019 (BGBl. I S. 2652) geändert worden ist\"\n",
            "Stand: Zuletzt geändert durch Art. 57 Abs. 15 G v. 12.12.2019 I 2652\n",
            "Fußnote\n",
            "(+++ Textnachweis ab: 1.1.1992 +++)\n",
            "Eingangsformel\n",
            "Auf Grund des § 16 Abs. 2 des Anspruchs- und Anwartschaftsüberführungsgesetzes vom 25. Juli 1991 (BGBl.\n",
            "I S. 1606, 1677) verordnet der Bundesminister für Arbeit und Sozialordnung im Einvernehmen mit dem\n",
            "Bundesminister der Finanzen:\n",
            "§ 1 Erstattungsfähige Aufwendungen\n",
            "(1) Aufwendungen im Sinne des § 15 Abs. 1 des Anspruchs- und Anwartschaftsüberführungsgesetzes sind\n",
            "1. Renten aus eigener Versicherung,\n",
            "2. Renten wegen Todes, einschließlich der Zuschläge bei Waisenrenten,\n",
            "3. Zusatzleistungen nach den §§ 106 und 107 des Sechsten Buches Sozialgesetzbuch,\n",
            "4. der Teil des Beitrags zur Krankenversicherung, den nach § 249a des Fünften Buches Sozialgesetzbuch die\n",
            "Deutsche Rentenversicherung Bund zu tragen hat,\n",
            "4a. (weggefallen)\n",
            "5. Rententeilbeträge aus Renten nach Artikel 2 des Renten-Überleitungsgesetzes,\n",
            "6. (weggefallen)\n",
            "7. Leistungen, die nach § 307b Abs. 4 bis 7 des Sechsten Buches Sozialgesetzbuch und § 4 des Anspruchs-\n",
            "und Anwartschaftsüberführungsgesetzes besitzgeschützt sind,\n",
            "8. Leistungen zur Teilhabe.\n",
            "(2) Aufwendungen im Sinne des § 15 Abs. 3 Satz 1 des Anspruchs- und Anwartschaftsüberführungsgesetzes sind\n",
            "die Zahlbeträge von Leistungen nach den §§ 9 und 11 dieses Gesetzes.\n",
            "§ 2 Berechnung der Erstattungsbeträge bei Renten und sonstigen Leistungen\n",
            "(1) Erstattungsbetrag ist bei Renten, die nach den Vorschriften des Sechsten Buches Sozialgesetzbuch\n",
            "festgestellt sind, der aus persönlichen Entgeltpunkten (Ost) für Zeiten der Zugehörigkeit zu einem Zusatz-\n",
            "oder Sonderversorgungssystem errechnete Monatsteilbetrag der Rente, der aufgrund der aus einem Zusatz-\n",
            "oder Sonderversorgungssystem überführten Ansprüche oder Anwartschaften zu zahlen ist. Für Zeiten der\n",
            "Zugehörigkeit zu einem Zusatzversorgungssystem werden Entgeltpunkte (Ost), denen Verdienste von\n",
            "bis zu 7 200 Mark jährlich zugrunde liegen, bei der Berechnung des erstattungsfähigen Betrages nicht\n",
            "berücksichtigt. Nach der Gesamtleistungsbewertung ermittelte Entgeltpunkte (Ost) werden in dem Verhältnis\n",
            "- Seite 1 von 3 -\n"
          ]
        }
      ]
    }
  ]
}