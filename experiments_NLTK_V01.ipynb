{
  "nbformat": 4,
  "nbformat_minor": 0,
  "metadata": {
    "colab": {
      "name": "experiments_NLTK_V01.ipynb",
      "provenance": [],
      "collapsed_sections": [],
      "mount_file_id": "1HkGIvk60l_ObaCa_YNtjltOQI5eyO-w-",
      "authorship_tag": "ABX9TyPrC0Kq4pVIHpHLH9Nmdmry",
      "include_colab_link": true
    },
    "kernelspec": {
      "name": "python3",
      "display_name": "Python 3"
    },
    "language_info": {
      "name": "python"
    }
  },
  "cells": [
    {
      "cell_type": "markdown",
      "metadata": {
        "id": "view-in-github",
        "colab_type": "text"
      },
      "source": [
        "<a href=\"https://colab.research.google.com/github/bogdanbabych/experiments_NLTK/blob/main/experiments_NLTK_V01.ipynb\" target=\"_parent\"><img src=\"https://colab.research.google.com/assets/colab-badge.svg\" alt=\"Open In Colab\"/></a>"
      ]
    },
    {
      "cell_type": "code",
      "metadata": {
        "id": "sVTF5WaLAnS2"
      },
      "source": [
        "!wget https://heibox.uni-heidelberg.de/f/76fb7d8c7fdf441caea9/?dl=1\n",
        "# en-ka\n",
        "\n",
        "!wget https://heibox.uni-heidelberg.de/f/c57ce95d87c7415ea6f8/?dl=1\n",
        "# de-ka"
      ],
      "execution_count": null,
      "outputs": []
    },
    {
      "cell_type": "code",
      "metadata": {
        "id": "oD03NKiWELNQ"
      },
      "source": [
        "!mv index.html?dl=1 en-ka.tmx\n",
        "!mv index.html?dl=1.1 de-ka.tmx\n"
      ],
      "execution_count": 2,
      "outputs": []
    },
    {
      "cell_type": "code",
      "metadata": {
        "colab": {
          "base_uri": "https://localhost:8080/"
        },
        "id": "65fHEGjxEYdV",
        "outputId": "f59cbe09-ffce-4731-d926-9ce5f69d91e9"
      },
      "source": [
        "!head --lines=20 de-ka.tmx\n"
      ],
      "execution_count": 4,
      "outputs": [
        {
          "output_type": "stream",
          "name": "stdout",
          "text": [
            "<?xml version=\"1.0\" encoding=\"UTF-8\" ?>\n",
            "<tmx version=\"1.4\">\n",
            "<header creationdate=\"Wed May 19 19:45:29 2021\"\n",
            "          srclang=\"de\"\n",
            "          adminlang=\"de\"\n",
            "          o-tmf=\"unknown\"\n",
            "          segtype=\"sentence\"\n",
            "          creationtool=\"Uplug\"\n",
            "          creationtoolversion=\"unknown\"\n",
            "          datatype=\"PlainText\" />\n",
            "  <body>\n",
            "    <tu>\n",
            "      <tuv xml:lang=\"de\"><seg>ich PTI[Limit] von [Obst] und zart unreif, </seg></tuv>\n",
            "      <tuv xml:lang=\"ka\"><seg>მე pti[ლიმიტი] საწყისი [ხილი] და სატენდერო გაუაზრებელი, </seg></tuv>\n",
            "    </tu>\n",
            "    <tu>\n",
            "      <tuv xml:lang=\"de\"><seg>Impressum </seg></tuv>\n",
            "      <tuv xml:lang=\"ka\"><seg>ფორუმი </seg></tuv>\n",
            "    </tu>\n",
            "    <tu>\n"
          ]
        }
      ]
    },
    {
      "cell_type": "code",
      "metadata": {
        "colab": {
          "base_uri": "https://localhost:8080/"
        },
        "id": "jBLF6udTEkRb",
        "outputId": "2de43c57-143f-48ca-c6ef-21d3444a5214"
      },
      "source": [
        "!wc de-ka.tmx"
      ],
      "execution_count": 5,
      "outputs": [
        {
          "output_type": "stream",
          "name": "stdout",
          "text": [
            "  1811453  15815624 210342717 de-ka.tmx\n"
          ]
        }
      ]
    },
    {
      "cell_type": "code",
      "metadata": {
        "colab": {
          "base_uri": "https://localhost:8080/"
        },
        "id": "IiUnhkNAE9zT",
        "outputId": "662a630b-495c-41b3-ec1d-9a417376d4aa"
      },
      "source": [
        "import nltk\n",
        "from nltk.tokenize import word_tokenize\n",
        "from nltk.stem import WordNetLemmatizer\n",
        "nltk.download('punkt')\n",
        "nltk.download('wordnet')\n"
      ],
      "execution_count": 6,
      "outputs": [
        {
          "output_type": "stream",
          "name": "stdout",
          "text": [
            "[nltk_data] Downloading package punkt to /root/nltk_data...\n",
            "[nltk_data]   Unzipping tokenizers/punkt.zip.\n",
            "[nltk_data] Downloading package wordnet to /root/nltk_data...\n",
            "[nltk_data]   Unzipping corpora/wordnet.zip.\n"
          ]
        },
        {
          "output_type": "execute_result",
          "data": {
            "text/plain": [
              "True"
            ]
          },
          "metadata": {},
          "execution_count": 6
        }
      ]
    },
    {
      "cell_type": "code",
      "metadata": {
        "colab": {
          "base_uri": "https://localhost:8080/"
        },
        "id": "FpPMGZJZFvlu",
        "outputId": "1645c224-cde9-4ec8-f840-5bc83eeb7aa4"
      },
      "source": [
        "!zip de-ka.zip de-ka.tmx"
      ],
      "execution_count": 7,
      "outputs": [
        {
          "output_type": "stream",
          "name": "stdout",
          "text": [
            "  adding: de-ka.tmx (deflated 73%)\n"
          ]
        }
      ]
    }
  ]
}