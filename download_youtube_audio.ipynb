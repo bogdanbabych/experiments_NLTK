{
  "nbformat": 4,
  "nbformat_minor": 0,
  "metadata": {
    "colab": {
      "provenance": [],
      "authorship_tag": "ABX9TyMbFnVsH9pOt3Dwn/kDbXlG",
      "include_colab_link": true
    },
    "kernelspec": {
      "name": "python3",
      "display_name": "Python 3"
    },
    "language_info": {
      "name": "python"
    }
  },
  "cells": [
    {
      "cell_type": "markdown",
      "metadata": {
        "id": "view-in-github",
        "colab_type": "text"
      },
      "source": [
        "<a href=\"https://colab.research.google.com/github/bogdanbabych/experiments_NLTK/blob/main/download_youtube_audio.ipynb\" target=\"_parent\"><img src=\"https://colab.research.google.com/assets/colab-badge.svg\" alt=\"Open In Colab\"/></a>"
      ]
    },
    {
      "cell_type": "code",
      "execution_count": 1,
      "metadata": {
        "colab": {
          "base_uri": "https://localhost:8080/"
        },
        "id": "JiQT1T76LPft",
        "outputId": "3bb7d5c3-4ee1-4f75-e8d9-1b1cc05b7f1d"
      },
      "outputs": [
        {
          "output_type": "stream",
          "name": "stdout",
          "text": [
            "Collecting yt-dlp\n",
            "  Downloading yt_dlp-2025.9.5-py3-none-any.whl.metadata (177 kB)\n",
            "\u001b[2K     \u001b[90m━━━━━━━━━━━━━━━━━━━━━━━━━━━━━━━━━━━━━━━\u001b[0m \u001b[32m177.1/177.1 kB\u001b[0m \u001b[31m3.8 MB/s\u001b[0m eta \u001b[36m0:00:00\u001b[0m\n",
            "\u001b[?25hDownloading yt_dlp-2025.9.5-py3-none-any.whl (3.3 MB)\n",
            "\u001b[2K   \u001b[90m━━━━━━━━━━━━━━━━━━━━━━━━━━━━━━━━━━━━━━━━\u001b[0m \u001b[32m3.3/3.3 MB\u001b[0m \u001b[31m42.2 MB/s\u001b[0m eta \u001b[36m0:00:00\u001b[0m\n",
            "\u001b[?25hInstalling collected packages: yt-dlp\n",
            "Successfully installed yt-dlp-2025.9.5\n"
          ]
        }
      ],
      "source": [
        "!pip install yt-dlp\n",
        "\n",
        "import yt_dlp\n",
        "from pathlib import Path\n",
        "\n",
        "def download_youtube_audio(url, out_dir=\"downloads\", file_name=None):\n",
        "    Path(out_dir).mkdir(exist_ok=True)\n",
        "    output_template = str(Path(out_dir, \"%(title)s.%(ext)s\")) if file_name is None else str(Path(out_dir, file_name))\n",
        "\n",
        "    ydl_opts = {\n",
        "        \"format\": \"bestaudio/best\",\n",
        "        \"outtmpl\": output_template,\n",
        "        \"postprocessors\": [{\n",
        "            \"key\": \"FFmpegExtractAudio\",\n",
        "            \"preferredcodec\": \"mp3\",\n",
        "            \"preferredquality\": \"192\",\n",
        "        }],\n",
        "    }\n",
        "\n",
        "    with yt_dlp.YoutubeDL(ydl_opts) as ydl:\n",
        "        info = ydl.extract_info(url, download=True)\n",
        "        return ydl.prepare_filename(info).replace(\".webm\", \".mp3\").replace(\".m4a\", \".mp3\")"
      ]
    },
    {
      "cell_type": "code",
      "source": [
        "download_youtube_audio(\"https://www.youtube.com/watch?v=OjbvLc_2Wso\", out_dir=\".\", file_name=\"output-audio\")"
      ],
      "metadata": {
        "colab": {
          "base_uri": "https://localhost:8080/"
        },
        "id": "Znb4kGJJLeJB",
        "outputId": "3c3fa79f-f574-4801-ffbc-2cae14eaf809"
      },
      "execution_count": null,
      "outputs": [
        {
          "output_type": "stream",
          "name": "stdout",
          "text": [
            "[youtube] Extracting URL: https://www.youtube.com/watch?v=OjbvLc_2Wso\n",
            "[youtube] OjbvLc_2Wso: Downloading webpage\n",
            "[youtube] OjbvLc_2Wso: Downloading tv simply player API JSON\n",
            "[youtube] OjbvLc_2Wso: Downloading tv client config\n",
            "[youtube] OjbvLc_2Wso: Downloading player 0e6689e2-main\n",
            "[youtube] OjbvLc_2Wso: Downloading tv player API JSON\n",
            "[info] OjbvLc_2Wso: Downloading 1 format(s): 251\n",
            "[download] Sleeping 3.00 seconds as required by the site...\n",
            "[download] Destination: output-audio\n",
            "[download] 100% of   49.94MiB in 00:00:01 at 41.18MiB/s  \n",
            "[ExtractAudio] Destination: output-audio.mp3\n"
          ]
        }
      ]
    }
  ]
}