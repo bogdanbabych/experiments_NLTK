{
  "nbformat": 4,
  "nbformat_minor": 0,
  "metadata": {
    "colab": {
      "name": "cwb2021experimentsV02.ipynb",
      "provenance": [],
      "collapsed_sections": [],
      "authorship_tag": "ABX9TyMJjrczuavCxoIVb77hhvLR",
      "include_colab_link": true
    },
    "kernelspec": {
      "name": "python3",
      "display_name": "Python 3"
    },
    "language_info": {
      "name": "python"
    }
  },
  "cells": [
    {
      "cell_type": "markdown",
      "metadata": {
        "id": "view-in-github",
        "colab_type": "text"
      },
      "source": [
        "<a href=\"https://colab.research.google.com/github/bogdanbabych/experiments_NLTK/blob/main/cwb2021experimentsV02.ipynb\" target=\"_parent\"><img src=\"https://colab.research.google.com/assets/colab-badge.svg\" alt=\"Open In Colab\"/></a>"
      ]
    },
    {
      "cell_type": "code",
      "execution_count": null,
      "metadata": {
        "id": "zAn_DUV0xv3Y"
      },
      "outputs": [],
      "source": [
        "!wget https://heibox.uni-heidelberg.de/f/7f1e8929352b4cf4b13a/?dl=1"
      ]
    },
    {
      "cell_type": "code",
      "source": [
        "!mv index.html?dl=1 cwb-3.4.22-source.tar.gz"
      ],
      "metadata": {
        "id": "RISPCuS9ywar"
      },
      "execution_count": null,
      "outputs": []
    },
    {
      "cell_type": "code",
      "source": [
        "!tar xvfz cwb-3.4.22-source.tar.gz"
      ],
      "metadata": {
        "id": "-9q2g4tHy526"
      },
      "execution_count": null,
      "outputs": []
    },
    {
      "cell_type": "code",
      "source": [
        "%cd /content/"
      ],
      "metadata": {
        "colab": {
          "base_uri": "https://localhost:8080/"
        },
        "id": "rp3bSfNz2bDc",
        "outputId": "d72deea7-7c1b-41b1-b51f-bdf7fb3f5a8b"
      },
      "execution_count": null,
      "outputs": [
        {
          "output_type": "stream",
          "name": "stdout",
          "text": [
            "/content\n"
          ]
        }
      ]
    },
    {
      "cell_type": "code",
      "source": [
        "!apt-get install flex bison"
      ],
      "metadata": {
        "id": "xMCPjvHC2e0_"
      },
      "execution_count": null,
      "outputs": []
    },
    {
      "cell_type": "code",
      "source": [
        "%cd /content/cwb-3.4.22/"
      ],
      "metadata": {
        "id": "ppn0btNhzB1O"
      },
      "execution_count": null,
      "outputs": []
    },
    {
      "cell_type": "code",
      "source": [
        "!pwd"
      ],
      "metadata": {
        "id": "7zyvBPLDzFT8"
      },
      "execution_count": null,
      "outputs": []
    },
    {
      "cell_type": "code",
      "source": [
        "!sudo ./install-scripts/config-basic\n",
        "!sudo ./install-scripts/install-linux"
      ],
      "metadata": {
        "id": "8kt7QWlDzK7M"
      },
      "execution_count": null,
      "outputs": []
    },
    {
      "cell_type": "code",
      "source": [
        "# !apt install subversion"
      ],
      "metadata": {
        "id": "bE1dsXQ65Boq"
      },
      "execution_count": null,
      "outputs": []
    },
    {
      "cell_type": "code",
      "source": [
        "# !svn co http://svn.code.sf.net/p/cwb/code/perl/trunk cwb-perl"
      ],
      "metadata": {
        "id": "a8aOdxTQ25L3"
      },
      "execution_count": null,
      "outputs": []
    },
    {
      "cell_type": "code",
      "source": [
        "# %cd /content/cwb-perl/CWB-CL"
      ],
      "metadata": {
        "id": "l7lyPEYp6B8J"
      },
      "execution_count": null,
      "outputs": []
    },
    {
      "cell_type": "code",
      "source": [
        "# !perl Makefile.PL --config=/content/cwb-3.4.22/install-scripts/config-basic"
      ],
      "metadata": {
        "id": "7s0Qdlyw7EjI"
      },
      "execution_count": null,
      "outputs": []
    },
    {
      "cell_type": "code",
      "source": [
        "%cd /content/"
      ],
      "metadata": {
        "colab": {
          "base_uri": "https://localhost:8080/"
        },
        "id": "CVuSe3hQ_BDj",
        "outputId": "5075da94-537b-43d6-c912-56da3bb65941"
      },
      "execution_count": null,
      "outputs": [
        {
          "output_type": "stream",
          "name": "stdout",
          "text": [
            "/content\n"
          ]
        }
      ]
    },
    {
      "cell_type": "code",
      "source": [
        "!wget https://heibox.uni-heidelberg.de/f/dd3538603aa84dd09a76/?dl=1"
      ],
      "metadata": {
        "id": "oGgO8XnS8mp1"
      },
      "execution_count": null,
      "outputs": []
    },
    {
      "cell_type": "code",
      "source": [
        "!mv index.html?dl=1 Dickens-1.0.tar.gz"
      ],
      "metadata": {
        "id": "0UkrOMJw8ubE"
      },
      "execution_count": null,
      "outputs": []
    },
    {
      "cell_type": "code",
      "source": [
        "!tar xvzf Dickens-1.0.tar.gz"
      ],
      "metadata": {
        "id": "1zXK1Z9v8zob"
      },
      "execution_count": null,
      "outputs": []
    },
    {
      "cell_type": "code",
      "source": [
        "! echo $PATH"
      ],
      "metadata": {
        "colab": {
          "base_uri": "https://localhost:8080/"
        },
        "id": "Zlu6uAee9eJ1",
        "outputId": "ffea9691-0438-4a83-8840-88d1fb12b4f4"
      },
      "execution_count": null,
      "outputs": [
        {
          "output_type": "stream",
          "name": "stdout",
          "text": [
            "/usr/local/nvidia/bin:/usr/local/cuda/bin:/usr/local/sbin:/usr/local/bin:/usr/sbin:/usr/bin:/sbin:/bin:/tools/node/bin:/tools/google-cloud-sdk/bin:/opt/bin\n"
          ]
        }
      ]
    },
    {
      "cell_type": "code",
      "source": [
        "%env PATH=/usr/local/cwb-3.4.22/bin:/usr/local/nvidia/bin:/usr/local/cuda/bin:/usr/local/sbin:/usr/local/bin:/usr/sbin:/usr/bin:/sbin:/bin:/tools/node/bin:/tools/google-cloud-sdk/bin:/opt/bin"
      ],
      "metadata": {
        "colab": {
          "base_uri": "https://localhost:8080/"
        },
        "id": "nsUAyqA79-PO",
        "outputId": "4543d197-4568-4029-b4c4-c5a21ed44ff6"
      },
      "execution_count": null,
      "outputs": [
        {
          "output_type": "stream",
          "name": "stdout",
          "text": [
            "env: PATH=/usr/local/cwb-3.4.22/bin:/usr/local/nvidia/bin:/usr/local/cuda/bin:/usr/local/sbin:/usr/local/bin:/usr/sbin:/usr/bin:/sbin:/bin:/tools/node/bin:/tools/google-cloud-sdk/bin:/opt/bin\n"
          ]
        }
      ]
    },
    {
      "cell_type": "code",
      "source": [
        "!echo $PATH"
      ],
      "metadata": {
        "colab": {
          "base_uri": "https://localhost:8080/"
        },
        "id": "XwVe-fIX_BCO",
        "outputId": "79e61d15-cee4-41e2-c08f-e658a2ac3f39"
      },
      "execution_count": null,
      "outputs": [
        {
          "output_type": "stream",
          "name": "stdout",
          "text": [
            "/usr/local/cwb-3.4.22/bin:/usr/local/nvidia/bin:/usr/local/cuda/bin:/usr/local/sbin:/usr/local/bin:/usr/sbin:/usr/bin:/sbin:/bin:/tools/node/bin:/tools/google-cloud-sdk/bin:/opt/bin\n"
          ]
        }
      ]
    },
    {
      "cell_type": "code",
      "source": [
        "!pwd"
      ],
      "metadata": {
        "colab": {
          "base_uri": "https://localhost:8080/"
        },
        "id": "-SegqQOf_a4H",
        "outputId": "1c505303-2698-4209-cfd5-29cd321db44b"
      },
      "execution_count": null,
      "outputs": [
        {
          "output_type": "stream",
          "name": "stdout",
          "text": [
            "/content\n"
          ]
        }
      ]
    },
    {
      "cell_type": "code",
      "source": [
        "%cd /content/Dickens-1.0"
      ],
      "metadata": {
        "colab": {
          "base_uri": "https://localhost:8080/"
        },
        "id": "8tLpU-rL_gxO",
        "outputId": "87bd59b1-b9b5-4063-d88e-a83fe8860926"
      },
      "execution_count": null,
      "outputs": [
        {
          "output_type": "stream",
          "name": "stdout",
          "text": [
            "/content/Dickens-1.0\n"
          ]
        }
      ]
    },
    {
      "cell_type": "code",
      "source": [
        "# try:\n",
        "# DICKENS;\n",
        "# \"question\";\n",
        "# q\n",
        "# exit;\n",
        "!cqp -e -r registry"
      ],
      "metadata": {
        "colab": {
          "base_uri": "https://localhost:8080/"
        },
        "id": "23RaYSDs9LBw",
        "outputId": "7070c6eb-656f-404b-98e7-19b15f608ff1"
      },
      "execution_count": null,
      "outputs": [
        {
          "output_type": "stream",
          "name": "stdout",
          "text": [
            "\u001b[m[no corpus]> DICKENS;\n",
            "\u001b[mDICKENS> \"question\";\n",
            "     5614:  then . Scrooge asked the <\u001b[m\u001b[7mquestion\u001b[m> , because he did n't kno\u001b[m\u001b[m\n",
            "    24336: r a bear . At every fresh <\u001b[m\u001b[7mquestion\u001b[m> that was put to him , th\u001b[m\u001b[m\n",
            "    28174: nny , and made it an open <\u001b[m\u001b[7mquestion\u001b[m> , I 'd repent of being s\u001b[m\u001b[m\n",
            "    31729: Scrooge , ` answer me one <\u001b[m\u001b[7mquestion\u001b[m> . Are these the shadows \u001b[m\u001b[m\n",
            "    36008:  the second branch of the <\u001b[m\u001b[7mquestion\u001b[m> , I will only remark , t\u001b[m\u001b[m\n",
            "    36769: ving once , on a disputed <\u001b[m\u001b[7mquestion\u001b[m> of supplies , made some \u001b[m\u001b[m\n",
            "    39206: ched - and so I asked the <\u001b[m\u001b[7mquestion\u001b[m> . You were an orphan , w\u001b[m\u001b[m\n",
            "    51121: , then ? said I , putting <\u001b[m\u001b[7mquestion\u001b[m> number two of the catech\u001b[m\u001b[m\n",
            "    53098: n I have asked myself the <\u001b[m\u001b[7mquestion\u001b[m> , would it have been bet\u001b[m\u001b[m\n",
            "    57633: . But if he had asked the <\u001b[m\u001b[7mquestion\u001b[m> twenty times , each time\u001b[m\u001b[m\n",
            "    79051:  ? Did it bite ? At every <\u001b[m\u001b[7mquestion\u001b[m> he gave me a fleshy cut \u001b[m\u001b[m\n",
            "    80966:  was of course out of the <\u001b[m\u001b[7mquestion\u001b[m> . In the morning , too ,\u001b[m\u001b[m\n",
            "    83429: s ? Steerforth evaded the <\u001b[m\u001b[7mquestion\u001b[m> for a little while ; loo\u001b[m\u001b[m\n",
            "    93809: ssionate judges of such a <\u001b[m\u001b[7mquestion\u001b[m> than you . ' Edward , ' \u001b[m\u001b[m\n",
            "    97211:  sorrowful to discuss the <\u001b[m\u001b[7mquestion\u001b[m> , which would possibly h\u001b[m\u001b[m\n",
            "   119570:  opportunity of putting a <\u001b[m\u001b[7mquestion\u001b[m> in which I had a near in\u001b[m\u001b[m\n",
            "   128775:  ; though I had asked the <\u001b[m\u001b[7mquestion\u001b[m> so often , that it almos\u001b[m\u001b[m\n",
            "   130829: vid Copperfield , and the <\u001b[m\u001b[7mquestion\u001b[m> I put to you is , what s\u001b[m\u001b[m\n",
            "   133561:  going to ask you another <\u001b[m\u001b[7mquestion\u001b[m> . Look at this child . '\u001b[m\u001b[m\n",
            "   135368: o give my opinion on this <\u001b[m\u001b[7mquestion\u001b[m> , I delivered my message\u001b[m\u001b[m\n",
            "   135996: endeavouring to evade the <\u001b[m\u001b[7mquestion\u001b[m> , by replying that I tho\u001b[m\u001b[m\n",
            "   137203: hem , chiefly because the <\u001b[m\u001b[7mquestion\u001b[m> was raised in her own mi\u001b[m\u001b[m\n",
            "   144319: Mr. Wickfield - ' the old <\u001b[m\u001b[7mquestion\u001b[m> , you know . What 's you\u001b[m\u001b[m\n",
            "\u001b[K\u001b[?1l\u001b>\u001b[mDICKENS> \n",
            "\u001b[mDICKENS> exit;\n",
            "\n",
            "Done. Share and enjoy!\n"
          ]
        }
      ]
    },
    {
      "cell_type": "code",
      "source": [
        "!cwb-describe-corpus -h"
      ],
      "metadata": {
        "colab": {
          "base_uri": "https://localhost:8080/"
        },
        "id": "Wbbdaxst_020",
        "outputId": "47007d3d-c04f-454f-d557-bf56d6d5d9c0"
      },
      "execution_count": null,
      "outputs": [
        {
          "output_type": "stream",
          "name": "stdout",
          "text": [
            "\n",
            "Usage:  cwb-describe-corpus [flags] <corpus> [<corpus> ...] \n",
            "Options:\n",
            "  -r <dir>  use registry directory <dir>\n",
            "  -s        show statistics (attribute & lexicon size)\n",
            "  -d        show details (about component files)\n",
            "  -h        this help page\n",
            "Part of the IMS Open Corpus Workbench v3.4.22\n",
            "\n"
          ]
        }
      ]
    },
    {
      "cell_type": "code",
      "source": [
        "!cwb-describe-corpus -s -r registry dickens"
      ],
      "metadata": {
        "colab": {
          "base_uri": "https://localhost:8080/"
        },
        "id": "L27_yMizBI_k",
        "outputId": "63968e8d-155d-464a-96b0-83abfe181f63"
      },
      "execution_count": null,
      "outputs": [
        {
          "output_type": "stream",
          "name": "stdout",
          "text": [
            "\n",
            "============================================================\n",
            "Corpus: dickens\n",
            "============================================================\n",
            "\n",
            "description:    IMS Corpus Workbench Demo Corpus v1.0 (novels by Charles Dickens)\n",
            "registry file:  registry/dickens\n",
            "home directory: data/\n",
            "info file:      data/.info\n",
            "encoding:       latin1\n",
            "size (tokens):  3407085\n",
            "\n",
            "  3 positional attributes\n",
            " 34 structural attributes\n",
            "  0 alignment  attributes\n",
            "\n",
            "p-ATT word                3407085 tokens,    57568 types\n",
            "p-ATT pos                 3407085 tokens,       43 types\n",
            "p-ATT lemma               3407085 tokens,    41222 types\n",
            "s-ATT text                     14 regions\n",
            "s-ATT text_id                  14 regions (with annotations)\n",
            "s-ATT novel                    14 regions\n",
            "s-ATT novel_title              14 regions (with annotations)\n",
            "s-ATT titlepage                14 regions\n",
            "s-ATT book                     17 regions\n",
            "s-ATT book_num                 17 regions (with annotations)\n",
            "s-ATT chapter                 696 regions\n",
            "s-ATT chapter_num             696 regions (with annotations)\n",
            "s-ATT chapter_title           696 regions (with annotations)\n",
            "s-ATT title                   733 regions\n",
            "s-ATT title_len               733 regions (with annotations)\n",
            "s-ATT p                     61177 regions\n",
            "s-ATT p_len                 61177 regions (with annotations)\n",
            "s-ATT s                    152455 regions\n",
            "s-ATT s_len                152455 regions (with annotations)\n",
            "s-ATT np                   419363 regions\n",
            "s-ATT np1                   90915 regions\n",
            "s-ATT np2                   25640 regions\n",
            "s-ATT np_h                 419363 regions (with annotations)\n",
            "s-ATT np_h1                 90915 regions (with annotations)\n",
            "s-ATT np_h2                 25640 regions (with annotations)\n",
            "s-ATT np_len               419363 regions (with annotations)\n",
            "s-ATT np_len1               90915 regions (with annotations)\n",
            "s-ATT np_len2               25640 regions (with annotations)\n",
            "s-ATT pp                   116608 regions\n",
            "s-ATT pp1                   38889 regions\n",
            "s-ATT pp2                    9000 regions\n",
            "s-ATT pp_h                 116608 regions (with annotations)\n",
            "s-ATT pp_h1                 38889 regions (with annotations)\n",
            "s-ATT pp_h2                  9000 regions (with annotations)\n",
            "s-ATT pp_len               116608 regions (with annotations)\n",
            "s-ATT pp_len1               38889 regions (with annotations)\n",
            "s-ATT pp_len2                9000 regions (with annotations)\n",
            "\n"
          ]
        }
      ]
    },
    {
      "cell_type": "code",
      "source": [
        "%cd /content/"
      ],
      "metadata": {
        "colab": {
          "base_uri": "https://localhost:8080/"
        },
        "id": "HGZpuvwZFLVf",
        "outputId": "e2a62060-a61f-4d05-bbb4-2beb99927f12"
      },
      "execution_count": null,
      "outputs": [
        {
          "output_type": "stream",
          "name": "stdout",
          "text": [
            "/content\n"
          ]
        }
      ]
    },
    {
      "cell_type": "code",
      "source": [
        "# !python -m pip install cwb-ccc"
      ],
      "metadata": {
        "colab": {
          "base_uri": "https://localhost:8080/"
        },
        "id": "56JFOM66E1Kt",
        "outputId": "eae5c1d6-eff1-40b5-9d7c-96f452aa8840"
      },
      "execution_count": null,
      "outputs": [
        {
          "output_type": "stream",
          "name": "stdout",
          "text": [
            "Collecting cwb-ccc\n",
            "  Downloading cwb-ccc-0.10.1.tar.gz (149 kB)\n",
            "\u001b[?25l\r\u001b[K     |██▏                             | 10 kB 16.0 MB/s eta 0:00:01\r\u001b[K     |████▍                           | 20 kB 14.6 MB/s eta 0:00:01\r\u001b[K     |██████▋                         | 30 kB 9.9 MB/s eta 0:00:01\r\u001b[K     |████████▉                       | 40 kB 8.4 MB/s eta 0:00:01\r\u001b[K     |███████████                     | 51 kB 5.4 MB/s eta 0:00:01\r\u001b[K     |█████████████▏                  | 61 kB 5.6 MB/s eta 0:00:01\r\u001b[K     |███████████████▍                | 71 kB 5.5 MB/s eta 0:00:01\r\u001b[K     |█████████████████▋              | 81 kB 6.1 MB/s eta 0:00:01\r\u001b[K     |███████████████████▊            | 92 kB 6.1 MB/s eta 0:00:01\r\u001b[K     |██████████████████████          | 102 kB 5.1 MB/s eta 0:00:01\r\u001b[K     |████████████████████████▏       | 112 kB 5.1 MB/s eta 0:00:01\r\u001b[K     |██████████████████████████▍     | 122 kB 5.1 MB/s eta 0:00:01\r\u001b[K     |████████████████████████████▌   | 133 kB 5.1 MB/s eta 0:00:01\r\u001b[K     |██████████████████████████████▊ | 143 kB 5.1 MB/s eta 0:00:01\r\u001b[K     |████████████████████████████████| 149 kB 5.1 MB/s \n",
            "\u001b[?25hCollecting association-measures>=0.1.6\n",
            "  Downloading association-measures-0.2.0.tar.gz (31 kB)\n",
            "Collecting pandas>=1.2.0\n",
            "  Downloading pandas-1.3.5-cp37-cp37m-manylinux_2_17_x86_64.manylinux2014_x86_64.whl (11.3 MB)\n",
            "\u001b[K     |████████████████████████████████| 11.3 MB 53.4 MB/s \n",
            "\u001b[?25hRequirement already satisfied: numexpr>=2.7.1 in /usr/local/lib/python3.7/dist-packages (from cwb-ccc) (2.7.3)\n",
            "Requirement already satisfied: Bottleneck>=1.3.2 in /usr/local/lib/python3.7/dist-packages (from cwb-ccc) (1.3.2)\n",
            "Collecting unidecode>=1.1.1\n",
            "  Downloading Unidecode-1.3.2-py3-none-any.whl (235 kB)\n",
            "\u001b[K     |████████████████████████████████| 235 kB 46.9 MB/s \n",
            "\u001b[?25hCollecting pyyaml>=5.4.1\n",
            "  Downloading PyYAML-6.0-cp37-cp37m-manylinux_2_5_x86_64.manylinux1_x86_64.manylinux_2_12_x86_64.manylinux2010_x86_64.whl (596 kB)\n",
            "\u001b[K     |████████████████████████████████| 596 kB 50.1 MB/s \n",
            "\u001b[?25hRequirement already satisfied: scipy in /usr/local/lib/python3.7/dist-packages (from association-measures>=0.1.6->cwb-ccc) (1.4.1)\n",
            "Requirement already satisfied: numpy in /usr/local/lib/python3.7/dist-packages (from Bottleneck>=1.3.2->cwb-ccc) (1.19.5)\n",
            "Requirement already satisfied: pytz>=2017.3 in /usr/local/lib/python3.7/dist-packages (from pandas>=1.2.0->cwb-ccc) (2018.9)\n",
            "Requirement already satisfied: python-dateutil>=2.7.3 in /usr/local/lib/python3.7/dist-packages (from pandas>=1.2.0->cwb-ccc) (2.8.2)\n",
            "Requirement already satisfied: six>=1.5 in /usr/local/lib/python3.7/dist-packages (from python-dateutil>=2.7.3->pandas>=1.2.0->cwb-ccc) (1.15.0)\n",
            "Building wheels for collected packages: cwb-ccc, association-measures\n",
            "  Building wheel for cwb-ccc (setup.py) ... \u001b[?25lerror\n",
            "\u001b[31m  ERROR: Failed building wheel for cwb-ccc\u001b[0m\n",
            "\u001b[?25h  Running setup.py clean for cwb-ccc\n",
            "  Building wheel for association-measures (setup.py) ... \u001b[?25l\u001b[?25hdone\n",
            "  Created wheel for association-measures: filename=association_measures-0.2.0-cp37-cp37m-linux_x86_64.whl size=65406 sha256=136767dd2cdd45bf2b5190b1b803be07c9d6ebe1ae0bcef55992ff52586c7802\n",
            "  Stored in directory: /root/.cache/pip/wheels/a2/83/8b/0f180ccf640edffe15ba6ba1e0adf2e287a64c575bf52afe3f\n",
            "Successfully built association-measures\n",
            "Failed to build cwb-ccc\n",
            "Installing collected packages: pandas, unidecode, pyyaml, association-measures, cwb-ccc\n",
            "  Attempting uninstall: pandas\n",
            "    Found existing installation: pandas 1.1.5\n",
            "    Uninstalling pandas-1.1.5:\n",
            "      Successfully uninstalled pandas-1.1.5\n",
            "  Attempting uninstall: pyyaml\n",
            "    Found existing installation: PyYAML 3.13\n",
            "    Uninstalling PyYAML-3.13:\n",
            "      Successfully uninstalled PyYAML-3.13\n",
            "    Running setup.py install for cwb-ccc ... \u001b[?25l\u001b[?25herror\n",
            "\u001b[31mERROR: Command errored out with exit status 1: /usr/bin/python3 -u -c 'import io, os, sys, setuptools, tokenize; sys.argv[0] = '\"'\"'/tmp/pip-install-3z701oe2/cwb-ccc_f5b8ca07e48e4e869a1f8a0b9b6efff9/setup.py'\"'\"'; __file__='\"'\"'/tmp/pip-install-3z701oe2/cwb-ccc_f5b8ca07e48e4e869a1f8a0b9b6efff9/setup.py'\"'\"';f = getattr(tokenize, '\"'\"'open'\"'\"', open)(__file__) if os.path.exists(__file__) else io.StringIO('\"'\"'from setuptools import setup; setup()'\"'\"');code = f.read().replace('\"'\"'\\r\\n'\"'\"', '\"'\"'\\n'\"'\"');f.close();exec(compile(code, __file__, '\"'\"'exec'\"'\"'))' install --record /tmp/pip-record-fxev0asu/install-record.txt --single-version-externally-managed --compile --install-headers /usr/local/include/python3.7/cwb-ccc Check the logs for full command output.\u001b[0m\n"
          ]
        }
      ]
    },
    {
      "cell_type": "code",
      "source": [
        "%cd /content/"
      ],
      "metadata": {
        "colab": {
          "base_uri": "https://localhost:8080/"
        },
        "id": "ZlD-09c0FSA4",
        "outputId": "8c49739f-7600-4a57-ac39-851fd5a3aedc"
      },
      "execution_count": null,
      "outputs": [
        {
          "output_type": "stream",
          "name": "stdout",
          "text": [
            "/content\n"
          ]
        }
      ]
    },
    {
      "cell_type": "code",
      "source": [
        "# !pip install cwb-python"
      ],
      "metadata": {
        "colab": {
          "base_uri": "https://localhost:8080/"
        },
        "id": "qE5pn7C0FU9O",
        "outputId": "f54936ab-1183-4ffc-cd8b-2f62829b2849"
      },
      "execution_count": null,
      "outputs": [
        {
          "output_type": "stream",
          "name": "stdout",
          "text": [
            "Collecting cwb-python\n",
            "  Downloading cwb-python-0.2.2.tar.gz (69 kB)\n",
            "\u001b[K     |████████████████████████████████| 69 kB 2.8 MB/s \n",
            "\u001b[?25hRequirement already satisfied: setuptools>=17 in /usr/local/lib/python3.7/dist-packages (from cwb-python) (57.4.0)\n",
            "Requirement already satisfied: cython>=0.19 in /usr/local/lib/python3.7/dist-packages (from cwb-python) (0.29.24)\n",
            "Requirement already satisfied: six in /usr/local/lib/python3.7/dist-packages (from cwb-python) (1.15.0)\n",
            "Building wheels for collected packages: cwb-python\n",
            "  Building wheel for cwb-python (setup.py) ... \u001b[?25lerror\n",
            "\u001b[31m  ERROR: Failed building wheel for cwb-python\u001b[0m\n",
            "\u001b[?25h  Running setup.py clean for cwb-python\n",
            "Failed to build cwb-python\n",
            "Installing collected packages: cwb-python\n",
            "    Running setup.py install for cwb-python ... \u001b[?25l\u001b[?25herror\n",
            "\u001b[31mERROR: Command errored out with exit status 1: /usr/bin/python3 -u -c 'import io, os, sys, setuptools, tokenize; sys.argv[0] = '\"'\"'/tmp/pip-install-omjf2phu/cwb-python_10bb8d54743546d3a4df2ba767ccb835/setup.py'\"'\"'; __file__='\"'\"'/tmp/pip-install-omjf2phu/cwb-python_10bb8d54743546d3a4df2ba767ccb835/setup.py'\"'\"';f = getattr(tokenize, '\"'\"'open'\"'\"', open)(__file__) if os.path.exists(__file__) else io.StringIO('\"'\"'from setuptools import setup; setup()'\"'\"');code = f.read().replace('\"'\"'\\r\\n'\"'\"', '\"'\"'\\n'\"'\"');f.close();exec(compile(code, __file__, '\"'\"'exec'\"'\"'))' install --record /tmp/pip-record-bq8tpruw/install-record.txt --single-version-externally-managed --compile --install-headers /usr/local/include/python3.7/cwb-python Check the logs for full command output.\u001b[0m\n"
          ]
        }
      ]
    },
    {
      "cell_type": "code",
      "source": [
        "# !pip install cwb-ccc"
      ],
      "metadata": {
        "colab": {
          "base_uri": "https://localhost:8080/"
        },
        "id": "JHG4iug4FjKS",
        "outputId": "8c4b4a46-8120-4c3f-c929-d1e9473cfcfe"
      },
      "execution_count": null,
      "outputs": [
        {
          "output_type": "stream",
          "name": "stdout",
          "text": [
            "Collecting cwb-ccc\n",
            "  Using cached cwb-ccc-0.10.1.tar.gz (149 kB)\n",
            "Requirement already satisfied: association-measures>=0.1.6 in /usr/local/lib/python3.7/dist-packages (from cwb-ccc) (0.2.0)\n",
            "Requirement already satisfied: pandas>=1.2.0 in /usr/local/lib/python3.7/dist-packages (from cwb-ccc) (1.3.5)\n",
            "Requirement already satisfied: numexpr>=2.7.1 in /usr/local/lib/python3.7/dist-packages (from cwb-ccc) (2.7.3)\n",
            "Requirement already satisfied: Bottleneck>=1.3.2 in /usr/local/lib/python3.7/dist-packages (from cwb-ccc) (1.3.2)\n",
            "Requirement already satisfied: unidecode>=1.1.1 in /usr/local/lib/python3.7/dist-packages (from cwb-ccc) (1.3.2)\n",
            "Requirement already satisfied: pyyaml>=5.4.1 in /usr/local/lib/python3.7/dist-packages (from cwb-ccc) (6.0)\n",
            "Requirement already satisfied: scipy in /usr/local/lib/python3.7/dist-packages (from association-measures>=0.1.6->cwb-ccc) (1.4.1)\n",
            "Requirement already satisfied: numpy in /usr/local/lib/python3.7/dist-packages (from Bottleneck>=1.3.2->cwb-ccc) (1.19.5)\n",
            "Requirement already satisfied: pytz>=2017.3 in /usr/local/lib/python3.7/dist-packages (from pandas>=1.2.0->cwb-ccc) (2018.9)\n",
            "Requirement already satisfied: python-dateutil>=2.7.3 in /usr/local/lib/python3.7/dist-packages (from pandas>=1.2.0->cwb-ccc) (2.8.2)\n",
            "Requirement already satisfied: six>=1.5 in /usr/local/lib/python3.7/dist-packages (from python-dateutil>=2.7.3->pandas>=1.2.0->cwb-ccc) (1.15.0)\n",
            "Building wheels for collected packages: cwb-ccc\n",
            "  Building wheel for cwb-ccc (setup.py) ... \u001b[?25lerror\n",
            "\u001b[31m  ERROR: Failed building wheel for cwb-ccc\u001b[0m\n",
            "\u001b[?25h  Running setup.py clean for cwb-ccc\n",
            "Failed to build cwb-ccc\n",
            "Installing collected packages: cwb-ccc\n",
            "    Running setup.py install for cwb-ccc ... \u001b[?25l\u001b[?25herror\n",
            "\u001b[31mERROR: Command errored out with exit status 1: /usr/bin/python3 -u -c 'import io, os, sys, setuptools, tokenize; sys.argv[0] = '\"'\"'/tmp/pip-install-hvqrcpe7/cwb-ccc_83efcdef41064ccc90753ecd08c6ed62/setup.py'\"'\"'; __file__='\"'\"'/tmp/pip-install-hvqrcpe7/cwb-ccc_83efcdef41064ccc90753ecd08c6ed62/setup.py'\"'\"';f = getattr(tokenize, '\"'\"'open'\"'\"', open)(__file__) if os.path.exists(__file__) else io.StringIO('\"'\"'from setuptools import setup; setup()'\"'\"');code = f.read().replace('\"'\"'\\r\\n'\"'\"', '\"'\"'\\n'\"'\"');f.close();exec(compile(code, __file__, '\"'\"'exec'\"'\"'))' install --record /tmp/pip-record-aamoulrr/install-record.txt --single-version-externally-managed --compile --install-headers /usr/local/include/python3.7/cwb-ccc Check the logs for full command output.\u001b[0m\n"
          ]
        }
      ]
    },
    {
      "cell_type": "code",
      "source": [
        "!git clone https://github.com/ausgerechnet/cwb-ccc.git"
      ],
      "metadata": {
        "colab": {
          "base_uri": "https://localhost:8080/"
        },
        "id": "jVQXkCJTGgyq",
        "outputId": "092b9028-0079-403a-f219-6b86a70de3f3"
      },
      "execution_count": null,
      "outputs": [
        {
          "output_type": "stream",
          "name": "stdout",
          "text": [
            "Cloning into 'cwb-ccc'...\n",
            "remote: Enumerating objects: 2262, done.\u001b[K\n",
            "remote: Counting objects: 100% (1727/1727), done.\u001b[K\n",
            "remote: Compressing objects: 100% (1005/1005), done.\u001b[K\n",
            "remote: Total 2262 (delta 1130), reused 1230 (delta 660), pack-reused 535\u001b[K\n",
            "Receiving objects: 100% (2262/2262), 3.86 MiB | 12.25 MiB/s, done.\n",
            "Resolving deltas: 100% (1479/1479), done.\n"
          ]
        }
      ]
    },
    {
      "cell_type": "code",
      "source": [
        "%cd /content/cwb-ccc/"
      ],
      "metadata": {
        "colab": {
          "base_uri": "https://localhost:8080/"
        },
        "id": "7iv8zK17bPSt",
        "outputId": "8a683f12-2e77-4d7e-ba9a-dc5b0ab96d2a"
      },
      "execution_count": null,
      "outputs": [
        {
          "output_type": "stream",
          "name": "stdout",
          "text": [
            "/content/cwb-ccc\n"
          ]
        }
      ]
    },
    {
      "cell_type": "code",
      "source": [
        "!python -m pip install pipenv"
      ],
      "metadata": {
        "id": "0PMhsthQcUxL"
      },
      "execution_count": null,
      "outputs": []
    },
    {
      "cell_type": "code",
      "source": [
        "!pipenv install --dev"
      ],
      "metadata": {
        "colab": {
          "base_uri": "https://localhost:8080/"
        },
        "id": "GF-3_k2acj8l",
        "outputId": "fce16900-838a-45a5-fc15-b8db0b009e9e"
      },
      "execution_count": null,
      "outputs": [
        {
          "output_type": "stream",
          "name": "stdout",
          "text": [
            "\u001b[39m\u001b[1mCreating a virtualenv for this project...\u001b[39m\u001b[22m\n",
            "Pipfile: \u001b[33m\u001b[1m/content/cwb-ccc/Pipfile\u001b[39m\u001b[22m\n",
            "\u001b[39m\u001b[1mUsing\u001b[39m\u001b[22m \u001b[33m\u001b[1m/usr/local/bin/python\u001b[39m\u001b[22m \u001b[32m\u001b[22m(3.7.12)\u001b[39m\u001b[22m \u001b[39m\u001b[1mto create virtualenv...\u001b[39m\u001b[22m\n",
            "⠦\u001b[0m Creating virtual environment...\u001b[K\u001b[36m\u001b[22mcreated virtual environment CPython3.7.12.final.0-64 in 1008ms\n",
            "  creator CPython3Posix(dest=/root/.local/share/virtualenvs/cwb-ccc-tniYzRKW, clear=False, no_vcs_ignore=False, global=False)\n",
            "  seeder FromAppData(download=False, pip=bundle, setuptools=bundle, wheel=bundle, via=copy, app_data_dir=/root/.local/share/virtualenv)\n",
            "    added seed packages: pip==21.3.1, setuptools==58.3.0, wheel==0.37.0\n",
            "  activators BashActivator,CShellActivator,FishActivator,NushellActivator,PowerShellActivator,PythonActivator\n",
            "\u001b[39m\u001b[22m\n",
            "\u001b[K\u001b[?25h\u001b[32m\u001b[22m✔ Successfully created virtual environment!\u001b[39m\u001b[22m\u001b[0m \n",
            "Virtualenv location: \u001b[32m\u001b[22m/root/.local/share/virtualenvs/cwb-ccc-tniYzRKW\u001b[39m\u001b[22m\n",
            "\u001b[39m\u001b[1mInstalling dependencies from Pipfile.lock (dfee74)...\u001b[39m\u001b[22m\n",
            "  🐍   \u001b[32m\u001b[1m▉\u001b[39m\u001b[22m\u001b[32m\u001b[1m▉\u001b[39m\u001b[22m\u001b[32m\u001b[1m▉\u001b[39m\u001b[22m\u001b[32m\u001b[1m▉\u001b[39m\u001b[22m\u001b[32m\u001b[1m▉\u001b[39m\u001b[22m\u001b[32m\u001b[1m▉\u001b[39m\u001b[22m\u001b[32m\u001b[1m▉\u001b[39m\u001b[22m\u001b[32m\u001b[1m▉\u001b[39m\u001b[22m\u001b[32m\u001b[1m▉\u001b[39m\u001b[22m\u001b[32m\u001b[1m▉\u001b[39m\u001b[22m\u001b[32m\u001b[1m▉\u001b[39m\u001b[22m\u001b[32m\u001b[1m▉\u001b[39m\u001b[22m\u001b[32m\u001b[1m▉\u001b[39m\u001b[22m\u001b[32m\u001b[1m▉\u001b[39m\u001b[22m\u001b[32m\u001b[1m▉\u001b[39m\u001b[22m\u001b[32m\u001b[1m▉\u001b[39m\u001b[22m\u001b[32m\u001b[1m▉\u001b[39m\u001b[22m\u001b[32m\u001b[1m▉\u001b[39m\u001b[22m\u001b[32m\u001b[1m▉\u001b[39m\u001b[22m\u001b[32m\u001b[1m▉\u001b[39m\u001b[22m\u001b[32m\u001b[1m▉\u001b[39m\u001b[22m\u001b[32m\u001b[1m▉\u001b[39m\u001b[22m\u001b[32m\u001b[1m▉\u001b[39m\u001b[22m\u001b[32m\u001b[1m▉\u001b[39m\u001b[22m\u001b[32m\u001b[1m▉\u001b[39m\u001b[22m\u001b[32m\u001b[1m▉\u001b[39m\u001b[22m\u001b[32m\u001b[1m▉\u001b[39m\u001b[22m\u001b[32m\u001b[1m▉\u001b[39m\u001b[22m\u001b[32m\u001b[1m▉\u001b[39m\u001b[22m\u001b[32m\u001b[1m▉\u001b[39m\u001b[22m\u001b[32m\u001b[1m▉\u001b[39m\u001b[22m\u001b[32m\u001b[1m▉\u001b[39m\u001b[22m 68/68 — \u001b[30m\u001b[22m00:02:18\u001b[39m\u001b[22m\n",
            "To activate this project's virtualenv, run \u001b[33m\u001b[22mpipenv shell\u001b[39m\u001b[22m.\n",
            "Alternatively, run a command inside the virtualenv with \u001b[33m\u001b[22mpipenv run\u001b[39m\u001b[22m.\n",
            "\u001b[0m"
          ]
        }
      ]
    },
    {
      "cell_type": "code",
      "source": [
        "!apt-cache search lcl"
      ],
      "metadata": {
        "colab": {
          "base_uri": "https://localhost:8080/"
        },
        "id": "XeZsrccS2T8D",
        "outputId": "2c9f940d-f0d4-43cb-bc6a-bc5d33ecee98"
      },
      "execution_count": null,
      "outputs": [
        {
          "output_type": "stream",
          "name": "stdout",
          "text": [
            "default-libmysqlclient-dev - MySQL database development files (metapackage)\n",
            "libmysqlclient-dev - MySQL database development files\n",
            "libmysqlclient20 - MySQL database client library\n",
            "python-lazr.restfulclient - client for lazr.restful-based web services\n",
            "python-mistralclient - OpenStack Workflow as a Service client - Python 2.7\n",
            "python3-lazr.restfulclient - client for lazr.restful-based web services (Python 3)\n",
            "automx - Provides account configuration data to mailclients\n",
            "gcalcli - Google Calendar Command Line Interface\n",
            "golang-github-dlclark-regexp2-dev - Regex engine for Go based on the .NET engine\n",
            "lazarus-src - IDE for Free Pascal - LCL source code dependency package\n",
            "lazarus-src-1.8 - IDE for Free Pascal - LCL source code\n",
            "lcl - Lazarus Components Library - LCL dependency package\n",
            "lcl-1.8 - Lazarus Components Library - LCL suite\n",
            "lcl-gtk2 - Lazarus Components Library - GTK+ backend dependency package\n",
            "lcl-gtk2-1.8 - Lazarus Components Library - GTK+ backend\n",
            "lcl-nogui - Lazarus Components Library - no GUI backend dependency package\n",
            "lcl-nogui-1.8 - Lazarus Components Library - no GUI backend\n",
            "lcl-qt5 - Lazarus Components Library - Qt backend dependency package\n",
            "lcl-qt5-1.8 - Lazarus Components Library - Qt backend\n",
            "lcl-units - Lazarus Components Library - backend independent components dependency package\n",
            "lcl-units-1.8 - Lazarus Components Library - backend independent components\n",
            "lcl-utils - Lazarus Components Library - command line build tools dependency package\n",
            "lcl-utils-1.8 - Lazarus Components Library - command line build tools\n",
            "libhtmlcleaner-java - Java HTML Parser library\n",
            "libhtmlcleaner-java-doc - Java HTML Parser library (documentation)\n",
            "libmariadbclient-dev-compat - MariaDB database development files (libmysqlclient compatibility)\n",
            "libnet-rblclient-perl - module to query multiple Realtime Blackhole Lists in parallel\n",
            "libsqlclient-dev - SQL client library for GNUstep (development files)\n",
            "libsqlclient1.8 - SQL client library for GNUstep (runtime library)\n",
            "libtclcl1 - shared library of TclCL\n",
            "libtclcl1-dev - development files of TclCL\n",
            "pysycache-dblclick-appleandpear - Apple and pear images for double click activities for PySyCache\n",
            "pysycache-dblclick-butterfly - Butterfly images for double click activities for PySyCache\n",
            "python3-mistralclient - OpenStack Workflow as a Service client - Python 3.x\n",
            "tclcl - tcl2c++ and otcldoc program from tclcl\n",
            "tclcl-dbg - debug symbols of TclCL: both tclcl and libtclcl1\n",
            "tclcl-dev - transitional dummy package to libtclcl-dev\n",
            "wmcalclock - dock.app which simply tells time and date\n",
            "yaz-illclient - utility for ISO ILL of YAZ\n"
          ]
        }
      ]
    },
    {
      "cell_type": "code",
      "source": [
        "!pipenv run python3 setup.py bdist_wheel"
      ],
      "metadata": {
        "colab": {
          "base_uri": "https://localhost:8080/"
        },
        "id": "KKco9_4udX5e",
        "outputId": "2788b84a-c04a-4704-c7bb-e3a76e04422b"
      },
      "execution_count": null,
      "outputs": [
        {
          "output_type": "stream",
          "name": "stdout",
          "text": [
            "running bdist_wheel\n",
            "running build\n",
            "running build_py\n",
            "warning: build_py: byte-compiling is disabled, skipping.\n",
            "\n",
            "running build_ext\n",
            "building 'ccc.cl' extension\n",
            "x86_64-linux-gnu-gcc -pthread -Wno-unused-result -Wsign-compare -DNDEBUG -g -fwrapv -O2 -Wall -g -fdebug-prefix-map=/build/python3.7-Y7dWVB/python3.7-3.7.12=. -fstack-protector-strong -Wformat -Werror=format-security -g -fdebug-prefix-map=/build/python3.7-Y7dWVB/python3.7-3.7.12=. -fstack-protector-strong -Wformat -Werror=format-security -Wdate-time -D_FORTIFY_SOURCE=2 -fPIC -I/root/.local/share/virtualenvs/cwb-ccc-tniYzRKW/include -I/usr/include/python3.7m -c ccc/cl.c -o build/temp.linux-x86_64-3.7/ccc/cl.o\n",
            "x86_64-linux-gnu-gcc -pthread -shared -Wl,-O1 -Wl,-Bsymbolic-functions -Wl,-Bsymbolic-functions -Wl,-z,relro -Wl,-Bsymbolic-functions -Wl,-z,relro -g -fdebug-prefix-map=/build/python3.7-Y7dWVB/python3.7-3.7.12=. -fstack-protector-strong -Wformat -Werror=format-security -Wdate-time -D_FORTIFY_SOURCE=2 build/temp.linux-x86_64-3.7/ccc/cl.o -L/usr/local/include/ -L/usr/local/cwb-3.4.22/include/ -lcl -lpcre -lglib-2.0 -o build/lib.linux-x86_64-3.7/ccc/cl.cpython-37m-x86_64-linux-gnu.so\n",
            "/usr/bin/ld: cannot find -lcl\n",
            "collect2: error: ld returned 1 exit status\n",
            "error: command 'x86_64-linux-gnu-gcc' failed with exit status 1\n"
          ]
        }
      ]
    },
    {
      "cell_type": "code",
      "source": [
        "# !apt-cache search cryptlib"
      ],
      "metadata": {
        "id": "u77_trVZMCkH"
      },
      "execution_count": null,
      "outputs": []
    },
    {
      "cell_type": "code",
      "source": [
        "!apt-get install lcl"
      ],
      "metadata": {
        "colab": {
          "base_uri": "https://localhost:8080/"
        },
        "id": "lrB6_9TUMKSU",
        "outputId": "0a02c7b7-fcb6-4fcd-9090-2cad12b3b102"
      },
      "execution_count": null,
      "outputs": [
        {
          "output_type": "stream",
          "name": "stdout",
          "text": [
            "Reading package lists... Done\n",
            "Building dependency tree       \n",
            "Reading state information... Done\n",
            "The following additional packages will be installed:\n",
            "  autoconf automake autopoint autotools-dev debhelper dh-autoreconf\n",
            "  dh-strip-nondeterminism file fp-compiler-3.0.4 fp-docs-3.0.4 fp-ide-3.0.4\n",
            "  fp-units-base fp-units-base-3.0.4 fp-units-db-3.0.4 fp-units-fcl\n",
            "  fp-units-fcl-3.0.4 fp-units-fv-3.0.4 fp-units-gfx-3.0.4 fp-units-gtk2\n",
            "  fp-units-gtk2-3.0.4 fp-units-math-3.0.4 fp-units-misc-3.0.4\n",
            "  fp-units-multimedia-3.0.4 fp-units-net-3.0.4 fp-units-rtl-3.0.4\n",
            "  fp-utils-3.0.4 fpc fpc-3.0.4 fpc-source-3.0.4 gdb gdbserver gettext\n",
            "  gettext-base gir1.2-atk-1.0 gir1.2-freedesktop gir1.2-gdkpixbuf-2.0\n",
            "  gir1.2-gtk-2.0 gir1.2-pango-1.0 intltool-debian lazarus-ide-1.8\n",
            "  lazarus-src-1.8 lcl-1.8 lcl-gtk2-1.8 lcl-nogui-1.8 lcl-units-1.8\n",
            "  lcl-utils-1.8 liba52-0.7.4 liba52-0.7.4-dev libarchive-cpio-perl\n",
            "  libarchive-zip-perl libatk1.0-dev libbabeltrace1 libc6-dbg libcaca-dev\n",
            "  libcairo-script-interpreter2 libcairo2-dev libdca-dev libdca0 libdts-dev\n",
            "  libdw1 libfile-stripnondeterminism-perl libfluidsynth1 libforms-dev\n",
            "  libforms2 libgail-common libgail18 libgd-dev libgdk-pixbuf2.0-dev libgmp-dev\n",
            "  libgmpxx4ldbl libgraphviz-dev libgtk2.0-0 libgtk2.0-bin libgtk2.0-common\n",
            "  libgtk2.0-dev libgvc6-plugins-gtk libmad0 libmad0-dev libmagic-mgc libmagic1\n",
            "  libmail-sendmail-perl libmikmod-config libmikmod-dev libmikmod3\n",
            "  libmodplug-dev libmodplug1 libpango1.0-dev libpangoxft-1.0-0 libpixman-1-dev\n",
            "  libproxy-tools libpulse-dev libpulse-mainloop-glib0 libsdl-mixer1.2\n",
            "  libsdl-mixer1.2-dev libsdl1.2-dev libsdl1.2debian libslang2-dev\n",
            "  libsys-hostname-long-perl libtimedate-perl libtool libvlc-bin libvlc-dev\n",
            "  libvlc5 libvlccore9 libvpx-dev libxcb-shm0-dev libxcomposite-dev\n",
            "  libxcursor-dev libxdot4 libxinerama-dev libxml2-utils libxpm-dev\n",
            "  libxrandr-dev libxxf86dga-dev libxxf86dga1 po-debconf timgm6mb-soundfont\n",
            "  x11proto-composite-dev x11proto-randr-dev x11proto-xf86dga-dev\n",
            "  x11proto-xinerama-dev\n",
            "Suggested packages:\n",
            "  autoconf-archive gnu-standards autoconf-doc dh-make dwz firebird-dev\n",
            "  freetds-dev libgdbm-dev pxlib-dev lazarus gdb-doc gettext-doc\n",
            "  libasprintf-dev libgettextpo-dev libcairo2-doc libforms-bin libforms-doc\n",
            "  gmp-doc libgmp10-doc libmpfr-dev gvfs libgtk2.0-doc imagemagick\n",
            "  libpango1.0-doc libtool-doc gcj-jdk libmail-box-perl fluid-soundfont-gm\n",
            "  fluidsynth timidity musescore\n",
            "Recommended packages:\n",
            "  libggi2-dev\n",
            "The following NEW packages will be installed:\n",
            "  autoconf automake autopoint autotools-dev debhelper dh-autoreconf\n",
            "  dh-strip-nondeterminism file fp-compiler-3.0.4 fp-docs-3.0.4 fp-ide-3.0.4\n",
            "  fp-units-base fp-units-base-3.0.4 fp-units-db-3.0.4 fp-units-fcl\n",
            "  fp-units-fcl-3.0.4 fp-units-fv-3.0.4 fp-units-gfx-3.0.4 fp-units-gtk2\n",
            "  fp-units-gtk2-3.0.4 fp-units-math-3.0.4 fp-units-misc-3.0.4\n",
            "  fp-units-multimedia-3.0.4 fp-units-net-3.0.4 fp-units-rtl-3.0.4\n",
            "  fp-utils-3.0.4 fpc fpc-3.0.4 fpc-source-3.0.4 gdb gdbserver gettext\n",
            "  gettext-base gir1.2-atk-1.0 gir1.2-freedesktop gir1.2-gdkpixbuf-2.0\n",
            "  gir1.2-gtk-2.0 gir1.2-pango-1.0 intltool-debian lazarus-ide-1.8\n",
            "  lazarus-src-1.8 lcl lcl-1.8 lcl-gtk2-1.8 lcl-nogui-1.8 lcl-units-1.8\n",
            "  lcl-utils-1.8 liba52-0.7.4 liba52-0.7.4-dev libarchive-cpio-perl\n",
            "  libarchive-zip-perl libatk1.0-dev libbabeltrace1 libc6-dbg libcaca-dev\n",
            "  libcairo-script-interpreter2 libcairo2-dev libdca-dev libdca0 libdts-dev\n",
            "  libdw1 libfile-stripnondeterminism-perl libfluidsynth1 libforms-dev\n",
            "  libforms2 libgail-common libgail18 libgd-dev libgdk-pixbuf2.0-dev libgmp-dev\n",
            "  libgmpxx4ldbl libgraphviz-dev libgtk2.0-0 libgtk2.0-bin libgtk2.0-common\n",
            "  libgtk2.0-dev libgvc6-plugins-gtk libmad0 libmad0-dev libmagic-mgc libmagic1\n",
            "  libmail-sendmail-perl libmikmod-config libmikmod-dev libmikmod3\n",
            "  libmodplug-dev libmodplug1 libpango1.0-dev libpangoxft-1.0-0 libpixman-1-dev\n",
            "  libproxy-tools libpulse-dev libpulse-mainloop-glib0 libsdl-mixer1.2\n",
            "  libsdl-mixer1.2-dev libsdl1.2-dev libsdl1.2debian libslang2-dev\n",
            "  libsys-hostname-long-perl libtimedate-perl libtool libvlc-bin libvlc-dev\n",
            "  libvlc5 libvlccore9 libvpx-dev libxcb-shm0-dev libxcomposite-dev\n",
            "  libxcursor-dev libxdot4 libxinerama-dev libxml2-utils libxpm-dev\n",
            "  libxrandr-dev libxxf86dga-dev libxxf86dga1 po-debconf timgm6mb-soundfont\n",
            "  x11proto-composite-dev x11proto-randr-dev x11proto-xf86dga-dev\n",
            "  x11proto-xinerama-dev\n",
            "0 upgraded, 122 newly installed, 0 to remove and 37 not upgraded.\n",
            "Need to get 134 MB of archives.\n",
            "After this operation, 1,029 MB of additional disk space will be used.\n",
            "Get:1 http://archive.ubuntu.com/ubuntu bionic/main amd64 libxxf86dga1 amd64 2:1.1.4-1 [13.7 kB]\n",
            "Get:2 http://archive.ubuntu.com/ubuntu bionic-updates/main amd64 libmagic-mgc amd64 1:5.32-2ubuntu0.4 [184 kB]\n",
            "Get:3 http://archive.ubuntu.com/ubuntu bionic-updates/main amd64 libmagic1 amd64 1:5.32-2ubuntu0.4 [68.6 kB]\n",
            "Get:4 http://archive.ubuntu.com/ubuntu bionic-updates/main amd64 file amd64 1:5.32-2ubuntu0.4 [22.1 kB]\n",
            "Get:5 http://archive.ubuntu.com/ubuntu bionic-updates/main amd64 gettext-base amd64 0.19.8.1-6ubuntu0.3 [113 kB]\n",
            "Get:6 http://archive.ubuntu.com/ubuntu bionic/main amd64 autoconf all 2.69-11 [322 kB]\n",
            "Get:7 http://archive.ubuntu.com/ubuntu bionic/main amd64 autotools-dev all 20180224.1 [39.6 kB]\n",
            "Get:8 http://archive.ubuntu.com/ubuntu bionic/main amd64 automake all 1:1.15.1-3ubuntu2 [509 kB]\n",
            "Get:9 http://archive.ubuntu.com/ubuntu bionic-updates/main amd64 autopoint all 0.19.8.1-6ubuntu0.3 [426 kB]\n",
            "Get:10 http://archive.ubuntu.com/ubuntu bionic/main amd64 libtool all 2.4.6-2 [194 kB]\n",
            "Get:11 http://archive.ubuntu.com/ubuntu bionic/main amd64 dh-autoreconf all 17 [15.8 kB]\n",
            "Get:12 http://archive.ubuntu.com/ubuntu bionic-updates/main amd64 libarchive-zip-perl all 1.60-1ubuntu0.1 [84.6 kB]\n",
            "Get:13 http://archive.ubuntu.com/ubuntu bionic/main amd64 libfile-stripnondeterminism-perl all 0.040-1.1~build1 [13.8 kB]\n",
            "Get:14 http://archive.ubuntu.com/ubuntu bionic/main amd64 libtimedate-perl all 2.3000-2 [37.5 kB]\n",
            "Get:15 http://archive.ubuntu.com/ubuntu bionic/main amd64 dh-strip-nondeterminism all 0.040-1.1~build1 [5,208 B]\n",
            "Get:16 http://archive.ubuntu.com/ubuntu bionic-updates/main amd64 gettext amd64 0.19.8.1-6ubuntu0.3 [1,293 kB]\n",
            "Get:17 http://archive.ubuntu.com/ubuntu bionic/main amd64 intltool-debian all 0.35.0+20060710.4 [24.9 kB]\n",
            "Get:18 http://archive.ubuntu.com/ubuntu bionic/main amd64 po-debconf all 1.0.20 [232 kB]\n",
            "Get:19 http://archive.ubuntu.com/ubuntu bionic-updates/main amd64 debhelper all 11.1.6ubuntu2 [902 kB]\n",
            "Get:20 http://archive.ubuntu.com/ubuntu bionic-updates/universe amd64 fp-units-rtl-3.0.4 amd64 3.0.4+dfsg-18ubuntu2 [2,039 kB]\n",
            "Get:21 http://archive.ubuntu.com/ubuntu bionic-updates/universe amd64 fp-compiler-3.0.4 amd64 3.0.4+dfsg-18ubuntu2 [1,949 kB]\n",
            "Get:22 http://archive.ubuntu.com/ubuntu bionic-updates/universe amd64 fp-docs-3.0.4 all 3.0.4+dfsg-18ubuntu2 [882 kB]\n",
            "Get:23 http://archive.ubuntu.com/ubuntu bionic-updates/universe amd64 fp-ide-3.0.4 amd64 3.0.4+dfsg-18ubuntu2 [1,453 kB]\n",
            "Get:24 http://archive.ubuntu.com/ubuntu bionic-updates/universe amd64 fp-units-base-3.0.4 amd64 3.0.4+dfsg-18ubuntu2 [1,050 kB]\n",
            "Get:25 http://archive.ubuntu.com/ubuntu bionic-updates/universe amd64 fp-units-base amd64 3.0.4+dfsg-18ubuntu2 [23.8 kB]\n",
            "Get:26 http://archive.ubuntu.com/ubuntu bionic-updates/universe amd64 fp-units-db-3.0.4 amd64 3.0.4+dfsg-18ubuntu2 [745 kB]\n",
            "Get:27 http://archive.ubuntu.com/ubuntu bionic-updates/universe amd64 fp-units-fcl-3.0.4 amd64 3.0.4+dfsg-18ubuntu2 [4,798 kB]\n",
            "Get:28 http://archive.ubuntu.com/ubuntu bionic-updates/universe amd64 fp-units-fcl amd64 3.0.4+dfsg-18ubuntu2 [23.8 kB]\n",
            "Get:29 http://archive.ubuntu.com/ubuntu bionic-updates/universe amd64 fp-units-fv-3.0.4 amd64 3.0.4+dfsg-18ubuntu2 [297 kB]\n",
            "Get:30 http://archive.ubuntu.com/ubuntu bionic-updates/universe amd64 fp-units-gfx-3.0.4 amd64 3.0.4+dfsg-18ubuntu2 [1,099 kB]\n",
            "Get:31 http://archive.ubuntu.com/ubuntu bionic/main amd64 libgtk2.0-common all 2.24.32-1ubuntu1 [125 kB]\n",
            "Get:32 http://archive.ubuntu.com/ubuntu bionic/main amd64 libgtk2.0-0 amd64 2.24.32-1ubuntu1 [1,769 kB]\n",
            "Get:33 http://archive.ubuntu.com/ubuntu bionic/main amd64 gir1.2-atk-1.0 amd64 2.28.1-1 [17.8 kB]\n",
            "Get:34 http://archive.ubuntu.com/ubuntu bionic/main amd64 gir1.2-freedesktop amd64 1.56.1-1 [9,080 B]\n",
            "Get:35 http://archive.ubuntu.com/ubuntu bionic/main amd64 gir1.2-gdkpixbuf-2.0 amd64 2.36.11-2 [7,748 B]\n",
            "Get:36 http://archive.ubuntu.com/ubuntu bionic-updates/main amd64 libpangoxft-1.0-0 amd64 1.40.14-1ubuntu0.1 [15.0 kB]\n",
            "Get:37 http://archive.ubuntu.com/ubuntu bionic-updates/main amd64 gir1.2-pango-1.0 amd64 1.40.14-1ubuntu0.1 [21.6 kB]\n",
            "Get:38 http://archive.ubuntu.com/ubuntu bionic/main amd64 gir1.2-gtk-2.0 amd64 2.24.32-1ubuntu1 [172 kB]\n",
            "Get:39 http://archive.ubuntu.com/ubuntu bionic/main amd64 libgdk-pixbuf2.0-dev amd64 2.36.11-2 [46.8 kB]\n",
            "Get:40 http://archive.ubuntu.com/ubuntu bionic-updates/main amd64 libcairo-script-interpreter2 amd64 1.15.10-2ubuntu0.1 [53.5 kB]\n",
            "Get:41 http://archive.ubuntu.com/ubuntu bionic/main amd64 libpixman-1-dev amd64 0.34.0-2 [244 kB]\n",
            "Get:42 http://archive.ubuntu.com/ubuntu bionic-updates/main amd64 libxcb-shm0-dev amd64 1.13-2~ubuntu18.04 [6,684 B]\n",
            "Get:43 http://archive.ubuntu.com/ubuntu bionic-updates/main amd64 libcairo2-dev amd64 1.15.10-2ubuntu0.1 [626 kB]\n",
            "Get:44 http://archive.ubuntu.com/ubuntu bionic-updates/main amd64 libpango1.0-dev amd64 1.40.14-1ubuntu0.1 [288 kB]\n",
            "Get:45 http://archive.ubuntu.com/ubuntu bionic/main amd64 libatk1.0-dev amd64 2.28.1-1 [79.9 kB]\n",
            "Get:46 http://archive.ubuntu.com/ubuntu bionic/main amd64 x11proto-xinerama-dev all 2018.4-4 [2,628 B]\n",
            "Get:47 http://archive.ubuntu.com/ubuntu bionic/main amd64 libxinerama-dev amd64 2:1.1.3-1 [8,404 B]\n",
            "Get:48 http://archive.ubuntu.com/ubuntu bionic/main amd64 x11proto-randr-dev all 2018.4-4 [2,620 B]\n",
            "Get:49 http://archive.ubuntu.com/ubuntu bionic/main amd64 libxrandr-dev amd64 2:1.5.1-1 [24.0 kB]\n",
            "Get:50 http://archive.ubuntu.com/ubuntu bionic/main amd64 libxcursor-dev amd64 1:1.1.15-1 [26.5 kB]\n",
            "Get:51 http://archive.ubuntu.com/ubuntu bionic/main amd64 x11proto-composite-dev all 1:2018.4-4 [2,620 B]\n",
            "Get:52 http://archive.ubuntu.com/ubuntu bionic/main amd64 libxcomposite-dev amd64 1:0.4.4-2 [9,136 B]\n",
            "Get:53 http://archive.ubuntu.com/ubuntu bionic-updates/main amd64 libxml2-utils amd64 2.9.4+dfsg1-6.1ubuntu1.4 [35.8 kB]\n",
            "Get:54 http://archive.ubuntu.com/ubuntu bionic/main amd64 libgtk2.0-dev amd64 2.24.32-1ubuntu1 [2,652 kB]\n",
            "Get:55 http://archive.ubuntu.com/ubuntu bionic-updates/universe amd64 fp-units-gtk2-3.0.4 amd64 3.0.4+dfsg-18ubuntu2 [1,013 kB]\n",
            "Get:56 http://archive.ubuntu.com/ubuntu bionic-updates/universe amd64 fp-units-gtk2 amd64 3.0.4+dfsg-18ubuntu2 [23.8 kB]\n",
            "Get:57 http://archive.ubuntu.com/ubuntu bionic-updates/universe amd64 fp-units-math-3.0.4 amd64 3.0.4+dfsg-18ubuntu2 [344 kB]\n",
            "Get:58 http://archive.ubuntu.com/ubuntu bionic-updates/universe amd64 fp-units-misc-3.0.4 amd64 3.0.4+dfsg-18ubuntu2 [1,087 kB]\n",
            "Get:59 http://archive.ubuntu.com/ubuntu bionic-updates/universe amd64 fp-units-multimedia-3.0.4 amd64 3.0.4+dfsg-18ubuntu2 [208 kB]\n",
            "Get:60 http://archive.ubuntu.com/ubuntu bionic-updates/universe amd64 fp-units-net-3.0.4 amd64 3.0.4+dfsg-18ubuntu2 [5,416 kB]\n",
            "Get:61 http://archive.ubuntu.com/ubuntu bionic-updates/universe amd64 fpc-source-3.0.4 all 3.0.4+dfsg-18ubuntu2 [17.0 MB]\n",
            "Get:62 http://archive.ubuntu.com/ubuntu bionic-updates/universe amd64 fp-utils-3.0.4 amd64 3.0.4+dfsg-18ubuntu2 [2,758 kB]\n",
            "Get:63 http://archive.ubuntu.com/ubuntu bionic-updates/universe amd64 fpc-3.0.4 all 3.0.4+dfsg-18ubuntu2 [24.4 kB]\n",
            "Get:64 http://archive.ubuntu.com/ubuntu bionic-updates/universe amd64 fpc all 3.0.4+dfsg-18ubuntu2 [23.9 kB]\n",
            "Get:65 http://archive.ubuntu.com/ubuntu bionic-updates/main amd64 libdw1 amd64 0.170-0.4ubuntu0.1 [203 kB]\n",
            "Get:66 http://archive.ubuntu.com/ubuntu bionic/main amd64 libbabeltrace1 amd64 1.5.5-1 [154 kB]\n",
            "Get:67 http://archive.ubuntu.com/ubuntu bionic-updates/main amd64 gdb amd64 8.1.1-0ubuntu1 [2,937 kB]\n",
            "Get:68 http://archive.ubuntu.com/ubuntu bionic-updates/main amd64 gdbserver amd64 8.1.1-0ubuntu1 [282 kB]\n",
            "Get:69 http://archive.ubuntu.com/ubuntu bionic/universe amd64 lazarus-ide-1.8 amd64 1.8.2+dfsg-3 [8,386 kB]\n",
            "Get:70 http://archive.ubuntu.com/ubuntu bionic/universe amd64 lazarus-src-1.8 all 1.8.2+dfsg-3 [15.6 MB]\n",
            "Get:71 http://archive.ubuntu.com/ubuntu bionic/universe amd64 lcl-nogui-1.8 amd64 1.8.2+dfsg-3 [6,637 kB]\n",
            "Get:72 http://archive.ubuntu.com/ubuntu bionic/universe amd64 lcl-gtk2-1.8 amd64 1.8.2+dfsg-3 [8,523 kB]\n",
            "Get:73 http://archive.ubuntu.com/ubuntu bionic/universe amd64 lcl-units-1.8 amd64 1.8.2+dfsg-3 [14.3 MB]\n",
            "Get:74 http://archive.ubuntu.com/ubuntu bionic/universe amd64 lcl-utils-1.8 amd64 1.8.2+dfsg-3 [6,694 kB]\n",
            "Get:75 http://archive.ubuntu.com/ubuntu bionic/universe amd64 lcl-1.8 amd64 1.8.2+dfsg-3 [28.9 kB]\n",
            "Get:76 http://archive.ubuntu.com/ubuntu bionic/universe amd64 lcl all 1.8.2+dfsg-3 [29.9 kB]\n",
            "Get:77 http://archive.ubuntu.com/ubuntu bionic/universe amd64 liba52-0.7.4 amd64 0.7.4-19 [35.2 kB]\n",
            "Get:78 http://archive.ubuntu.com/ubuntu bionic/universe amd64 liba52-0.7.4-dev amd64 0.7.4-19 [47.5 kB]\n",
            "Get:79 http://archive.ubuntu.com/ubuntu bionic/main amd64 libarchive-cpio-perl all 0.10-1 [9,644 B]\n",
            "Get:80 http://archive.ubuntu.com/ubuntu bionic/main amd64 libslang2-dev amd64 2.3.1a-3ubuntu1 [393 kB]\n",
            "Get:81 http://archive.ubuntu.com/ubuntu bionic-updates/main amd64 libcaca-dev amd64 0.99.beta19-2ubuntu0.18.04.3 [747 kB]\n",
            "Get:82 http://archive.ubuntu.com/ubuntu bionic/universe amd64 libfluidsynth1 amd64 1.1.9-1 [137 kB]\n",
            "Get:83 http://archive.ubuntu.com/ubuntu bionic/universe amd64 libforms2 amd64 1.2.3-1.3 [327 kB]\n",
            "Get:84 http://archive.ubuntu.com/ubuntu bionic/main amd64 libxpm-dev amd64 1:3.5.12-1 [87.4 kB]\n",
            "Get:85 http://archive.ubuntu.com/ubuntu bionic/universe amd64 libforms-dev amd64 1.2.3-1.3 [692 kB]\n",
            "Get:86 http://archive.ubuntu.com/ubuntu bionic/main amd64 libgail18 amd64 2.24.32-1ubuntu1 [14.2 kB]\n",
            "Get:87 http://archive.ubuntu.com/ubuntu bionic/main amd64 libgail-common amd64 2.24.32-1ubuntu1 [112 kB]\n",
            "Get:88 http://archive.ubuntu.com/ubuntu bionic-updates/main amd64 libvpx-dev amd64 1.7.0-3ubuntu0.18.04.1 [932 kB]\n",
            "Get:89 http://archive.ubuntu.com/ubuntu bionic-updates/main amd64 libgd-dev amd64 2.2.5-4ubuntu0.5 [246 kB]\n",
            "Get:90 http://archive.ubuntu.com/ubuntu bionic/main amd64 libgmpxx4ldbl amd64 2:6.1.2+dfsg-2 [8,964 B]\n",
            "Get:91 http://archive.ubuntu.com/ubuntu bionic/main amd64 libgmp-dev amd64 2:6.1.2+dfsg-2 [316 kB]\n",
            "Get:92 http://archive.ubuntu.com/ubuntu bionic/universe amd64 libxdot4 amd64 2.40.1-2 [15.7 kB]\n",
            "Get:93 http://archive.ubuntu.com/ubuntu bionic/universe amd64 libgvc6-plugins-gtk amd64 2.40.1-2 [18.2 kB]\n",
            "Get:94 http://archive.ubuntu.com/ubuntu bionic/universe amd64 libgraphviz-dev amd64 2.40.1-2 [57.3 kB]\n",
            "Get:95 http://archive.ubuntu.com/ubuntu bionic/main amd64 libgtk2.0-bin amd64 2.24.32-1ubuntu1 [7,536 B]\n",
            "Get:96 http://archive.ubuntu.com/ubuntu bionic-updates/universe amd64 libmad0 amd64 0.15.1b-9ubuntu18.04.1 [64.6 kB]\n",
            "Get:97 http://archive.ubuntu.com/ubuntu bionic-updates/universe amd64 libmad0-dev amd64 0.15.1b-9ubuntu18.04.1 [64.4 kB]\n",
            "Get:98 http://archive.ubuntu.com/ubuntu bionic/main amd64 libsys-hostname-long-perl all 1.5-1 [11.7 kB]\n",
            "Get:99 http://archive.ubuntu.com/ubuntu bionic/main amd64 libmail-sendmail-perl all 0.80-1 [22.6 kB]\n",
            "Get:100 http://archive.ubuntu.com/ubuntu bionic/universe amd64 libmikmod-config amd64 3.3.11.1-3 [5,184 B]\n",
            "Get:101 http://archive.ubuntu.com/ubuntu bionic/universe amd64 libmikmod3 amd64 3.3.11.1-3 [113 kB]\n",
            "Get:102 http://archive.ubuntu.com/ubuntu bionic/universe amd64 libmikmod-dev amd64 3.3.11.1-3 [196 kB]\n",
            "Get:103 http://archive.ubuntu.com/ubuntu bionic/universe amd64 libmodplug1 amd64 1:0.8.9.0-1 [150 kB]\n",
            "Get:104 http://archive.ubuntu.com/ubuntu bionic/universe amd64 libmodplug-dev amd64 1:0.8.9.0-1 [14.6 kB]\n",
            "Get:105 http://archive.ubuntu.com/ubuntu bionic-updates/universe amd64 libproxy-tools amd64 0.4.15-1ubuntu0.2 [5,320 B]\n",
            "Get:106 http://archive.ubuntu.com/ubuntu bionic-updates/main amd64 libpulse-mainloop-glib0 amd64 1:11.1-1ubuntu7.11 [22.1 kB]\n",
            "Get:107 http://archive.ubuntu.com/ubuntu bionic-updates/main amd64 libpulse-dev amd64 1:11.1-1ubuntu7.11 [81.5 kB]\n",
            "Get:108 http://archive.ubuntu.com/ubuntu bionic-updates/main amd64 libsdl1.2debian amd64 1.2.15+dfsg2-0.1ubuntu0.1 [175 kB]\n",
            "Get:109 http://archive.ubuntu.com/ubuntu bionic/universe amd64 libsdl-mixer1.2 amd64 1.2.12-14 [72.0 kB]\n",
            "Get:110 http://archive.ubuntu.com/ubuntu bionic-updates/main amd64 libsdl1.2-dev amd64 1.2.15+dfsg2-0.1ubuntu0.1 [706 kB]\n",
            "Get:111 http://archive.ubuntu.com/ubuntu bionic/universe amd64 libsdl-mixer1.2-dev amd64 1.2.12-14 [90.6 kB]\n",
            "Get:112 http://archive.ubuntu.com/ubuntu bionic-updates/universe amd64 libvlccore9 amd64 3.0.8-0ubuntu18.04.1 [434 kB]\n",
            "Get:113 http://archive.ubuntu.com/ubuntu bionic-updates/universe amd64 libvlc5 amd64 3.0.8-0ubuntu18.04.1 [68.0 kB]\n",
            "Get:114 http://archive.ubuntu.com/ubuntu bionic-updates/universe amd64 libvlc-bin amd64 3.0.8-0ubuntu18.04.1 [17.1 kB]\n",
            "Get:115 http://archive.ubuntu.com/ubuntu bionic-updates/universe amd64 libvlc-dev amd64 3.0.8-0ubuntu18.04.1 [60.1 kB]\n",
            "Get:116 http://archive.ubuntu.com/ubuntu bionic/main amd64 x11proto-xf86dga-dev all 2018.4-4 [2,624 B]\n",
            "Get:117 http://archive.ubuntu.com/ubuntu bionic/main amd64 libxxf86dga-dev amd64 2:1.1.4-1 [17.6 kB]\n",
            "Get:118 http://archive.ubuntu.com/ubuntu bionic/universe amd64 timgm6mb-soundfont all 1.3-2 [5,423 kB]\n",
            "Get:119 http://archive.ubuntu.com/ubuntu bionic-updates/main amd64 libc6-dbg amd64 2.27-3ubuntu1.4 [5,163 kB]\n",
            "Get:120 http://archive.ubuntu.com/ubuntu bionic/universe amd64 libdca0 amd64 0.0.5-10 [100.0 kB]\n",
            "Get:121 http://archive.ubuntu.com/ubuntu bionic/universe amd64 libdca-dev amd64 0.0.5-10 [90.2 kB]\n",
            "Get:122 http://archive.ubuntu.com/ubuntu bionic/universe amd64 libdts-dev amd64 0.0.5-10 [3,068 B]\n",
            "Fetched 134 MB in 7s (18.4 MB/s)\n",
            "Extracting templates from packages: 100%\n",
            "Preconfiguring packages ...\n",
            "Selecting previously unselected package libxxf86dga1:amd64.\n",
            "(Reading database ... 155431 files and directories currently installed.)\n",
            "Preparing to unpack .../000-libxxf86dga1_2%3a1.1.4-1_amd64.deb ...\n",
            "Unpacking libxxf86dga1:amd64 (2:1.1.4-1) ...\n",
            "Selecting previously unselected package libmagic-mgc.\n",
            "Preparing to unpack .../001-libmagic-mgc_1%3a5.32-2ubuntu0.4_amd64.deb ...\n",
            "Unpacking libmagic-mgc (1:5.32-2ubuntu0.4) ...\n",
            "Selecting previously unselected package libmagic1:amd64.\n",
            "Preparing to unpack .../002-libmagic1_1%3a5.32-2ubuntu0.4_amd64.deb ...\n",
            "Unpacking libmagic1:amd64 (1:5.32-2ubuntu0.4) ...\n",
            "Selecting previously unselected package file.\n",
            "Preparing to unpack .../003-file_1%3a5.32-2ubuntu0.4_amd64.deb ...\n",
            "Unpacking file (1:5.32-2ubuntu0.4) ...\n",
            "Selecting previously unselected package gettext-base.\n",
            "Preparing to unpack .../004-gettext-base_0.19.8.1-6ubuntu0.3_amd64.deb ...\n",
            "Unpacking gettext-base (0.19.8.1-6ubuntu0.3) ...\n",
            "Selecting previously unselected package autoconf.\n",
            "Preparing to unpack .../005-autoconf_2.69-11_all.deb ...\n",
            "Unpacking autoconf (2.69-11) ...\n",
            "Selecting previously unselected package autotools-dev.\n",
            "Preparing to unpack .../006-autotools-dev_20180224.1_all.deb ...\n",
            "Unpacking autotools-dev (20180224.1) ...\n",
            "Selecting previously unselected package automake.\n",
            "Preparing to unpack .../007-automake_1%3a1.15.1-3ubuntu2_all.deb ...\n",
            "Unpacking automake (1:1.15.1-3ubuntu2) ...\n",
            "Selecting previously unselected package autopoint.\n",
            "Preparing to unpack .../008-autopoint_0.19.8.1-6ubuntu0.3_all.deb ...\n",
            "Unpacking autopoint (0.19.8.1-6ubuntu0.3) ...\n",
            "Selecting previously unselected package libtool.\n",
            "Preparing to unpack .../009-libtool_2.4.6-2_all.deb ...\n",
            "Unpacking libtool (2.4.6-2) ...\n",
            "Selecting previously unselected package dh-autoreconf.\n",
            "Preparing to unpack .../010-dh-autoreconf_17_all.deb ...\n",
            "Unpacking dh-autoreconf (17) ...\n",
            "Selecting previously unselected package libarchive-zip-perl.\n",
            "Preparing to unpack .../011-libarchive-zip-perl_1.60-1ubuntu0.1_all.deb ...\n",
            "Unpacking libarchive-zip-perl (1.60-1ubuntu0.1) ...\n",
            "Selecting previously unselected package libfile-stripnondeterminism-perl.\n",
            "Preparing to unpack .../012-libfile-stripnondeterminism-perl_0.040-1.1~build1_all.deb ...\n",
            "Unpacking libfile-stripnondeterminism-perl (0.040-1.1~build1) ...\n",
            "Selecting previously unselected package libtimedate-perl.\n",
            "Preparing to unpack .../013-libtimedate-perl_2.3000-2_all.deb ...\n",
            "Unpacking libtimedate-perl (2.3000-2) ...\n",
            "Selecting previously unselected package dh-strip-nondeterminism.\n",
            "Preparing to unpack .../014-dh-strip-nondeterminism_0.040-1.1~build1_all.deb ...\n",
            "Unpacking dh-strip-nondeterminism (0.040-1.1~build1) ...\n",
            "Selecting previously unselected package gettext.\n",
            "Preparing to unpack .../015-gettext_0.19.8.1-6ubuntu0.3_amd64.deb ...\n",
            "Unpacking gettext (0.19.8.1-6ubuntu0.3) ...\n",
            "Selecting previously unselected package intltool-debian.\n",
            "Preparing to unpack .../016-intltool-debian_0.35.0+20060710.4_all.deb ...\n",
            "Unpacking intltool-debian (0.35.0+20060710.4) ...\n",
            "Selecting previously unselected package po-debconf.\n",
            "Preparing to unpack .../017-po-debconf_1.0.20_all.deb ...\n",
            "Unpacking po-debconf (1.0.20) ...\n",
            "Selecting previously unselected package debhelper.\n",
            "Preparing to unpack .../018-debhelper_11.1.6ubuntu2_all.deb ...\n",
            "Unpacking debhelper (11.1.6ubuntu2) ...\n",
            "Selecting previously unselected package fp-units-rtl-3.0.4:amd64.\n",
            "Preparing to unpack .../019-fp-units-rtl-3.0.4_3.0.4+dfsg-18ubuntu2_amd64.deb ...\n",
            "Unpacking fp-units-rtl-3.0.4:amd64 (3.0.4+dfsg-18ubuntu2) ...\n",
            "Selecting previously unselected package fp-compiler-3.0.4:amd64.\n",
            "Preparing to unpack .../020-fp-compiler-3.0.4_3.0.4+dfsg-18ubuntu2_amd64.deb ...\n",
            "Unpacking fp-compiler-3.0.4:amd64 (3.0.4+dfsg-18ubuntu2) ...\n",
            "Selecting previously unselected package fp-docs-3.0.4.\n",
            "Preparing to unpack .../021-fp-docs-3.0.4_3.0.4+dfsg-18ubuntu2_all.deb ...\n",
            "Unpacking fp-docs-3.0.4 (3.0.4+dfsg-18ubuntu2) ...\n",
            "Selecting previously unselected package fp-ide-3.0.4.\n",
            "Preparing to unpack .../022-fp-ide-3.0.4_3.0.4+dfsg-18ubuntu2_amd64.deb ...\n",
            "Unpacking fp-ide-3.0.4 (3.0.4+dfsg-18ubuntu2) ...\n",
            "Selecting previously unselected package fp-units-base-3.0.4:amd64.\n",
            "Preparing to unpack .../023-fp-units-base-3.0.4_3.0.4+dfsg-18ubuntu2_amd64.deb ...\n",
            "Unpacking fp-units-base-3.0.4:amd64 (3.0.4+dfsg-18ubuntu2) ...\n",
            "Selecting previously unselected package fp-units-base:amd64.\n",
            "Preparing to unpack .../024-fp-units-base_3.0.4+dfsg-18ubuntu2_amd64.deb ...\n",
            "Unpacking fp-units-base:amd64 (3.0.4+dfsg-18ubuntu2) ...\n",
            "Selecting previously unselected package fp-units-db-3.0.4:amd64.\n",
            "Preparing to unpack .../025-fp-units-db-3.0.4_3.0.4+dfsg-18ubuntu2_amd64.deb ...\n",
            "Unpacking fp-units-db-3.0.4:amd64 (3.0.4+dfsg-18ubuntu2) ...\n",
            "Selecting previously unselected package fp-units-fcl-3.0.4:amd64.\n",
            "Preparing to unpack .../026-fp-units-fcl-3.0.4_3.0.4+dfsg-18ubuntu2_amd64.deb ...\n",
            "Unpacking fp-units-fcl-3.0.4:amd64 (3.0.4+dfsg-18ubuntu2) ...\n",
            "Selecting previously unselected package fp-units-fcl:amd64.\n",
            "Preparing to unpack .../027-fp-units-fcl_3.0.4+dfsg-18ubuntu2_amd64.deb ...\n",
            "Unpacking fp-units-fcl:amd64 (3.0.4+dfsg-18ubuntu2) ...\n",
            "Selecting previously unselected package fp-units-fv-3.0.4:amd64.\n",
            "Preparing to unpack .../028-fp-units-fv-3.0.4_3.0.4+dfsg-18ubuntu2_amd64.deb ...\n",
            "Unpacking fp-units-fv-3.0.4:amd64 (3.0.4+dfsg-18ubuntu2) ...\n",
            "Selecting previously unselected package fp-units-gfx-3.0.4:amd64.\n",
            "Preparing to unpack .../029-fp-units-gfx-3.0.4_3.0.4+dfsg-18ubuntu2_amd64.deb ...\n",
            "Unpacking fp-units-gfx-3.0.4:amd64 (3.0.4+dfsg-18ubuntu2) ...\n",
            "Selecting previously unselected package libgtk2.0-common.\n",
            "Preparing to unpack .../030-libgtk2.0-common_2.24.32-1ubuntu1_all.deb ...\n",
            "Unpacking libgtk2.0-common (2.24.32-1ubuntu1) ...\n",
            "Selecting previously unselected package libgtk2.0-0:amd64.\n",
            "Preparing to unpack .../031-libgtk2.0-0_2.24.32-1ubuntu1_amd64.deb ...\n",
            "Unpacking libgtk2.0-0:amd64 (2.24.32-1ubuntu1) ...\n",
            "Selecting previously unselected package gir1.2-atk-1.0:amd64.\n",
            "Preparing to unpack .../032-gir1.2-atk-1.0_2.28.1-1_amd64.deb ...\n",
            "Unpacking gir1.2-atk-1.0:amd64 (2.28.1-1) ...\n",
            "Selecting previously unselected package gir1.2-freedesktop:amd64.\n",
            "Preparing to unpack .../033-gir1.2-freedesktop_1.56.1-1_amd64.deb ...\n",
            "Unpacking gir1.2-freedesktop:amd64 (1.56.1-1) ...\n",
            "Selecting previously unselected package gir1.2-gdkpixbuf-2.0:amd64.\n",
            "Preparing to unpack .../034-gir1.2-gdkpixbuf-2.0_2.36.11-2_amd64.deb ...\n",
            "Unpacking gir1.2-gdkpixbuf-2.0:amd64 (2.36.11-2) ...\n",
            "Selecting previously unselected package libpangoxft-1.0-0:amd64.\n",
            "Preparing to unpack .../035-libpangoxft-1.0-0_1.40.14-1ubuntu0.1_amd64.deb ...\n",
            "Unpacking libpangoxft-1.0-0:amd64 (1.40.14-1ubuntu0.1) ...\n",
            "Selecting previously unselected package gir1.2-pango-1.0:amd64.\n",
            "Preparing to unpack .../036-gir1.2-pango-1.0_1.40.14-1ubuntu0.1_amd64.deb ...\n",
            "Unpacking gir1.2-pango-1.0:amd64 (1.40.14-1ubuntu0.1) ...\n",
            "Selecting previously unselected package gir1.2-gtk-2.0.\n",
            "Preparing to unpack .../037-gir1.2-gtk-2.0_2.24.32-1ubuntu1_amd64.deb ...\n",
            "Unpacking gir1.2-gtk-2.0 (2.24.32-1ubuntu1) ...\n",
            "Selecting previously unselected package libgdk-pixbuf2.0-dev.\n",
            "Preparing to unpack .../038-libgdk-pixbuf2.0-dev_2.36.11-2_amd64.deb ...\n",
            "Unpacking libgdk-pixbuf2.0-dev (2.36.11-2) ...\n",
            "Selecting previously unselected package libcairo-script-interpreter2:amd64.\n",
            "Preparing to unpack .../039-libcairo-script-interpreter2_1.15.10-2ubuntu0.1_amd64.deb ...\n",
            "Unpacking libcairo-script-interpreter2:amd64 (1.15.10-2ubuntu0.1) ...\n",
            "Selecting previously unselected package libpixman-1-dev:amd64.\n",
            "Preparing to unpack .../040-libpixman-1-dev_0.34.0-2_amd64.deb ...\n",
            "Unpacking libpixman-1-dev:amd64 (0.34.0-2) ...\n",
            "Selecting previously unselected package libxcb-shm0-dev:amd64.\n",
            "Preparing to unpack .../041-libxcb-shm0-dev_1.13-2~ubuntu18.04_amd64.deb ...\n",
            "Unpacking libxcb-shm0-dev:amd64 (1.13-2~ubuntu18.04) ...\n",
            "Selecting previously unselected package libcairo2-dev:amd64.\n",
            "Preparing to unpack .../042-libcairo2-dev_1.15.10-2ubuntu0.1_amd64.deb ...\n",
            "Unpacking libcairo2-dev:amd64 (1.15.10-2ubuntu0.1) ...\n",
            "Selecting previously unselected package libpango1.0-dev.\n",
            "Preparing to unpack .../043-libpango1.0-dev_1.40.14-1ubuntu0.1_amd64.deb ...\n",
            "Unpacking libpango1.0-dev (1.40.14-1ubuntu0.1) ...\n",
            "Selecting previously unselected package libatk1.0-dev:amd64.\n",
            "Preparing to unpack .../044-libatk1.0-dev_2.28.1-1_amd64.deb ...\n",
            "Unpacking libatk1.0-dev:amd64 (2.28.1-1) ...\n",
            "Selecting previously unselected package x11proto-xinerama-dev.\n",
            "Preparing to unpack .../045-x11proto-xinerama-dev_2018.4-4_all.deb ...\n",
            "Unpacking x11proto-xinerama-dev (2018.4-4) ...\n",
            "Selecting previously unselected package libxinerama-dev:amd64.\n",
            "Preparing to unpack .../046-libxinerama-dev_2%3a1.1.3-1_amd64.deb ...\n",
            "Unpacking libxinerama-dev:amd64 (2:1.1.3-1) ...\n",
            "Selecting previously unselected package x11proto-randr-dev.\n",
            "Preparing to unpack .../047-x11proto-randr-dev_2018.4-4_all.deb ...\n",
            "Unpacking x11proto-randr-dev (2018.4-4) ...\n",
            "Selecting previously unselected package libxrandr-dev:amd64.\n",
            "Preparing to unpack .../048-libxrandr-dev_2%3a1.5.1-1_amd64.deb ...\n",
            "Unpacking libxrandr-dev:amd64 (2:1.5.1-1) ...\n",
            "Selecting previously unselected package libxcursor-dev:amd64.\n",
            "Preparing to unpack .../049-libxcursor-dev_1%3a1.1.15-1_amd64.deb ...\n",
            "Unpacking libxcursor-dev:amd64 (1:1.1.15-1) ...\n",
            "Selecting previously unselected package x11proto-composite-dev.\n",
            "Preparing to unpack .../050-x11proto-composite-dev_1%3a2018.4-4_all.deb ...\n",
            "Unpacking x11proto-composite-dev (1:2018.4-4) ...\n",
            "Selecting previously unselected package libxcomposite-dev:amd64.\n",
            "Preparing to unpack .../051-libxcomposite-dev_1%3a0.4.4-2_amd64.deb ...\n",
            "Unpacking libxcomposite-dev:amd64 (1:0.4.4-2) ...\n",
            "Selecting previously unselected package libxml2-utils.\n",
            "Preparing to unpack .../052-libxml2-utils_2.9.4+dfsg1-6.1ubuntu1.4_amd64.deb ...\n",
            "Unpacking libxml2-utils (2.9.4+dfsg1-6.1ubuntu1.4) ...\n",
            "Selecting previously unselected package libgtk2.0-dev.\n",
            "Preparing to unpack .../053-libgtk2.0-dev_2.24.32-1ubuntu1_amd64.deb ...\n",
            "Unpacking libgtk2.0-dev (2.24.32-1ubuntu1) ...\n",
            "Selecting previously unselected package fp-units-gtk2-3.0.4:amd64.\n",
            "Preparing to unpack .../054-fp-units-gtk2-3.0.4_3.0.4+dfsg-18ubuntu2_amd64.deb ...\n",
            "Unpacking fp-units-gtk2-3.0.4:amd64 (3.0.4+dfsg-18ubuntu2) ...\n",
            "Selecting previously unselected package fp-units-gtk2:amd64.\n",
            "Preparing to unpack .../055-fp-units-gtk2_3.0.4+dfsg-18ubuntu2_amd64.deb ...\n",
            "Unpacking fp-units-gtk2:amd64 (3.0.4+dfsg-18ubuntu2) ...\n",
            "Selecting previously unselected package fp-units-math-3.0.4:amd64.\n",
            "Preparing to unpack .../056-fp-units-math-3.0.4_3.0.4+dfsg-18ubuntu2_amd64.deb ...\n",
            "Unpacking fp-units-math-3.0.4:amd64 (3.0.4+dfsg-18ubuntu2) ...\n",
            "Selecting previously unselected package fp-units-misc-3.0.4:amd64.\n",
            "Preparing to unpack .../057-fp-units-misc-3.0.4_3.0.4+dfsg-18ubuntu2_amd64.deb ...\n",
            "Unpacking fp-units-misc-3.0.4:amd64 (3.0.4+dfsg-18ubuntu2) ...\n",
            "Selecting previously unselected package fp-units-multimedia-3.0.4:amd64.\n",
            "Preparing to unpack .../058-fp-units-multimedia-3.0.4_3.0.4+dfsg-18ubuntu2_amd64.deb ...\n",
            "Unpacking fp-units-multimedia-3.0.4:amd64 (3.0.4+dfsg-18ubuntu2) ...\n",
            "Selecting previously unselected package fp-units-net-3.0.4:amd64.\n",
            "Preparing to unpack .../059-fp-units-net-3.0.4_3.0.4+dfsg-18ubuntu2_amd64.deb ...\n",
            "Unpacking fp-units-net-3.0.4:amd64 (3.0.4+dfsg-18ubuntu2) ...\n",
            "Selecting previously unselected package fpc-source-3.0.4.\n",
            "Preparing to unpack .../060-fpc-source-3.0.4_3.0.4+dfsg-18ubuntu2_all.deb ...\n",
            "Unpacking fpc-source-3.0.4 (3.0.4+dfsg-18ubuntu2) ...\n",
            "Selecting previously unselected package fp-utils-3.0.4.\n",
            "Preparing to unpack .../061-fp-utils-3.0.4_3.0.4+dfsg-18ubuntu2_amd64.deb ...\n",
            "Unpacking fp-utils-3.0.4 (3.0.4+dfsg-18ubuntu2) ...\n",
            "Selecting previously unselected package fpc-3.0.4.\n",
            "Preparing to unpack .../062-fpc-3.0.4_3.0.4+dfsg-18ubuntu2_all.deb ...\n",
            "Unpacking fpc-3.0.4 (3.0.4+dfsg-18ubuntu2) ...\n",
            "Selecting previously unselected package fpc.\n",
            "Preparing to unpack .../063-fpc_3.0.4+dfsg-18ubuntu2_all.deb ...\n",
            "Unpacking fpc (3.0.4+dfsg-18ubuntu2) ...\n",
            "Selecting previously unselected package libdw1:amd64.\n",
            "Preparing to unpack .../064-libdw1_0.170-0.4ubuntu0.1_amd64.deb ...\n",
            "Unpacking libdw1:amd64 (0.170-0.4ubuntu0.1) ...\n",
            "Selecting previously unselected package libbabeltrace1:amd64.\n",
            "Preparing to unpack .../065-libbabeltrace1_1.5.5-1_amd64.deb ...\n",
            "Unpacking libbabeltrace1:amd64 (1.5.5-1) ...\n",
            "Selecting previously unselected package gdb.\n",
            "Preparing to unpack .../066-gdb_8.1.1-0ubuntu1_amd64.deb ...\n",
            "Unpacking gdb (8.1.1-0ubuntu1) ...\n",
            "Selecting previously unselected package gdbserver.\n",
            "Preparing to unpack .../067-gdbserver_8.1.1-0ubuntu1_amd64.deb ...\n",
            "Unpacking gdbserver (8.1.1-0ubuntu1) ...\n",
            "Selecting previously unselected package lazarus-ide-1.8.\n",
            "Preparing to unpack .../068-lazarus-ide-1.8_1.8.2+dfsg-3_amd64.deb ...\n",
            "Unpacking lazarus-ide-1.8 (1.8.2+dfsg-3) ...\n",
            "Selecting previously unselected package lazarus-src-1.8.\n",
            "Preparing to unpack .../069-lazarus-src-1.8_1.8.2+dfsg-3_all.deb ...\n",
            "Unpacking lazarus-src-1.8 (1.8.2+dfsg-3) ...\n",
            "Selecting previously unselected package lcl-nogui-1.8.\n",
            "Preparing to unpack .../070-lcl-nogui-1.8_1.8.2+dfsg-3_amd64.deb ...\n",
            "Unpacking lcl-nogui-1.8 (1.8.2+dfsg-3) ...\n",
            "Selecting previously unselected package lcl-gtk2-1.8.\n",
            "Preparing to unpack .../071-lcl-gtk2-1.8_1.8.2+dfsg-3_amd64.deb ...\n",
            "Unpacking lcl-gtk2-1.8 (1.8.2+dfsg-3) ...\n",
            "Selecting previously unselected package lcl-units-1.8.\n",
            "Preparing to unpack .../072-lcl-units-1.8_1.8.2+dfsg-3_amd64.deb ...\n",
            "Unpacking lcl-units-1.8 (1.8.2+dfsg-3) ...\n",
            "Selecting previously unselected package lcl-utils-1.8.\n",
            "Preparing to unpack .../073-lcl-utils-1.8_1.8.2+dfsg-3_amd64.deb ...\n",
            "Unpacking lcl-utils-1.8 (1.8.2+dfsg-3) ...\n",
            "Selecting previously unselected package lcl-1.8.\n",
            "Preparing to unpack .../074-lcl-1.8_1.8.2+dfsg-3_amd64.deb ...\n",
            "Unpacking lcl-1.8 (1.8.2+dfsg-3) ...\n",
            "Selecting previously unselected package lcl.\n",
            "Preparing to unpack .../075-lcl_1.8.2+dfsg-3_all.deb ...\n",
            "Unpacking lcl (1.8.2+dfsg-3) ...\n",
            "Selecting previously unselected package liba52-0.7.4:amd64.\n",
            "Preparing to unpack .../076-liba52-0.7.4_0.7.4-19_amd64.deb ...\n",
            "Unpacking liba52-0.7.4:amd64 (0.7.4-19) ...\n",
            "Selecting previously unselected package liba52-0.7.4-dev.\n",
            "Preparing to unpack .../077-liba52-0.7.4-dev_0.7.4-19_amd64.deb ...\n",
            "Unpacking liba52-0.7.4-dev (0.7.4-19) ...\n",
            "Selecting previously unselected package libarchive-cpio-perl.\n",
            "Preparing to unpack .../078-libarchive-cpio-perl_0.10-1_all.deb ...\n",
            "Unpacking libarchive-cpio-perl (0.10-1) ...\n",
            "Selecting previously unselected package libslang2-dev:amd64.\n",
            "Preparing to unpack .../079-libslang2-dev_2.3.1a-3ubuntu1_amd64.deb ...\n",
            "Unpacking libslang2-dev:amd64 (2.3.1a-3ubuntu1) ...\n",
            "Selecting previously unselected package libcaca-dev.\n",
            "Preparing to unpack .../080-libcaca-dev_0.99.beta19-2ubuntu0.18.04.3_amd64.deb ...\n",
            "Unpacking libcaca-dev (0.99.beta19-2ubuntu0.18.04.3) ...\n",
            "Selecting previously unselected package libfluidsynth1:amd64.\n",
            "Preparing to unpack .../081-libfluidsynth1_1.1.9-1_amd64.deb ...\n",
            "Unpacking libfluidsynth1:amd64 (1.1.9-1) ...\n",
            "Selecting previously unselected package libforms2.\n",
            "Preparing to unpack .../082-libforms2_1.2.3-1.3_amd64.deb ...\n",
            "Unpacking libforms2 (1.2.3-1.3) ...\n",
            "Selecting previously unselected package libxpm-dev:amd64.\n",
            "Preparing to unpack .../083-libxpm-dev_1%3a3.5.12-1_amd64.deb ...\n",
            "Unpacking libxpm-dev:amd64 (1:3.5.12-1) ...\n",
            "Selecting previously unselected package libforms-dev.\n",
            "Preparing to unpack .../084-libforms-dev_1.2.3-1.3_amd64.deb ...\n",
            "Unpacking libforms-dev (1.2.3-1.3) ...\n",
            "Selecting previously unselected package libgail18:amd64.\n",
            "Preparing to unpack .../085-libgail18_2.24.32-1ubuntu1_amd64.deb ...\n",
            "Unpacking libgail18:amd64 (2.24.32-1ubuntu1) ...\n",
            "Selecting previously unselected package libgail-common:amd64.\n",
            "Preparing to unpack .../086-libgail-common_2.24.32-1ubuntu1_amd64.deb ...\n",
            "Unpacking libgail-common:amd64 (2.24.32-1ubuntu1) ...\n",
            "Selecting previously unselected package libvpx-dev:amd64.\n",
            "Preparing to unpack .../087-libvpx-dev_1.7.0-3ubuntu0.18.04.1_amd64.deb ...\n",
            "Unpacking libvpx-dev:amd64 (1.7.0-3ubuntu0.18.04.1) ...\n",
            "Selecting previously unselected package libgd-dev:amd64.\n",
            "Preparing to unpack .../088-libgd-dev_2.2.5-4ubuntu0.5_amd64.deb ...\n",
            "Unpacking libgd-dev:amd64 (2.2.5-4ubuntu0.5) ...\n",
            "Selecting previously unselected package libgmpxx4ldbl:amd64.\n",
            "Preparing to unpack .../089-libgmpxx4ldbl_2%3a6.1.2+dfsg-2_amd64.deb ...\n",
            "Unpacking libgmpxx4ldbl:amd64 (2:6.1.2+dfsg-2) ...\n",
            "Selecting previously unselected package libgmp-dev:amd64.\n",
            "Preparing to unpack .../090-libgmp-dev_2%3a6.1.2+dfsg-2_amd64.deb ...\n",
            "Unpacking libgmp-dev:amd64 (2:6.1.2+dfsg-2) ...\n",
            "Selecting previously unselected package libxdot4.\n",
            "Preparing to unpack .../091-libxdot4_2.40.1-2_amd64.deb ...\n",
            "Unpacking libxdot4 (2.40.1-2) ...\n",
            "Selecting previously unselected package libgvc6-plugins-gtk.\n",
            "Preparing to unpack .../092-libgvc6-plugins-gtk_2.40.1-2_amd64.deb ...\n",
            "Unpacking libgvc6-plugins-gtk (2.40.1-2) ...\n",
            "Selecting previously unselected package libgraphviz-dev.\n",
            "Preparing to unpack .../093-libgraphviz-dev_2.40.1-2_amd64.deb ...\n",
            "Unpacking libgraphviz-dev (2.40.1-2) ...\n",
            "Selecting previously unselected package libgtk2.0-bin.\n",
            "Preparing to unpack .../094-libgtk2.0-bin_2.24.32-1ubuntu1_amd64.deb ...\n",
            "Unpacking libgtk2.0-bin (2.24.32-1ubuntu1) ...\n",
            "Selecting previously unselected package libmad0:amd64.\n",
            "Preparing to unpack .../095-libmad0_0.15.1b-9ubuntu18.04.1_amd64.deb ...\n",
            "Unpacking libmad0:amd64 (0.15.1b-9ubuntu18.04.1) ...\n",
            "Selecting previously unselected package libmad0-dev.\n",
            "Preparing to unpack .../096-libmad0-dev_0.15.1b-9ubuntu18.04.1_amd64.deb ...\n",
            "Unpacking libmad0-dev (0.15.1b-9ubuntu18.04.1) ...\n",
            "Selecting previously unselected package libsys-hostname-long-perl.\n",
            "Preparing to unpack .../097-libsys-hostname-long-perl_1.5-1_all.deb ...\n",
            "Unpacking libsys-hostname-long-perl (1.5-1) ...\n",
            "Selecting previously unselected package libmail-sendmail-perl.\n",
            "Preparing to unpack .../098-libmail-sendmail-perl_0.80-1_all.deb ...\n",
            "Unpacking libmail-sendmail-perl (0.80-1) ...\n",
            "Selecting previously unselected package libmikmod-config.\n",
            "Preparing to unpack .../099-libmikmod-config_3.3.11.1-3_amd64.deb ...\n",
            "Unpacking libmikmod-config (3.3.11.1-3) ...\n",
            "Selecting previously unselected package libmikmod3:amd64.\n",
            "Preparing to unpack .../100-libmikmod3_3.3.11.1-3_amd64.deb ...\n",
            "Unpacking libmikmod3:amd64 (3.3.11.1-3) ...\n",
            "Selecting previously unselected package libmikmod-dev:amd64.\n",
            "Preparing to unpack .../101-libmikmod-dev_3.3.11.1-3_amd64.deb ...\n",
            "Unpacking libmikmod-dev:amd64 (3.3.11.1-3) ...\n",
            "Selecting previously unselected package libmodplug1:amd64.\n",
            "Preparing to unpack .../102-libmodplug1_1%3a0.8.9.0-1_amd64.deb ...\n",
            "Unpacking libmodplug1:amd64 (1:0.8.9.0-1) ...\n",
            "Selecting previously unselected package libmodplug-dev:amd64.\n",
            "Preparing to unpack .../103-libmodplug-dev_1%3a0.8.9.0-1_amd64.deb ...\n",
            "Unpacking libmodplug-dev:amd64 (1:0.8.9.0-1) ...\n",
            "Selecting previously unselected package libproxy-tools.\n",
            "Preparing to unpack .../104-libproxy-tools_0.4.15-1ubuntu0.2_amd64.deb ...\n",
            "Unpacking libproxy-tools (0.4.15-1ubuntu0.2) ...\n",
            "Selecting previously unselected package libpulse-mainloop-glib0:amd64.\n",
            "Preparing to unpack .../105-libpulse-mainloop-glib0_1%3a11.1-1ubuntu7.11_amd64.deb ...\n",
            "Unpacking libpulse-mainloop-glib0:amd64 (1:11.1-1ubuntu7.11) ...\n",
            "Selecting previously unselected package libpulse-dev:amd64.\n",
            "Preparing to unpack .../106-libpulse-dev_1%3a11.1-1ubuntu7.11_amd64.deb ...\n",
            "Unpacking libpulse-dev:amd64 (1:11.1-1ubuntu7.11) ...\n",
            "Selecting previously unselected package libsdl1.2debian:amd64.\n",
            "Preparing to unpack .../107-libsdl1.2debian_1.2.15+dfsg2-0.1ubuntu0.1_amd64.deb ...\n",
            "Unpacking libsdl1.2debian:amd64 (1.2.15+dfsg2-0.1ubuntu0.1) ...\n",
            "Selecting previously unselected package libsdl-mixer1.2:amd64.\n",
            "Preparing to unpack .../108-libsdl-mixer1.2_1.2.12-14_amd64.deb ...\n",
            "Unpacking libsdl-mixer1.2:amd64 (1.2.12-14) ...\n",
            "Selecting previously unselected package libsdl1.2-dev.\n",
            "Preparing to unpack .../109-libsdl1.2-dev_1.2.15+dfsg2-0.1ubuntu0.1_amd64.deb ...\n",
            "Unpacking libsdl1.2-dev (1.2.15+dfsg2-0.1ubuntu0.1) ...\n",
            "Selecting previously unselected package libsdl-mixer1.2-dev:amd64.\n",
            "Preparing to unpack .../110-libsdl-mixer1.2-dev_1.2.12-14_amd64.deb ...\n",
            "Unpacking libsdl-mixer1.2-dev:amd64 (1.2.12-14) ...\n",
            "Selecting previously unselected package libvlccore9:amd64.\n",
            "Preparing to unpack .../111-libvlccore9_3.0.8-0ubuntu18.04.1_amd64.deb ...\n",
            "Unpacking libvlccore9:amd64 (3.0.8-0ubuntu18.04.1) ...\n",
            "Selecting previously unselected package libvlc5:amd64.\n",
            "Preparing to unpack .../112-libvlc5_3.0.8-0ubuntu18.04.1_amd64.deb ...\n",
            "Unpacking libvlc5:amd64 (3.0.8-0ubuntu18.04.1) ...\n",
            "Selecting previously unselected package libvlc-bin:amd64.\n",
            "Preparing to unpack .../113-libvlc-bin_3.0.8-0ubuntu18.04.1_amd64.deb ...\n",
            "Unpacking libvlc-bin:amd64 (3.0.8-0ubuntu18.04.1) ...\n",
            "Selecting previously unselected package libvlc-dev:amd64.\n",
            "Preparing to unpack .../114-libvlc-dev_3.0.8-0ubuntu18.04.1_amd64.deb ...\n",
            "Unpacking libvlc-dev:amd64 (3.0.8-0ubuntu18.04.1) ...\n",
            "Selecting previously unselected package x11proto-xf86dga-dev.\n",
            "Preparing to unpack .../115-x11proto-xf86dga-dev_2018.4-4_all.deb ...\n",
            "Unpacking x11proto-xf86dga-dev (2018.4-4) ...\n",
            "Selecting previously unselected package libxxf86dga-dev:amd64.\n",
            "Preparing to unpack .../116-libxxf86dga-dev_2%3a1.1.4-1_amd64.deb ...\n",
            "Unpacking libxxf86dga-dev:amd64 (2:1.1.4-1) ...\n",
            "Selecting previously unselected package timgm6mb-soundfont.\n",
            "Preparing to unpack .../117-timgm6mb-soundfont_1.3-2_all.deb ...\n",
            "Unpacking timgm6mb-soundfont (1.3-2) ...\n",
            "Selecting previously unselected package libc6-dbg:amd64.\n",
            "Preparing to unpack .../118-libc6-dbg_2.27-3ubuntu1.4_amd64.deb ...\n",
            "Unpacking libc6-dbg:amd64 (2.27-3ubuntu1.4) ...\n",
            "Selecting previously unselected package libdca0:amd64.\n",
            "Preparing to unpack .../119-libdca0_0.0.5-10_amd64.deb ...\n",
            "Unpacking libdca0:amd64 (0.0.5-10) ...\n",
            "Selecting previously unselected package libdca-dev:amd64.\n",
            "Preparing to unpack .../120-libdca-dev_0.0.5-10_amd64.deb ...\n",
            "Unpacking libdca-dev:amd64 (0.0.5-10) ...\n",
            "Selecting previously unselected package libdts-dev:amd64.\n",
            "Preparing to unpack .../121-libdts-dev_0.0.5-10_amd64.deb ...\n",
            "Unpacking libdts-dev:amd64 (0.0.5-10) ...\n",
            "Setting up libxcursor-dev:amd64 (1:1.1.15-1) ...\n",
            "Setting up libforms2 (1.2.3-1.3) ...\n",
            "Setting up gir1.2-atk-1.0:amd64 (2.28.1-1) ...\n",
            "Setting up libgtk2.0-common (2.24.32-1ubuntu1) ...\n",
            "Setting up libxdot4 (2.40.1-2) ...\n",
            "Setting up libc6-dbg:amd64 (2.27-3ubuntu1.4) ...\n",
            "Setting up libpulse-mainloop-glib0:amd64 (1:11.1-1ubuntu7.11) ...\n",
            "Setting up libpulse-dev:amd64 (1:11.1-1ubuntu7.11) ...\n",
            "Setting up libarchive-zip-perl (1.60-1ubuntu0.1) ...\n",
            "Setting up libmodplug1:amd64 (1:0.8.9.0-1) ...\n",
            "Setting up libdw1:amd64 (0.170-0.4ubuntu0.1) ...\n",
            "Setting up libtimedate-perl (2.3000-2) ...\n",
            "Setting up libcairo-script-interpreter2:amd64 (1.15.10-2ubuntu0.1) ...\n",
            "Setting up gir1.2-freedesktop:amd64 (1.56.1-1) ...\n",
            "Setting up libproxy-tools (0.4.15-1ubuntu0.2) ...\n",
            "Setting up libxpm-dev:amd64 (1:3.5.12-1) ...\n",
            "Setting up libxcb-shm0-dev:amd64 (1.13-2~ubuntu18.04) ...\n",
            "Setting up libpangoxft-1.0-0:amd64 (1.40.14-1ubuntu0.1) ...\n",
            "Setting up libxml2-utils (2.9.4+dfsg1-6.1ubuntu1.4) ...\n",
            "Setting up libarchive-cpio-perl (0.10-1) ...\n",
            "Setting up gir1.2-gdkpixbuf-2.0:amd64 (2.36.11-2) ...\n",
            "Setting up libatk1.0-dev:amd64 (2.28.1-1) ...\n",
            "Setting up libsdl1.2debian:amd64 (1.2.15+dfsg2-0.1ubuntu0.1) ...\n",
            "Setting up gettext-base (0.19.8.1-6ubuntu0.3) ...\n",
            "Setting up autoconf (2.69-11) ...\n",
            "Setting up fp-docs-3.0.4 (3.0.4+dfsg-18ubuntu2) ...\n",
            "Setting up libmagic-mgc (1:5.32-2ubuntu0.4) ...\n",
            "Setting up gir1.2-pango-1.0:amd64 (1.40.14-1ubuntu0.1) ...\n",
            "Setting up libmagic1:amd64 (1:5.32-2ubuntu0.4) ...\n",
            "Setting up libsys-hostname-long-perl (1.5-1) ...\n",
            "Setting up libmikmod3:amd64 (3.3.11.1-3) ...\n",
            "Setting up liba52-0.7.4:amd64 (0.7.4-19) ...\n",
            "Setting up libvpx-dev:amd64 (1.7.0-3ubuntu0.18.04.1) ...\n",
            "Setting up libgdk-pixbuf2.0-dev (2.36.11-2) ...\n",
            "Setting up libgd-dev:amd64 (2.2.5-4ubuntu0.5) ...\n",
            "Setting up fp-units-rtl-3.0.4:amd64 (3.0.4+dfsg-18ubuntu2) ...\n",
            "Setting up libmail-sendmail-perl (0.80-1) ...\n",
            "Setting up libxxf86dga1:amd64 (2:1.1.4-1) ...\n",
            "Setting up lazarus-src-1.8 (1.8.2+dfsg-3) ...\n",
            "Setting up libvlccore9:amd64 (3.0.8-0ubuntu18.04.1) ...\n",
            "Setting up x11proto-xinerama-dev (2018.4-4) ...\n",
            "Setting up fpc-source-3.0.4 (3.0.4+dfsg-18ubuntu2) ...\n",
            "Setting up autotools-dev (20180224.1) ...\n",
            "Setting up libpixman-1-dev:amd64 (0.34.0-2) ...\n",
            "Setting up x11proto-randr-dev (2018.4-4) ...\n",
            "Setting up libxinerama-dev:amd64 (2:1.1.3-1) ...\n",
            "Setting up automake (1:1.15.1-3ubuntu2) ...\n",
            "update-alternatives: using /usr/bin/automake-1.15 to provide /usr/bin/automake (automake) in auto mode\n",
            "Setting up liba52-0.7.4-dev (0.7.4-19) ...\n",
            "Setting up x11proto-xf86dga-dev (2018.4-4) ...\n",
            "Setting up libmikmod-config (3.3.11.1-3) ...\n",
            "Setting up libxxf86dga-dev:amd64 (2:1.1.4-1) ...\n",
            "Setting up gdbserver (8.1.1-0ubuntu1) ...\n",
            "Setting up timgm6mb-soundfont (1.3-2) ...\n",
            "Setting up libmad0:amd64 (0.15.1b-9ubuntu18.04.1) ...\n",
            "Setting up libgmpxx4ldbl:amd64 (2:6.1.2+dfsg-2) ...\n",
            "Setting up libdca0:amd64 (0.0.5-10) ...\n",
            "Setting up libmodplug-dev:amd64 (1:0.8.9.0-1) ...\n",
            "Setting up fp-utils-3.0.4 (3.0.4+dfsg-18ubuntu2) ...\n",
            "update-alternatives: using /usr/lib/x86_64-linux-gnu/fpc/3.0.4 to provide /usr/lib/x86_64-linux-gnu/fpc/default (fp-utils) in auto mode\n",
            "Setting up libslang2-dev:amd64 (2.3.1a-3ubuntu1) ...\n",
            "Setting up libfluidsynth1:amd64 (1.1.9-1) ...\n",
            "Setting up x11proto-composite-dev (1:2018.4-4) ...\n",
            "Setting up fp-ide-3.0.4 (3.0.4+dfsg-18ubuntu2) ...\n",
            "update-alternatives: using /usr/bin/fp-3.0.4 to provide /usr/bin/fp (fp) in auto mode\n",
            "Setting up libbabeltrace1:amd64 (1.5.5-1) ...\n",
            "Setting up autopoint (0.19.8.1-6ubuntu0.3) ...\n",
            "Setting up libfile-stripnondeterminism-perl (0.040-1.1~build1) ...\n",
            "Setting up fp-units-base-3.0.4:amd64 (3.0.4+dfsg-18ubuntu2) ...\n",
            "Setting up libgmp-dev:amd64 (2:6.1.2+dfsg-2) ...\n",
            "Setting up fp-units-multimedia-3.0.4:amd64 (3.0.4+dfsg-18ubuntu2) ...\n",
            "Setting up fp-units-math-3.0.4:amd64 (3.0.4+dfsg-18ubuntu2) ...\n",
            "Setting up libmad0-dev (0.15.1b-9ubuntu18.04.1) ...\n",
            "Setting up libforms-dev (1.2.3-1.3) ...\n",
            "Setting up libdca-dev:amd64 (0.0.5-10) ...\n",
            "Setting up libgtk2.0-0:amd64 (2.24.32-1ubuntu1) ...\n",
            "Setting up libvlc5:amd64 (3.0.8-0ubuntu18.04.1) ...\n",
            "Setting up libgail18:amd64 (2.24.32-1ubuntu1) ...\n",
            "Setting up libxrandr-dev:amd64 (2:1.5.1-1) ...\n",
            "Setting up libcairo2-dev:amd64 (1.15.10-2ubuntu0.1) ...\n",
            "Setting up gettext (0.19.8.1-6ubuntu0.3) ...\n",
            "Setting up libxcomposite-dev:amd64 (1:0.4.4-2) ...\n",
            "Setting up fp-units-fv-3.0.4:amd64 (3.0.4+dfsg-18ubuntu2) ...\n",
            "Setting up fp-compiler-3.0.4:amd64 (3.0.4+dfsg-18ubuntu2) ...\n",
            "update-alternatives: using /usr/bin/x86_64-linux-gnu-fpc-3.0.4 to provide /usr/bin/fpc (fpc) in auto mode\n",
            "update-alternatives: using /etc/fpc-3.0.4.cfg to provide /etc/fpc.cfg (fpc.cfg) in auto mode\n",
            "update-alternatives: using /usr/bin/fpc to provide /usr/bin/pc (pc) in auto mode\n",
            "Setting up fp-units-gfx-3.0.4:amd64 (3.0.4+dfsg-18ubuntu2) ...\n",
            "Setting up libsdl-mixer1.2:amd64 (1.2.12-14) ...\n",
            "Setting up fp-units-fcl-3.0.4:amd64 (3.0.4+dfsg-18ubuntu2) ...\n",
            "Setting up libgail-common:amd64 (2.24.32-1ubuntu1) ...\n",
            "Setting up libmikmod-dev:amd64 (3.3.11.1-3) ...\n",
            "Setting up fp-units-misc-3.0.4:amd64 (3.0.4+dfsg-18ubuntu2) ...\n",
            "Setting up libgvc6-plugins-gtk (2.40.1-2) ...\n",
            "Setting up fp-units-net-3.0.4:amd64 (3.0.4+dfsg-18ubuntu2) ...\n",
            "Setting up file (1:5.32-2ubuntu0.4) ...\n",
            "Setting up fp-units-db-3.0.4:amd64 (3.0.4+dfsg-18ubuntu2) ...\n",
            "Setting up libgraphviz-dev (2.40.1-2) ...\n",
            "Setting up intltool-debian (0.35.0+20060710.4) ...\n",
            "Setting up libcaca-dev (0.99.beta19-2ubuntu0.18.04.3) ...\n",
            "Setting up libvlc-bin:amd64 (3.0.8-0ubuntu18.04.1) ...\n",
            "Setting up lcl-utils-1.8 (1.8.2+dfsg-3) ...\n",
            "update-alternatives: using /usr/lib/lazarus/1.8.2 to provide /usr/lib/lazarus/default (lazarus) in auto mode\n",
            "Setting up libsdl1.2-dev (1.2.15+dfsg2-0.1ubuntu0.1) ...\n",
            "Setting up libvlc-dev:amd64 (3.0.8-0ubuntu18.04.1) ...\n",
            "Setting up libdts-dev:amd64 (0.0.5-10) ...\n",
            "Setting up libpango1.0-dev (1.40.14-1ubuntu0.1) ...\n",
            "Setting up fp-units-base:amd64 (3.0.4+dfsg-18ubuntu2) ...\n",
            "Setting up fp-units-fcl:amd64 (3.0.4+dfsg-18ubuntu2) ...\n",
            "Setting up gdb (8.1.1-0ubuntu1) ...\n",
            "Setting up libsdl-mixer1.2-dev:amd64 (1.2.12-14) ...\n",
            "Setting up gir1.2-gtk-2.0 (2.24.32-1ubuntu1) ...\n",
            "Setting up libgtk2.0-bin (2.24.32-1ubuntu1) ...\n",
            "Setting up libtool (2.4.6-2) ...\n",
            "Setting up lazarus-ide-1.8 (1.8.2+dfsg-3) ...\n",
            "update-alternatives: using /usr/lib/lazarus/1.8.2/startlazarus to provide /usr/bin/lazarus-ide (lazarus-ide) in auto mode\n",
            "Setting up po-debconf (1.0.20) ...\n",
            "Setting up lcl-nogui-1.8 (1.8.2+dfsg-3) ...\n",
            "Setting up libgtk2.0-dev (2.24.32-1ubuntu1) ...\n",
            "Setting up fp-units-gtk2-3.0.4:amd64 (3.0.4+dfsg-18ubuntu2) ...\n",
            "Setting up fpc-3.0.4 (3.0.4+dfsg-18ubuntu2) ...\n",
            "Setting up fp-units-gtk2:amd64 (3.0.4+dfsg-18ubuntu2) ...\n",
            "Setting up lcl-gtk2-1.8 (1.8.2+dfsg-3) ...\n",
            "Setting up lcl-units-1.8 (1.8.2+dfsg-3) ...\n",
            "Setting up fpc (3.0.4+dfsg-18ubuntu2) ...\n",
            "Setting up lcl-1.8 (1.8.2+dfsg-3) ...\n",
            "Setting up lcl (1.8.2+dfsg-3) ...\n",
            "Setting up dh-autoreconf (17) ...\n",
            "Setting up dh-strip-nondeterminism (0.040-1.1~build1) ...\n",
            "Setting up debhelper (11.1.6ubuntu2) ...\n",
            "Processing triggers for mime-support (3.60ubuntu1) ...\n",
            "Processing triggers for libc-bin (2.27-3ubuntu1.3) ...\n",
            "/sbin/ldconfig.real: /usr/local/lib/python3.7/dist-packages/ideep4py/lib/libmkldnn.so.0 is not a symbolic link\n",
            "\n",
            "Processing triggers for man-db (2.8.3-2ubuntu0.1) ...\n",
            "Processing triggers for libvlc-bin:amd64 (3.0.8-0ubuntu18.04.1) ...\n"
          ]
        }
      ]
    },
    {
      "cell_type": "code",
      "source": [
        "!sudo python -m pip install cwb-ccc"
      ],
      "metadata": {
        "colab": {
          "base_uri": "https://localhost:8080/"
        },
        "id": "o1fC9gGYmsTv",
        "outputId": "37767969-7e5e-4554-9e5d-4247a4b77dea"
      },
      "execution_count": null,
      "outputs": [
        {
          "output_type": "stream",
          "name": "stdout",
          "text": [
            "Collecting cwb-ccc\n",
            "  Using cached cwb-ccc-0.10.1.tar.gz (149 kB)\n",
            "Requirement already satisfied: association-measures>=0.1.6 in /usr/local/lib/python3.7/dist-packages (from cwb-ccc) (0.2.0)\n",
            "Requirement already satisfied: pandas>=1.2.0 in /usr/local/lib/python3.7/dist-packages (from cwb-ccc) (1.3.5)\n",
            "Requirement already satisfied: numexpr>=2.7.1 in /usr/local/lib/python3.7/dist-packages (from cwb-ccc) (2.7.3)\n",
            "Requirement already satisfied: Bottleneck>=1.3.2 in /usr/local/lib/python3.7/dist-packages (from cwb-ccc) (1.3.2)\n",
            "Requirement already satisfied: unidecode>=1.1.1 in /usr/local/lib/python3.7/dist-packages (from cwb-ccc) (1.3.2)\n",
            "Requirement already satisfied: pyyaml>=5.4.1 in /usr/local/lib/python3.7/dist-packages (from cwb-ccc) (6.0)\n",
            "Requirement already satisfied: scipy in /usr/local/lib/python3.7/dist-packages (from association-measures>=0.1.6->cwb-ccc) (1.4.1)\n",
            "Requirement already satisfied: numpy in /usr/local/lib/python3.7/dist-packages (from Bottleneck>=1.3.2->cwb-ccc) (1.19.5)\n",
            "Requirement already satisfied: pytz>=2017.3 in /usr/local/lib/python3.7/dist-packages (from pandas>=1.2.0->cwb-ccc) (2018.9)\n",
            "Requirement already satisfied: python-dateutil>=2.7.3 in /usr/local/lib/python3.7/dist-packages (from pandas>=1.2.0->cwb-ccc) (2.8.2)\n",
            "Requirement already satisfied: six>=1.5 in /usr/local/lib/python3.7/dist-packages (from python-dateutil>=2.7.3->pandas>=1.2.0->cwb-ccc) (1.15.0)\n",
            "Building wheels for collected packages: cwb-ccc\n",
            "  Building wheel for cwb-ccc (setup.py) ... \u001b[?25lerror\n",
            "\u001b[31m  ERROR: Failed building wheel for cwb-ccc\u001b[0m\n",
            "\u001b[?25h  Running setup.py clean for cwb-ccc\n",
            "Failed to build cwb-ccc\n",
            "Installing collected packages: cwb-ccc\n",
            "    Running setup.py install for cwb-ccc ... \u001b[?25l\u001b[?25herror\n",
            "\u001b[31mERROR: Command errored out with exit status 1: /usr/bin/python3 -u -c 'import io, os, sys, setuptools, tokenize; sys.argv[0] = '\"'\"'/tmp/pip-install-dknumq2w/cwb-ccc_a56059271f7d4f1f96588cf3a1c7f69a/setup.py'\"'\"'; __file__='\"'\"'/tmp/pip-install-dknumq2w/cwb-ccc_a56059271f7d4f1f96588cf3a1c7f69a/setup.py'\"'\"';f = getattr(tokenize, '\"'\"'open'\"'\"', open)(__file__) if os.path.exists(__file__) else io.StringIO('\"'\"'from setuptools import setup; setup()'\"'\"');code = f.read().replace('\"'\"'\\r\\n'\"'\"', '\"'\"'\\n'\"'\"');f.close();exec(compile(code, __file__, '\"'\"'exec'\"'\"'))' install --record /tmp/pip-record-wa33u6bl/install-record.txt --single-version-externally-managed --compile --install-headers /usr/local/include/python3.7/cwb-ccc Check the logs for full command output.\u001b[0m\n"
          ]
        }
      ]
    },
    {
      "cell_type": "code",
      "source": [
        "%cd /content/"
      ],
      "metadata": {
        "colab": {
          "base_uri": "https://localhost:8080/"
        },
        "id": "U7bz6J3dpIrw",
        "outputId": "53a5ec75-441a-468d-fc52-df200fcbf14c"
      },
      "execution_count": null,
      "outputs": [
        {
          "output_type": "stream",
          "name": "stdout",
          "text": [
            "/content\n"
          ]
        }
      ]
    },
    {
      "cell_type": "code",
      "source": [
        "!wget https://heibox.uni-heidelberg.de/f/f7c2ae00ad4045d680ed/?dl=1\n",
        "!mv index.html?dl=1 cwb_python-0.2.2-cp36-cp36m-manylinux1_x86_64.whl"
      ],
      "metadata": {
        "colab": {
          "base_uri": "https://localhost:8080/"
        },
        "id": "92m0qDOgo40I",
        "outputId": "9cd8090d-e4c9-4f72-a35c-63cdf201bcef"
      },
      "execution_count": null,
      "outputs": [
        {
          "output_type": "stream",
          "name": "stdout",
          "text": [
            "--2021-12-28 10:45:14--  https://heibox.uni-heidelberg.de/f/f7c2ae00ad4045d680ed/?dl=1\n",
            "Resolving heibox.uni-heidelberg.de (heibox.uni-heidelberg.de)... 129.206.7.113\n",
            "Connecting to heibox.uni-heidelberg.de (heibox.uni-heidelberg.de)|129.206.7.113|:443... connected.\n",
            "HTTP request sent, awaiting response... 302 Found\n",
            "Location: https://heibox.uni-heidelberg.de/seafhttp/files/358d19f6-1165-4327-b809-b5b5390db977/cwb_python-0.2.2-cp36-cp36m-manylinux1_x86_64.whl [following]\n",
            "--2021-12-28 10:45:14--  https://heibox.uni-heidelberg.de/seafhttp/files/358d19f6-1165-4327-b809-b5b5390db977/cwb_python-0.2.2-cp36-cp36m-manylinux1_x86_64.whl\n",
            "Reusing existing connection to heibox.uni-heidelberg.de:443.\n",
            "HTTP request sent, awaiting response... 200 OK\n",
            "Length: 302612 (296K) [application/octet-stream]\n",
            "Saving to: ‘index.html?dl=1’\n",
            "\n",
            "index.html?dl=1     100%[===================>] 295.52K   672KB/s    in 0.4s    \n",
            "\n",
            "2021-12-28 10:45:15 (672 KB/s) - ‘index.html?dl=1’ saved [302612/302612]\n",
            "\n"
          ]
        }
      ]
    },
    {
      "cell_type": "code",
      "source": [
        "!wget https://files.pythonhosted.org/packages/9d/cb/9f9faaf4ec9e73e32fc06403744e9a49192499636a9e8efeb876b939c74e/cwb-python-0.2.2.tar.gz"
      ],
      "metadata": {
        "colab": {
          "base_uri": "https://localhost:8080/"
        },
        "id": "SKt1dVfTpgpf",
        "outputId": "1c644aa2-a3b0-449e-ef1e-d410c6a89170"
      },
      "execution_count": null,
      "outputs": [
        {
          "output_type": "stream",
          "name": "stdout",
          "text": [
            "--2021-12-28 10:46:36--  https://files.pythonhosted.org/packages/9d/cb/9f9faaf4ec9e73e32fc06403744e9a49192499636a9e8efeb876b939c74e/cwb-python-0.2.2.tar.gz\n",
            "Resolving files.pythonhosted.org (files.pythonhosted.org)... 151.101.1.63, 151.101.65.63, 151.101.129.63, ...\n",
            "Connecting to files.pythonhosted.org (files.pythonhosted.org)|151.101.1.63|:443... connected.\n",
            "HTTP request sent, awaiting response... 200 OK\n",
            "Length: 69155 (68K) [application/octet-stream]\n",
            "Saving to: ‘cwb-python-0.2.2.tar.gz’\n",
            "\n",
            "cwb-python-0.2.2.ta 100%[===================>]  67.53K  --.-KB/s    in 0.01s   \n",
            "\n",
            "2021-12-28 10:46:37 (5.73 MB/s) - ‘cwb-python-0.2.2.tar.gz’ saved [69155/69155]\n",
            "\n"
          ]
        }
      ]
    },
    {
      "cell_type": "code",
      "source": [
        "!tar xvzf cwb-python-0.2.2.tar.gz"
      ],
      "metadata": {
        "id": "jXWAmRHLpmq0"
      },
      "execution_count": null,
      "outputs": []
    },
    {
      "cell_type": "code",
      "source": [
        "%cd cwb-python-0.2.2/"
      ],
      "metadata": {
        "colab": {
          "base_uri": "https://localhost:8080/"
        },
        "id": "bE4iMCnKrhq3",
        "outputId": "319dc164-6119-421e-a47c-e4ef66fb25d6"
      },
      "execution_count": null,
      "outputs": [
        {
          "output_type": "stream",
          "name": "stdout",
          "text": [
            "/content/cwb-python-0.2.2\n"
          ]
        }
      ]
    },
    {
      "cell_type": "code",
      "source": [
        "!echo $PATH"
      ],
      "metadata": {
        "colab": {
          "base_uri": "https://localhost:8080/"
        },
        "id": "HxSGZFp6rnXM",
        "outputId": "47545592-b6d9-406e-c456-27280f49b4f9"
      },
      "execution_count": null,
      "outputs": [
        {
          "output_type": "stream",
          "name": "stdout",
          "text": [
            "/usr/local/cwb-3.4.22/bin:/usr/local/nvidia/bin:/usr/local/cuda/bin:/usr/local/sbin:/usr/local/bin:/usr/sbin:/usr/bin:/sbin:/bin:/tools/node/bin:/tools/google-cloud-sdk/bin:/opt/bin\n"
          ]
        }
      ]
    },
    {
      "cell_type": "code",
      "source": [
        "!export CWB_DIR=/usr/local/cwb-3.4.10\n",
        "# /usr/local/cwb-3.4.22/bin"
      ],
      "metadata": {
        "id": "KqxsSReWsTnd"
      },
      "execution_count": null,
      "outputs": []
    },
    {
      "cell_type": "code",
      "source": [
        "!pwd"
      ],
      "metadata": {
        "colab": {
          "base_uri": "https://localhost:8080/"
        },
        "id": "nizd1Phlsf5Z",
        "outputId": "0124f5b2-b4e4-4766-fd6e-f00d579bb084"
      },
      "execution_count": null,
      "outputs": [
        {
          "output_type": "stream",
          "name": "stdout",
          "text": [
            "/content/cwb-python-0.2.2\n"
          ]
        }
      ]
    },
    {
      "cell_type": "code",
      "source": [
        "!python setup.py build"
      ],
      "metadata": {
        "id": "WfN8LWdmsuZV"
      },
      "execution_count": null,
      "outputs": []
    },
    {
      "cell_type": "code",
      "source": [
        "%cd /content/"
      ],
      "metadata": {
        "colab": {
          "base_uri": "https://localhost:8080/"
        },
        "id": "2GUvbRtpu6sr",
        "outputId": "3d9fb1ad-1055-426f-90e4-6c05675be0a3"
      },
      "execution_count": null,
      "outputs": [
        {
          "output_type": "stream",
          "name": "stdout",
          "text": [
            "/content\n"
          ]
        }
      ]
    },
    {
      "cell_type": "code",
      "source": [
        "!pip install cwb_python-0.2.2-cp36-cp36m-manylinux1_x86_64.whl"
      ],
      "metadata": {
        "colab": {
          "base_uri": "https://localhost:8080/"
        },
        "id": "QfhJrNSiu-kY",
        "outputId": "ce845974-a828-40f4-9e22-3501a0dd2bc9"
      },
      "execution_count": null,
      "outputs": [
        {
          "output_type": "stream",
          "name": "stdout",
          "text": [
            "\u001b[31mERROR: cwb_python-0.2.2-cp36-cp36m-manylinux1_x86_64.whl is not a supported wheel on this platform.\u001b[0m\n"
          ]
        }
      ]
    },
    {
      "cell_type": "code",
      "source": [
        "!python --version"
      ],
      "metadata": {
        "colab": {
          "base_uri": "https://localhost:8080/"
        },
        "id": "GdqTG_2BvkTq",
        "outputId": "28b49c38-a7bb-45b7-8e31-dbe6e0525001"
      },
      "execution_count": null,
      "outputs": [
        {
          "output_type": "stream",
          "name": "stdout",
          "text": [
            "Python 3.7.12\n"
          ]
        }
      ]
    }
  ]
}