{
  "nbformat": 4,
  "nbformat_minor": 0,
  "metadata": {
    "colab": {
      "name": "Untitled23.ipynb",
      "provenance": [],
      "authorship_tag": "ABX9TyN7JgVGXxwqOH+9nV4nlyII",
      "include_colab_link": true
    },
    "kernelspec": {
      "name": "python3",
      "display_name": "Python 3"
    },
    "language_info": {
      "name": "python"
    }
  },
  "cells": [
    {
      "cell_type": "markdown",
      "metadata": {
        "id": "view-in-github",
        "colab_type": "text"
      },
      "source": [
        "<a href=\"https://colab.research.google.com/github/bogdanbabych/experiments_NLTK/blob/main/Untitled23.ipynb\" target=\"_parent\"><img src=\"https://colab.research.google.com/assets/colab-badge.svg\" alt=\"Open In Colab\"/></a>"
      ]
    },
    {
      "cell_type": "code",
      "execution_count": 1,
      "metadata": {
        "colab": {
          "base_uri": "https://localhost:8080/"
        },
        "id": "GnzktNNIE-aX",
        "outputId": "f413bd1e-ff60-4bee-a7d1-964317684525"
      },
      "outputs": [
        {
          "output_type": "stream",
          "name": "stdout",
          "text": [
            "--2022-04-28 07:30:44--  https://heibox.uni-heidelberg.de/f/600002b509f54bc9810b/?dl=1\n",
            "Resolving heibox.uni-heidelberg.de (heibox.uni-heidelberg.de)... 129.206.7.113\n",
            "Connecting to heibox.uni-heidelberg.de (heibox.uni-heidelberg.de)|129.206.7.113|:443... connected.\n",
            "HTTP request sent, awaiting response... 302 Found\n",
            "Location: https://heibox.uni-heidelberg.de/seafhttp/files/12a77c96-1b1c-485f-8a38-4743ea9075b2/news-de.out.gz [following]\n",
            "--2022-04-28 07:30:45--  https://heibox.uni-heidelberg.de/seafhttp/files/12a77c96-1b1c-485f-8a38-4743ea9075b2/news-de.out.gz\n",
            "Reusing existing connection to heibox.uni-heidelberg.de:443.\n",
            "HTTP request sent, awaiting response... 200 OK\n",
            "Length: 2423341644 (2.3G) [application/octet-stream]\n",
            "Saving to: ‘index.html?dl=1’\n",
            "\n",
            "index.html?dl=1     100%[===================>]   2.26G  14.9MB/s    in 2m 35s  \n",
            "\n",
            "2022-04-28 07:33:20 (14.9 MB/s) - ‘index.html?dl=1’ saved [2423341644/2423341644]\n",
            "\n"
          ]
        }
      ],
      "source": [
        "!wget https://heibox.uni-heidelberg.de/f/600002b509f54bc9810b/?dl=1"
      ]
    },
    {
      "cell_type": "code",
      "source": [
        "!mv index.html?dl=1 news-de.out.gz"
      ],
      "metadata": {
        "id": "U6iy4cVJFKfl"
      },
      "execution_count": 2,
      "outputs": []
    },
    {
      "cell_type": "code",
      "source": [
        "!gunzip news-de.out.gz"
      ],
      "metadata": {
        "id": "ufYhk-hRFHsY"
      },
      "execution_count": 3,
      "outputs": []
    },
    {
      "cell_type": "code",
      "source": [
        "!wc news-de.out"
      ],
      "metadata": {
        "id": "Su1vmIKcFcdz"
      },
      "execution_count": null,
      "outputs": []
    },
    {
      "cell_type": "code",
      "source": [
        "!awk -F '\\t' '(NF==1){printf \"%s \", $1; if(FNR % 10000 == 0){printf \"\\n\"}}' < news-de.out >news-de.txt"
      ],
      "metadata": {
        "id": "yjIQOa3LGV_H"
      },
      "execution_count": 4,
      "outputs": []
    },
    {
      "cell_type": "code",
      "source": [
        "!head --lines=20 news-de.txt"
      ],
      "metadata": {
        "id": "JQCvMbPnJBD2"
      },
      "execution_count": null,
      "outputs": []
    },
    {
      "cell_type": "code",
      "source": [
        "!cp news-de.txt news-de-2.txt"
      ],
      "metadata": {
        "id": "oLrEaP0eJcer"
      },
      "execution_count": 6,
      "outputs": []
    },
    {
      "cell_type": "code",
      "source": [
        "!gzip news-de.txt"
      ],
      "metadata": {
        "id": "5nLYlzQXJijZ"
      },
      "execution_count": null,
      "outputs": []
    },
    {
      "cell_type": "code",
      "source": [
        "!wc news-de.txt"
      ],
      "metadata": {
        "id": "FQ0vyqGiIJuC"
      },
      "execution_count": null,
      "outputs": []
    }
  ]
}