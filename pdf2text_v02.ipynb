{
  "nbformat": 4,
  "nbformat_minor": 0,
  "metadata": {
    "colab": {
      "provenance": [],
      "authorship_tag": "ABX9TyNcNr6/lZ00KWm978nXHkfx",
      "include_colab_link": true
    },
    "kernelspec": {
      "name": "python3",
      "display_name": "Python 3"
    },
    "language_info": {
      "name": "python"
    }
  },
  "cells": [
    {
      "cell_type": "markdown",
      "metadata": {
        "id": "view-in-github",
        "colab_type": "text"
      },
      "source": [
        "<a href=\"https://colab.research.google.com/github/bogdanbabych/experiments_NLTK/blob/main/pdf2text_v02.ipynb\" target=\"_parent\"><img src=\"https://colab.research.google.com/assets/colab-badge.svg\" alt=\"Open In Colab\"/></a>"
      ]
    },
    {
      "cell_type": "code",
      "execution_count": 3,
      "metadata": {
        "colab": {
          "base_uri": "https://localhost:8080/"
        },
        "id": "SxnswmkePRiw",
        "outputId": "bba43c2f-5b0c-4f74-c9f3-429a6b61bc56"
      },
      "outputs": [
        {
          "output_type": "stream",
          "name": "stdout",
          "text": [
            "\u001b[2K     \u001b[90m━━━━━━━━━━━━━━━━━━━━━━━━━━━━━━━━━━━━━━━━\u001b[0m \u001b[32m46.1/46.1 kB\u001b[0m \u001b[31m1.8 MB/s\u001b[0m eta \u001b[36m0:00:00\u001b[0m\n",
            "\u001b[2K     \u001b[90m━━━━━━━━━━━━━━━━━━━━━━━━━━━━━━━━━━━━━━━━\u001b[0m \u001b[32m5.6/5.6 MB\u001b[0m \u001b[31m45.8 MB/s\u001b[0m eta \u001b[36m0:00:00\u001b[0m\n",
            "\u001b[2K     \u001b[90m━━━━━━━━━━━━━━━━━━━━━━━━━━━━━━━━━━━━━━━━\u001b[0m \u001b[32m3.4/3.4 MB\u001b[0m \u001b[31m83.7 MB/s\u001b[0m eta \u001b[36m0:00:00\u001b[0m\n",
            "\u001b[2K     \u001b[90m━━━━━━━━━━━━━━━━━━━━━━━━━━━━━━━━━━━━━━\u001b[0m \u001b[32m143.6/143.6 kB\u001b[0m \u001b[31m14.8 MB/s\u001b[0m eta \u001b[36m0:00:00\u001b[0m\n",
            "\u001b[?25h"
          ]
        }
      ],
      "source": [
        "pip install pdfplumber -q"
      ]
    },
    {
      "cell_type": "code",
      "source": [
        "import pdfplumber"
      ],
      "metadata": {
        "id": "g01-7KyJQcRU"
      },
      "execution_count": 5,
      "outputs": []
    },
    {
      "cell_type": "code",
      "source": [
        "pdf2 = pdfplumber.open('/content/file2.pdf')"
      ],
      "metadata": {
        "id": "fTVVhmllQNnc"
      },
      "execution_count": 13,
      "outputs": []
    },
    {
      "cell_type": "code",
      "source": [
        "len(pdf2.pages)"
      ],
      "metadata": {
        "colab": {
          "base_uri": "https://localhost:8080/"
        },
        "id": "Y0Lrw5TBQ1Yz",
        "outputId": "a7f25453-2fcb-4f1d-b71c-1dd20dcc3093"
      },
      "execution_count": 14,
      "outputs": [
        {
          "output_type": "execute_result",
          "data": {
            "text/plain": [
              "3"
            ]
          },
          "metadata": {},
          "execution_count": 14
        }
      ]
    },
    {
      "cell_type": "code",
      "source": [
        "page = pdf.pages[2]"
      ],
      "metadata": {
        "id": "FnWXNdetQd5T"
      },
      "execution_count": 21,
      "outputs": []
    },
    {
      "cell_type": "code",
      "source": [
        "text = page.extract_text()"
      ],
      "metadata": {
        "id": "dbWIzzpzQmBM"
      },
      "execution_count": 22,
      "outputs": []
    },
    {
      "cell_type": "code",
      "source": [
        "print(text)"
      ],
      "metadata": {
        "colab": {
          "base_uri": "https://localhost:8080/"
        },
        "id": "HVT15YBPQs_b",
        "outputId": "4a0ac6c1-49ec-46ba-ef94-9dd071615eed"
      },
      "execution_count": 23,
      "outputs": [
        {
          "output_type": "stream",
          "name": "stdout",
          "text": [
            "տեխնիկական սպասարկումը, կամ գործունեությունն է ՝ կապված այդ անձանց\n",
            "այդպիսի ավիացիոն շարժիչներով, պահեստամասերով և սարքավորումներով\n",
            "ապահովելու հետ։\n",
            "Սույն կետով նախատեսված՝ ապրանքների օգտագործման և (կամ)\n",
            "տնօրինման հետ կապված սահմանափակումները գործում են մինչև ավիացիոն\n",
            "շարժիչները, պահեստամասերը և սարքավորումներն օգտագործելը՝\n",
            "քաղաքացիական ուղևորատար ինքնաթիռների և (կամ) դրանց շարժիչների\n",
            "վերանորոգման և (կամ) տեխնիկական սպասարկման համար:\n",
            "3. Սույն որոշումն ուժի մեջ է մտնում դրա պաշտոնական հրապարակման\n",
            "օրվանից 10 օրացուցային օրը լրանալուց հետո։\n",
            "Եվրասիական տնտեսական հանձնաժողովի խորհրդի անդամներ՝\n",
            "Հայաստանի Բելառուսի Ղազախստանի Ղրղզստանի Ռուսաստանի\n",
            "Հանրապետությունից՝ Հանրապետությունից՝ Հանրապետությունից՝ Հանրապետությունից՝ Դաշնությունից՝\n",
            "Մ. Գրիգորյան Ի. Պետրիշենկո Բ. Սուլթանով Ա․Կոժոշև Ա. Օվերչուկ\n",
            "Պաշտոնական հրապարակման օրը՝ 4 մայիսի 2023 թվական:\n",
            "3\n"
          ]
        }
      ]
    }
  ]
}