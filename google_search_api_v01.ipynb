{
  "nbformat": 4,
  "nbformat_minor": 0,
  "metadata": {
    "colab": {
      "provenance": [],
      "authorship_tag": "ABX9TyNuGXLUiSoopXtsHQDKHjA4",
      "include_colab_link": true
    },
    "kernelspec": {
      "name": "python3",
      "display_name": "Python 3"
    },
    "language_info": {
      "name": "python"
    }
  },
  "cells": [
    {
      "cell_type": "markdown",
      "metadata": {
        "id": "view-in-github",
        "colab_type": "text"
      },
      "source": [
        "<a href=\"https://colab.research.google.com/github/bogdanbabych/experiments_NLTK/blob/main/google_search_api_v01.ipynb\" target=\"_parent\"><img src=\"https://colab.research.google.com/assets/colab-badge.svg\" alt=\"Open In Colab\"/></a>"
      ]
    },
    {
      "cell_type": "code",
      "execution_count": 1,
      "metadata": {
        "colab": {
          "base_uri": "https://localhost:8080/"
        },
        "id": "60vpA9acm3N0",
        "outputId": "62b13c00-e59c-4e6a-c6dd-416d1bc34134"
      },
      "outputs": [
        {
          "output_type": "stream",
          "name": "stdout",
          "text": [
            "Requirement already satisfied: google in /usr/local/lib/python3.11/dist-packages (2.0.3)\n",
            "Requirement already satisfied: beautifulsoup4 in /usr/local/lib/python3.11/dist-packages (from google) (4.13.4)\n",
            "Requirement already satisfied: soupsieve>1.2 in /usr/local/lib/python3.11/dist-packages (from beautifulsoup4->google) (2.7)\n",
            "Requirement already satisfied: typing-extensions>=4.0.0 in /usr/local/lib/python3.11/dist-packages (from beautifulsoup4->google) (4.13.2)\n"
          ]
        }
      ],
      "source": [
        "!pip install google"
      ]
    },
    {
      "cell_type": "code",
      "source": [
        "from googlesearch import search"
      ],
      "metadata": {
        "id": "8td0XY2Xm9bT"
      },
      "execution_count": 2,
      "outputs": []
    },
    {
      "cell_type": "code",
      "source": [
        "query = \"Tree adjoining grammar\""
      ],
      "metadata": {
        "id": "ypqegF2tnDZ8"
      },
      "execution_count": 3,
      "outputs": []
    },
    {
      "cell_type": "code",
      "source": [
        "for url in search(query, tld=\"co.in\", num=10, stop=10, pause=2):\n",
        "    print(url)"
      ],
      "metadata": {
        "colab": {
          "base_uri": "https://localhost:8080/"
        },
        "id": "lTWVXoI-nUr-",
        "outputId": "b38e9854-1349-4646-a6e9-30555cd6bdb8"
      },
      "execution_count": 4,
      "outputs": [
        {
          "output_type": "stream",
          "name": "stdout",
          "text": [
            "https://en.wikipedia.org/wiki/Tree-adjoining_grammar\n",
            "https://www.ling.upenn.edu/~kroch/courses/lx550/readings/joshi_TAG_intro.pdf\n",
            "https://citeseerx.ist.psu.edu/document?repid=rep1&type=pdf&doi=4856f0b70e93ec66273fb812c57e0ac08d41b000\n",
            "https://www.researchgate.net/figure/Tree-Adjoining-Grammar-for-Kasumigaura-Model_fig3_227015505\n",
            "https://www.cl.cam.ac.uk/~ws390/course/syntax/tag.pdf\n",
            "https://www.let.rug.nl/vannoord/papers/diss/diss/node59.html\n",
            "https://arxiv.org/abs/cs/9809024\n",
            "https://www.cis.upenn.edu/~xtag/tech-report/\n",
            "https://www.sciencedirect.com/science/article/pii/S0304397598000905\n",
            "https://cdn.aaai.org/ocs/15330/15330-68218-1-PB.pdf\n"
          ]
        }
      ]
    },
    {
      "cell_type": "code",
      "source": [
        "for url in search(query, tld=\"de\", num=10, stop=10, pause=2):\n",
        "    print(url)"
      ],
      "metadata": {
        "colab": {
          "base_uri": "https://localhost:8080/"
        },
        "id": "RTnC2AcYCSdd",
        "outputId": "8e3303be-ffd1-48ac-eaab-2b70cb24a98c"
      },
      "execution_count": 5,
      "outputs": [
        {
          "output_type": "stream",
          "name": "stdout",
          "text": [
            "https://en.wikipedia.org/wiki/Tree-adjoining_grammar\n",
            "https://www.ling.upenn.edu/~kroch/courses/lx550/readings/joshi_TAG_intro.pdf\n",
            "https://citeseerx.ist.psu.edu/document?repid=rep1&type=pdf&doi=4856f0b70e93ec66273fb812c57e0ac08d41b000\n",
            "https://www.researchgate.net/figure/Tree-Adjoining-Grammar-for-Kasumigaura-Model_fig3_227015505\n",
            "https://www.cl.cam.ac.uk/~ws390/course/syntax/tag.pdf\n",
            "https://www.let.rug.nl/vannoord/papers/diss/diss/node59.html\n",
            "https://arxiv.org/abs/cs/9809024\n",
            "https://www.cis.upenn.edu/~xtag/tech-report/\n",
            "https://www.sciencedirect.com/science/article/pii/S0304397598000905\n",
            "https://link.springer.com/content/pdf/10.1007/978-3-642-14846-0_4.pdf\n"
          ]
        }
      ]
    }
  ]
}